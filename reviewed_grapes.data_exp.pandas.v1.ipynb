{
 "cells": [
  {
   "cell_type": "markdown",
   "id": "1c7775f7-f307-4415-9003-abad9aef0e5d",
   "metadata": {},
   "source": [
    "# Initial Data Exploration\n",
    "\n",
    "---\n",
    "---\n",
    "## The Dataset\n",
    "\n",
    "The dataset consists of ~150k wine reviews that were scraped from the [WineEnthusiast](http://www.winemag.com/?s=&drink_type=wine) websiet in 2017.\n",
    "It is released under [CC BY-NC_SA 4.0](https://creativecommons.org/licenses/by-nc-sa/4.0/) license and can be [downloaded on kaggle](https://www.kaggle.com/zynicide/wine-reviews).\n",
    "\n",
    "Each review contains additional information about the wine (designation, country, province, region, winery, variety and price), the reviewer (identifier) and the review (text, score [1-100])"
   ]
  },
  {
   "cell_type": "markdown",
   "id": "3ff032ab-f626-46ed-b7d6-6467d1d38c9f",
   "metadata": {},
   "source": [
    "---\n",
    "Start with some installs"
   ]
  },
  {
   "cell_type": "code",
   "execution_count": 1,
   "id": "56992665-9a5d-4d73-babf-72e0751c9dec",
   "metadata": {
    "scrolled": true,
    "tags": []
   },
   "outputs": [],
   "source": [
    "import os\n",
    "import numpy as np\n",
    "import pandas as pd\n",
    "from matplotlib import pyplot as plt\n",
    "from IPython.display import Markdown, display\n",
    "%matplotlib inline\n",
    "def warn(string):\n",
    "    display(Markdown('<span style=\"color:red\">'+string+'</span>'))\n",
    "def info(string):\n",
    "    display(Markdown('<span style=\"color:blue\">'+string+'</span>'))"
   ]
  },
  {
   "cell_type": "markdown",
   "id": "2aa005a0-aeaf-4b8c-af5f-5a381422b9ff",
   "metadata": {},
   "source": [
    "**Let's load the dataset and have a first look!**"
   ]
  },
  {
   "cell_type": "code",
   "execution_count": 6,
   "id": "34054273-506b-4e62-abca-5119783da1f4",
   "metadata": {
    "tags": []
   },
   "outputs": [
    {
     "data": {
      "text/html": [
       "<div>\n",
       "<style scoped>\n",
       "    .dataframe tbody tr th:only-of-type {\n",
       "        vertical-align: middle;\n",
       "    }\n",
       "\n",
       "    .dataframe tbody tr th {\n",
       "        vertical-align: top;\n",
       "    }\n",
       "\n",
       "    .dataframe thead th {\n",
       "        text-align: right;\n",
       "    }\n",
       "</style>\n",
       "<table border=\"1\" class=\"dataframe\">\n",
       "  <thead>\n",
       "    <tr style=\"text-align: right;\">\n",
       "      <th></th>\n",
       "      <th>Unnamed: 0</th>\n",
       "      <th>country</th>\n",
       "      <th>description</th>\n",
       "      <th>designation</th>\n",
       "      <th>points</th>\n",
       "      <th>price</th>\n",
       "      <th>province</th>\n",
       "      <th>region_1</th>\n",
       "      <th>region_2</th>\n",
       "      <th>taster_name</th>\n",
       "      <th>taster_twitter_handle</th>\n",
       "      <th>title</th>\n",
       "      <th>variety</th>\n",
       "      <th>winery</th>\n",
       "    </tr>\n",
       "  </thead>\n",
       "  <tbody>\n",
       "    <tr>\n",
       "      <th>0</th>\n",
       "      <td>0</td>\n",
       "      <td>Italy</td>\n",
       "      <td>Aromas include tropical fruit, broom, brimston...</td>\n",
       "      <td>Vulkà Bianco</td>\n",
       "      <td>87</td>\n",
       "      <td>NaN</td>\n",
       "      <td>Sicily &amp; Sardinia</td>\n",
       "      <td>Etna</td>\n",
       "      <td>NaN</td>\n",
       "      <td>Kerin O’Keefe</td>\n",
       "      <td>@kerinokeefe</td>\n",
       "      <td>Nicosia 2013 Vulkà Bianco  (Etna)</td>\n",
       "      <td>White Blend</td>\n",
       "      <td>Nicosia</td>\n",
       "    </tr>\n",
       "    <tr>\n",
       "      <th>1</th>\n",
       "      <td>1</td>\n",
       "      <td>Portugal</td>\n",
       "      <td>This is ripe and fruity, a wine that is smooth...</td>\n",
       "      <td>Avidagos</td>\n",
       "      <td>87</td>\n",
       "      <td>15.0</td>\n",
       "      <td>Douro</td>\n",
       "      <td>NaN</td>\n",
       "      <td>NaN</td>\n",
       "      <td>Roger Voss</td>\n",
       "      <td>@vossroger</td>\n",
       "      <td>Quinta dos Avidagos 2011 Avidagos Red (Douro)</td>\n",
       "      <td>Portuguese Red</td>\n",
       "      <td>Quinta dos Avidagos</td>\n",
       "    </tr>\n",
       "    <tr>\n",
       "      <th>2</th>\n",
       "      <td>2</td>\n",
       "      <td>US</td>\n",
       "      <td>Tart and snappy, the flavors of lime flesh and...</td>\n",
       "      <td>NaN</td>\n",
       "      <td>87</td>\n",
       "      <td>14.0</td>\n",
       "      <td>Oregon</td>\n",
       "      <td>Willamette Valley</td>\n",
       "      <td>Willamette Valley</td>\n",
       "      <td>Paul Gregutt</td>\n",
       "      <td>@paulgwine</td>\n",
       "      <td>Rainstorm 2013 Pinot Gris (Willamette Valley)</td>\n",
       "      <td>Pinot Gris</td>\n",
       "      <td>Rainstorm</td>\n",
       "    </tr>\n",
       "    <tr>\n",
       "      <th>3</th>\n",
       "      <td>3</td>\n",
       "      <td>US</td>\n",
       "      <td>Pineapple rind, lemon pith and orange blossom ...</td>\n",
       "      <td>Reserve Late Harvest</td>\n",
       "      <td>87</td>\n",
       "      <td>13.0</td>\n",
       "      <td>Michigan</td>\n",
       "      <td>Lake Michigan Shore</td>\n",
       "      <td>NaN</td>\n",
       "      <td>Alexander Peartree</td>\n",
       "      <td>NaN</td>\n",
       "      <td>St. Julian 2013 Reserve Late Harvest Riesling ...</td>\n",
       "      <td>Riesling</td>\n",
       "      <td>St. Julian</td>\n",
       "    </tr>\n",
       "    <tr>\n",
       "      <th>4</th>\n",
       "      <td>4</td>\n",
       "      <td>US</td>\n",
       "      <td>Much like the regular bottling from 2012, this...</td>\n",
       "      <td>Vintner's Reserve Wild Child Block</td>\n",
       "      <td>87</td>\n",
       "      <td>65.0</td>\n",
       "      <td>Oregon</td>\n",
       "      <td>Willamette Valley</td>\n",
       "      <td>Willamette Valley</td>\n",
       "      <td>Paul Gregutt</td>\n",
       "      <td>@paulgwine</td>\n",
       "      <td>Sweet Cheeks 2012 Vintner's Reserve Wild Child...</td>\n",
       "      <td>Pinot Noir</td>\n",
       "      <td>Sweet Cheeks</td>\n",
       "    </tr>\n",
       "  </tbody>\n",
       "</table>\n",
       "</div>"
      ],
      "text/plain": [
       "   Unnamed: 0   country                                        description  \\\n",
       "0           0     Italy  Aromas include tropical fruit, broom, brimston...   \n",
       "1           1  Portugal  This is ripe and fruity, a wine that is smooth...   \n",
       "2           2        US  Tart and snappy, the flavors of lime flesh and...   \n",
       "3           3        US  Pineapple rind, lemon pith and orange blossom ...   \n",
       "4           4        US  Much like the regular bottling from 2012, this...   \n",
       "\n",
       "                          designation  points  price           province  \\\n",
       "0                        Vulkà Bianco      87    NaN  Sicily & Sardinia   \n",
       "1                            Avidagos      87   15.0              Douro   \n",
       "2                                 NaN      87   14.0             Oregon   \n",
       "3                Reserve Late Harvest      87   13.0           Michigan   \n",
       "4  Vintner's Reserve Wild Child Block      87   65.0             Oregon   \n",
       "\n",
       "              region_1           region_2         taster_name  \\\n",
       "0                 Etna                NaN       Kerin O’Keefe   \n",
       "1                  NaN                NaN          Roger Voss   \n",
       "2    Willamette Valley  Willamette Valley        Paul Gregutt   \n",
       "3  Lake Michigan Shore                NaN  Alexander Peartree   \n",
       "4    Willamette Valley  Willamette Valley        Paul Gregutt   \n",
       "\n",
       "  taster_twitter_handle                                              title  \\\n",
       "0          @kerinokeefe                  Nicosia 2013 Vulkà Bianco  (Etna)   \n",
       "1            @vossroger      Quinta dos Avidagos 2011 Avidagos Red (Douro)   \n",
       "2           @paulgwine       Rainstorm 2013 Pinot Gris (Willamette Valley)   \n",
       "3                   NaN  St. Julian 2013 Reserve Late Harvest Riesling ...   \n",
       "4           @paulgwine   Sweet Cheeks 2012 Vintner's Reserve Wild Child...   \n",
       "\n",
       "          variety               winery  \n",
       "0     White Blend              Nicosia  \n",
       "1  Portuguese Red  Quinta dos Avidagos  \n",
       "2      Pinot Gris            Rainstorm  \n",
       "3        Riesling           St. Julian  \n",
       "4      Pinot Noir         Sweet Cheeks  "
      ]
     },
     "execution_count": 6,
     "metadata": {},
     "output_type": "execute_result"
    }
   ],
   "source": [
    "wr_df = pd.read_csv('data/winemag-data-130k-v2.csv')\n",
    "wr_df.head(5)"
   ]
  },
  {
   "cell_type": "markdown",
   "id": "0c922de5-5182-4406-9a55-369d4a8c9e82",
   "metadata": {},
   "source": [
    "Since we are dealing with text, making all lowercase makes it simpler to spot duplicates:\n",
    "\n",
    "**We work with lowercase words only!**"
   ]
  },
  {
   "cell_type": "code",
   "execution_count": 3,
   "id": "0a818e8b-d020-4a02-9398-299db60514ca",
   "metadata": {},
   "outputs": [],
   "source": [
    "for col in wr_df.columns:\n",
    "    wr_df[col] = wr_df[col].apply(lambda x: x.lower() if isinstance(x, str) else x)"
   ]
  },
  {
   "cell_type": "markdown",
   "id": "dce95e58-623d-4783-bd8a-13a7591bfccb",
   "metadata": {},
   "source": [
    "---\n",
    "---\n",
    "## Data Quality Assessment & Data Exploration\n",
    "\n",
    "Relevant for our analysis are the **description** and the **variety** columns.\n",
    "\n",
    "**Data Quality:**\n",
    "- Are there duplicate entries?\n",
    "- Are there entries where one of the relevant columns is missing?\n",
    "- Are there entries for which the `variety` is explicitely mentioned in the `description` column?\n",
    "- Are the varieties categorized or do spelling errors exist?\n",
    "\n",
    "**Exploration:**\n",
    "- How many varieties are there?\n",
    "- How are the varieties distributed?\n",
    "- How long are the reviews?\n",
    "- Do price, rating and the length of review correlate? (exploratory)"
   ]
  },
  {
   "cell_type": "markdown",
   "id": "37b686ca-97f6-4c09-aadf-ad5641163457",
   "metadata": {},
   "source": [
    "---\n",
    "### Data Quality:\n",
    "**Are there duplicate entries?**\n"
   ]
  },
  {
   "cell_type": "code",
   "execution_count": 4,
   "id": "23c144ca-f061-4554-84c7-c4f1fff8ef05",
   "metadata": {},
   "outputs": [
    {
     "data": {
      "text/markdown": [
       "<span style=\"color:blue\">Checking uniqueness of column `description`</span>"
      ],
      "text/plain": [
       "<IPython.core.display.Markdown object>"
      ]
     },
     "metadata": {},
     "output_type": "display_data"
    },
    {
     "data": {
      "text/markdown": [
       "<span style=\"color:red\">it contains 10016 duplicates.</span>"
      ],
      "text/plain": [
       "<IPython.core.display.Markdown object>"
      ]
     },
     "metadata": {},
     "output_type": "display_data"
    }
   ],
   "source": [
    "# Check if the description column contains duplicates\n",
    "for column in ['description']:\n",
    "    info(f'Checking uniqueness of column `{column}`')\n",
    "    nbr_all_entries = wr_df[column].size\n",
    "    nbr_unique_entreis = wr_df[column].unique().size\n",
    "    if nbr_all_entries != nbr_unique_entreis:\n",
    "        warn(f'it contains {nbr_all_entries - nbr_unique_entreis} duplicates.')\n",
    "    else:\n",
    "        info(f'no duplicates')"
   ]
  },
  {
   "cell_type": "code",
   "execution_count": 5,
   "id": "55e12d77-8b36-49c1-a1e0-437518bb58ec",
   "metadata": {
    "tags": []
   },
   "outputs": [
    {
     "data": {
      "text/markdown": [
       "---"
      ],
      "text/plain": [
       "<IPython.core.display.Markdown object>"
      ]
     },
     "metadata": {},
     "output_type": "display_data"
    },
    {
     "data": {
      "text/html": [
       "<div>\n",
       "<style scoped>\n",
       "    .dataframe tbody tr th:only-of-type {\n",
       "        vertical-align: middle;\n",
       "    }\n",
       "\n",
       "    .dataframe tbody tr th {\n",
       "        vertical-align: top;\n",
       "    }\n",
       "\n",
       "    .dataframe thead th {\n",
       "        text-align: right;\n",
       "    }\n",
       "</style>\n",
       "<table border=\"1\" class=\"dataframe\">\n",
       "  <thead>\n",
       "    <tr style=\"text-align: right;\">\n",
       "      <th></th>\n",
       "      <th>Unnamed: 0</th>\n",
       "      <th>country</th>\n",
       "      <th>description</th>\n",
       "      <th>designation</th>\n",
       "      <th>points</th>\n",
       "      <th>price</th>\n",
       "      <th>province</th>\n",
       "      <th>region_1</th>\n",
       "      <th>region_2</th>\n",
       "      <th>taster_name</th>\n",
       "      <th>taster_twitter_handle</th>\n",
       "      <th>title</th>\n",
       "      <th>variety</th>\n",
       "      <th>winery</th>\n",
       "    </tr>\n",
       "  </thead>\n",
       "  <tbody>\n",
       "    <tr>\n",
       "      <th>13143</th>\n",
       "      <td>13143</td>\n",
       "      <td>us</td>\n",
       "      <td>cigar box, café au lait, and dried tobacco aro...</td>\n",
       "      <td>estate grown</td>\n",
       "      <td>88</td>\n",
       "      <td>30.0</td>\n",
       "      <td>washington</td>\n",
       "      <td>red mountain</td>\n",
       "      <td>columbia valley</td>\n",
       "      <td>sean p. sullivan</td>\n",
       "      <td>@wawinereport</td>\n",
       "      <td>ambassador vineyard 2013 estate grown syrah (r...</td>\n",
       "      <td>syrah</td>\n",
       "      <td>ambassador vineyard</td>\n",
       "    </tr>\n",
       "    <tr>\n",
       "      <th>25181</th>\n",
       "      <td>25181</td>\n",
       "      <td>us</td>\n",
       "      <td>cigar box, café au lait, and dried tobacco aro...</td>\n",
       "      <td>estate grown</td>\n",
       "      <td>88</td>\n",
       "      <td>30.0</td>\n",
       "      <td>washington</td>\n",
       "      <td>red mountain</td>\n",
       "      <td>columbia valley</td>\n",
       "      <td>sean p. sullivan</td>\n",
       "      <td>@wawinereport</td>\n",
       "      <td>ambassador vineyard 2013 estate grown syrah (r...</td>\n",
       "      <td>syrah</td>\n",
       "      <td>ambassador vineyard</td>\n",
       "    </tr>\n",
       "    <tr>\n",
       "      <th>25182</th>\n",
       "      <td>25182</td>\n",
       "      <td>us</td>\n",
       "      <td>cigar box, café au lait, and dried tobacco aro...</td>\n",
       "      <td>estate</td>\n",
       "      <td>88</td>\n",
       "      <td>30.0</td>\n",
       "      <td>washington</td>\n",
       "      <td>red mountain</td>\n",
       "      <td>columbia valley</td>\n",
       "      <td>sean p. sullivan</td>\n",
       "      <td>@wawinereport</td>\n",
       "      <td>ambassador vineyard 2013 estate syrah (red mou...</td>\n",
       "      <td>syrah</td>\n",
       "      <td>ambassador vineyard</td>\n",
       "    </tr>\n",
       "  </tbody>\n",
       "</table>\n",
       "</div>"
      ],
      "text/plain": [
       "       Unnamed: 0 country                                        description  \\\n",
       "13143       13143      us  cigar box, café au lait, and dried tobacco aro...   \n",
       "25181       25181      us  cigar box, café au lait, and dried tobacco aro...   \n",
       "25182       25182      us  cigar box, café au lait, and dried tobacco aro...   \n",
       "\n",
       "        designation  points  price    province      region_1         region_2  \\\n",
       "13143  estate grown      88   30.0  washington  red mountain  columbia valley   \n",
       "25181  estate grown      88   30.0  washington  red mountain  columbia valley   \n",
       "25182        estate      88   30.0  washington  red mountain  columbia valley   \n",
       "\n",
       "            taster_name taster_twitter_handle  \\\n",
       "13143  sean p. sullivan         @wawinereport   \n",
       "25181  sean p. sullivan         @wawinereport   \n",
       "25182  sean p. sullivan         @wawinereport   \n",
       "\n",
       "                                                   title variety  \\\n",
       "13143  ambassador vineyard 2013 estate grown syrah (r...   syrah   \n",
       "25181  ambassador vineyard 2013 estate grown syrah (r...   syrah   \n",
       "25182  ambassador vineyard 2013 estate syrah (red mou...   syrah   \n",
       "\n",
       "                    winery  \n",
       "13143  ambassador vineyard  \n",
       "25181  ambassador vineyard  \n",
       "25182  ambassador vineyard  "
      ]
     },
     "metadata": {},
     "output_type": "display_data"
    },
    {
     "data": {
      "text/markdown": [
       "---"
      ],
      "text/plain": [
       "<IPython.core.display.Markdown object>"
      ]
     },
     "metadata": {},
     "output_type": "display_data"
    },
    {
     "data": {
      "text/html": [
       "<div>\n",
       "<style scoped>\n",
       "    .dataframe tbody tr th:only-of-type {\n",
       "        vertical-align: middle;\n",
       "    }\n",
       "\n",
       "    .dataframe tbody tr th {\n",
       "        vertical-align: top;\n",
       "    }\n",
       "\n",
       "    .dataframe thead th {\n",
       "        text-align: right;\n",
       "    }\n",
       "</style>\n",
       "<table border=\"1\" class=\"dataframe\">\n",
       "  <thead>\n",
       "    <tr style=\"text-align: right;\">\n",
       "      <th></th>\n",
       "      <th>Unnamed: 0</th>\n",
       "      <th>country</th>\n",
       "      <th>description</th>\n",
       "      <th>designation</th>\n",
       "      <th>points</th>\n",
       "      <th>price</th>\n",
       "      <th>province</th>\n",
       "      <th>region_1</th>\n",
       "      <th>region_2</th>\n",
       "      <th>taster_name</th>\n",
       "      <th>taster_twitter_handle</th>\n",
       "      <th>title</th>\n",
       "      <th>variety</th>\n",
       "      <th>winery</th>\n",
       "    </tr>\n",
       "  </thead>\n",
       "  <tbody>\n",
       "    <tr>\n",
       "      <th>16076</th>\n",
       "      <td>16076</td>\n",
       "      <td>argentina</td>\n",
       "      <td>stalky aromas suggest hay and green herbs, wit...</td>\n",
       "      <td>finca la niña</td>\n",
       "      <td>84</td>\n",
       "      <td>10.0</td>\n",
       "      <td>mendoza province</td>\n",
       "      <td>mendoza</td>\n",
       "      <td>NaN</td>\n",
       "      <td>michael schachner</td>\n",
       "      <td>@wineschach</td>\n",
       "      <td>don cristobal 1492 2010 finca la niña malbec (...</td>\n",
       "      <td>malbec</td>\n",
       "      <td>don cristobal 1492</td>\n",
       "    </tr>\n",
       "    <tr>\n",
       "      <th>33110</th>\n",
       "      <td>33110</td>\n",
       "      <td>argentina</td>\n",
       "      <td>stalky aromas suggest hay and green herbs, wit...</td>\n",
       "      <td>finca la niña</td>\n",
       "      <td>84</td>\n",
       "      <td>10.0</td>\n",
       "      <td>mendoza province</td>\n",
       "      <td>mendoza</td>\n",
       "      <td>NaN</td>\n",
       "      <td>michael schachner</td>\n",
       "      <td>@wineschach</td>\n",
       "      <td>don cristobal 1492 2010 finca la niña cabernet...</td>\n",
       "      <td>cabernet sauvignon</td>\n",
       "      <td>don cristobal 1492</td>\n",
       "    </tr>\n",
       "    <tr>\n",
       "      <th>48702</th>\n",
       "      <td>48702</td>\n",
       "      <td>argentina</td>\n",
       "      <td>stalky aromas suggest hay and green herbs, wit...</td>\n",
       "      <td>finca la niña</td>\n",
       "      <td>84</td>\n",
       "      <td>10.0</td>\n",
       "      <td>mendoza province</td>\n",
       "      <td>mendoza</td>\n",
       "      <td>NaN</td>\n",
       "      <td>michael schachner</td>\n",
       "      <td>@wineschach</td>\n",
       "      <td>don cristobal 1492 2010 finca la niña malbec (...</td>\n",
       "      <td>malbec</td>\n",
       "      <td>don cristobal 1492</td>\n",
       "    </tr>\n",
       "  </tbody>\n",
       "</table>\n",
       "</div>"
      ],
      "text/plain": [
       "       Unnamed: 0    country  \\\n",
       "16076       16076  argentina   \n",
       "33110       33110  argentina   \n",
       "48702       48702  argentina   \n",
       "\n",
       "                                             description    designation  \\\n",
       "16076  stalky aromas suggest hay and green herbs, wit...  finca la niña   \n",
       "33110  stalky aromas suggest hay and green herbs, wit...  finca la niña   \n",
       "48702  stalky aromas suggest hay and green herbs, wit...  finca la niña   \n",
       "\n",
       "       points  price          province region_1 region_2        taster_name  \\\n",
       "16076      84   10.0  mendoza province  mendoza      NaN  michael schachner   \n",
       "33110      84   10.0  mendoza province  mendoza      NaN  michael schachner   \n",
       "48702      84   10.0  mendoza province  mendoza      NaN  michael schachner   \n",
       "\n",
       "      taster_twitter_handle  \\\n",
       "16076           @wineschach   \n",
       "33110           @wineschach   \n",
       "48702           @wineschach   \n",
       "\n",
       "                                                   title             variety  \\\n",
       "16076  don cristobal 1492 2010 finca la niña malbec (...              malbec   \n",
       "33110  don cristobal 1492 2010 finca la niña cabernet...  cabernet sauvignon   \n",
       "48702  don cristobal 1492 2010 finca la niña malbec (...              malbec   \n",
       "\n",
       "                   winery  \n",
       "16076  don cristobal 1492  \n",
       "33110  don cristobal 1492  \n",
       "48702  don cristobal 1492  "
      ]
     },
     "metadata": {},
     "output_type": "display_data"
    },
    {
     "data": {
      "text/markdown": [
       "---"
      ],
      "text/plain": [
       "<IPython.core.display.Markdown object>"
      ]
     },
     "metadata": {},
     "output_type": "display_data"
    },
    {
     "data": {
      "text/html": [
       "<div>\n",
       "<style scoped>\n",
       "    .dataframe tbody tr th:only-of-type {\n",
       "        vertical-align: middle;\n",
       "    }\n",
       "\n",
       "    .dataframe tbody tr th {\n",
       "        vertical-align: top;\n",
       "    }\n",
       "\n",
       "    .dataframe thead th {\n",
       "        text-align: right;\n",
       "    }\n",
       "</style>\n",
       "<table border=\"1\" class=\"dataframe\">\n",
       "  <thead>\n",
       "    <tr style=\"text-align: right;\">\n",
       "      <th></th>\n",
       "      <th>Unnamed: 0</th>\n",
       "      <th>country</th>\n",
       "      <th>description</th>\n",
       "      <th>designation</th>\n",
       "      <th>points</th>\n",
       "      <th>price</th>\n",
       "      <th>province</th>\n",
       "      <th>region_1</th>\n",
       "      <th>region_2</th>\n",
       "      <th>taster_name</th>\n",
       "      <th>taster_twitter_handle</th>\n",
       "      <th>title</th>\n",
       "      <th>variety</th>\n",
       "      <th>winery</th>\n",
       "    </tr>\n",
       "  </thead>\n",
       "  <tbody>\n",
       "    <tr>\n",
       "      <th>4230</th>\n",
       "      <td>4230</td>\n",
       "      <td>italy</td>\n",
       "      <td>this zesty red has pretty aromas that suggest ...</td>\n",
       "      <td>NaN</td>\n",
       "      <td>88</td>\n",
       "      <td>30.0</td>\n",
       "      <td>tuscany</td>\n",
       "      <td>rosso di montalcino</td>\n",
       "      <td>NaN</td>\n",
       "      <td>kerin o’keefe</td>\n",
       "      <td>@kerinokeefe</td>\n",
       "      <td>ridolfi 2014  rosso di montalcino</td>\n",
       "      <td>sangiovese</td>\n",
       "      <td>ridolfi</td>\n",
       "    </tr>\n",
       "    <tr>\n",
       "      <th>19269</th>\n",
       "      <td>19269</td>\n",
       "      <td>italy</td>\n",
       "      <td>this zesty red has pretty aromas that suggest ...</td>\n",
       "      <td>NaN</td>\n",
       "      <td>87</td>\n",
       "      <td>30.0</td>\n",
       "      <td>tuscany</td>\n",
       "      <td>rosso di montalcino</td>\n",
       "      <td>NaN</td>\n",
       "      <td>kerin o’keefe</td>\n",
       "      <td>@kerinokeefe</td>\n",
       "      <td>carpineto 2014  rosso di montalcino</td>\n",
       "      <td>sangiovese</td>\n",
       "      <td>carpineto</td>\n",
       "    </tr>\n",
       "    <tr>\n",
       "      <th>61309</th>\n",
       "      <td>61309</td>\n",
       "      <td>italy</td>\n",
       "      <td>this zesty red has pretty aromas that suggest ...</td>\n",
       "      <td>NaN</td>\n",
       "      <td>88</td>\n",
       "      <td>30.0</td>\n",
       "      <td>tuscany</td>\n",
       "      <td>rosso di montalcino</td>\n",
       "      <td>NaN</td>\n",
       "      <td>kerin o’keefe</td>\n",
       "      <td>@kerinokeefe</td>\n",
       "      <td>ridolfi 2014  rosso di montalcino</td>\n",
       "      <td>sangiovese</td>\n",
       "      <td>ridolfi</td>\n",
       "    </tr>\n",
       "  </tbody>\n",
       "</table>\n",
       "</div>"
      ],
      "text/plain": [
       "       Unnamed: 0 country                                        description  \\\n",
       "4230         4230   italy  this zesty red has pretty aromas that suggest ...   \n",
       "19269       19269   italy  this zesty red has pretty aromas that suggest ...   \n",
       "61309       61309   italy  this zesty red has pretty aromas that suggest ...   \n",
       "\n",
       "      designation  points  price province             region_1 region_2  \\\n",
       "4230          NaN      88   30.0  tuscany  rosso di montalcino      NaN   \n",
       "19269         NaN      87   30.0  tuscany  rosso di montalcino      NaN   \n",
       "61309         NaN      88   30.0  tuscany  rosso di montalcino      NaN   \n",
       "\n",
       "         taster_name taster_twitter_handle  \\\n",
       "4230   kerin o’keefe          @kerinokeefe   \n",
       "19269  kerin o’keefe          @kerinokeefe   \n",
       "61309  kerin o’keefe          @kerinokeefe   \n",
       "\n",
       "                                     title     variety     winery  \n",
       "4230     ridolfi 2014  rosso di montalcino  sangiovese    ridolfi  \n",
       "19269  carpineto 2014  rosso di montalcino  sangiovese  carpineto  \n",
       "61309    ridolfi 2014  rosso di montalcino  sangiovese    ridolfi  "
      ]
     },
     "metadata": {},
     "output_type": "display_data"
    },
    {
     "data": {
      "text/markdown": [
       "---"
      ],
      "text/plain": [
       "<IPython.core.display.Markdown object>"
      ]
     },
     "metadata": {},
     "output_type": "display_data"
    },
    {
     "data": {
      "text/html": [
       "<div>\n",
       "<style scoped>\n",
       "    .dataframe tbody tr th:only-of-type {\n",
       "        vertical-align: middle;\n",
       "    }\n",
       "\n",
       "    .dataframe tbody tr th {\n",
       "        vertical-align: top;\n",
       "    }\n",
       "\n",
       "    .dataframe thead th {\n",
       "        text-align: right;\n",
       "    }\n",
       "</style>\n",
       "<table border=\"1\" class=\"dataframe\">\n",
       "  <thead>\n",
       "    <tr style=\"text-align: right;\">\n",
       "      <th></th>\n",
       "      <th>Unnamed: 0</th>\n",
       "      <th>country</th>\n",
       "      <th>description</th>\n",
       "      <th>designation</th>\n",
       "      <th>points</th>\n",
       "      <th>price</th>\n",
       "      <th>province</th>\n",
       "      <th>region_1</th>\n",
       "      <th>region_2</th>\n",
       "      <th>taster_name</th>\n",
       "      <th>taster_twitter_handle</th>\n",
       "      <th>title</th>\n",
       "      <th>variety</th>\n",
       "      <th>winery</th>\n",
       "    </tr>\n",
       "  </thead>\n",
       "  <tbody>\n",
       "    <tr>\n",
       "      <th>12141</th>\n",
       "      <td>12141</td>\n",
       "      <td>us</td>\n",
       "      <td>seductively tart in lemon pith, cranberry and ...</td>\n",
       "      <td>woods vineyard rosé of</td>\n",
       "      <td>91</td>\n",
       "      <td>29.0</td>\n",
       "      <td>california</td>\n",
       "      <td>russian river valley</td>\n",
       "      <td>sonoma</td>\n",
       "      <td>virginie boone</td>\n",
       "      <td>@vboone</td>\n",
       "      <td>ousterhout 2014 woods vineyard rosé of pinot n...</td>\n",
       "      <td>pinot noir</td>\n",
       "      <td>ousterhout</td>\n",
       "    </tr>\n",
       "    <tr>\n",
       "      <th>51822</th>\n",
       "      <td>51822</td>\n",
       "      <td>us</td>\n",
       "      <td>seductively tart in lemon pith, cranberry and ...</td>\n",
       "      <td>800 vines jenna's vineyard rosé of</td>\n",
       "      <td>89</td>\n",
       "      <td>25.0</td>\n",
       "      <td>california</td>\n",
       "      <td>russian river valley</td>\n",
       "      <td>sonoma</td>\n",
       "      <td>virginie boone</td>\n",
       "      <td>@vboone</td>\n",
       "      <td>ousterhout 2014 800 vines jenna's vineyard ros...</td>\n",
       "      <td>pinot noir</td>\n",
       "      <td>ousterhout</td>\n",
       "    </tr>\n",
       "    <tr>\n",
       "      <th>119866</th>\n",
       "      <td>119866</td>\n",
       "      <td>us</td>\n",
       "      <td>seductively tart in lemon pith, cranberry and ...</td>\n",
       "      <td>800 vines jenna's vineyard rosé of</td>\n",
       "      <td>89</td>\n",
       "      <td>25.0</td>\n",
       "      <td>california</td>\n",
       "      <td>russian river valley</td>\n",
       "      <td>sonoma</td>\n",
       "      <td>virginie boone</td>\n",
       "      <td>@vboone</td>\n",
       "      <td>ousterhout 2014 800 vines jenna's vineyard ros...</td>\n",
       "      <td>pinot noir</td>\n",
       "      <td>ousterhout</td>\n",
       "    </tr>\n",
       "  </tbody>\n",
       "</table>\n",
       "</div>"
      ],
      "text/plain": [
       "        Unnamed: 0 country                                        description  \\\n",
       "12141        12141      us  seductively tart in lemon pith, cranberry and ...   \n",
       "51822        51822      us  seductively tart in lemon pith, cranberry and ...   \n",
       "119866      119866      us  seductively tart in lemon pith, cranberry and ...   \n",
       "\n",
       "                               designation  points  price    province  \\\n",
       "12141               woods vineyard rosé of      91   29.0  california   \n",
       "51822   800 vines jenna's vineyard rosé of      89   25.0  california   \n",
       "119866  800 vines jenna's vineyard rosé of      89   25.0  california   \n",
       "\n",
       "                    region_1 region_2     taster_name taster_twitter_handle  \\\n",
       "12141   russian river valley   sonoma  virginie boone               @vboone   \n",
       "51822   russian river valley   sonoma  virginie boone               @vboone   \n",
       "119866  russian river valley   sonoma  virginie boone               @vboone   \n",
       "\n",
       "                                                    title     variety  \\\n",
       "12141   ousterhout 2014 woods vineyard rosé of pinot n...  pinot noir   \n",
       "51822   ousterhout 2014 800 vines jenna's vineyard ros...  pinot noir   \n",
       "119866  ousterhout 2014 800 vines jenna's vineyard ros...  pinot noir   \n",
       "\n",
       "            winery  \n",
       "12141   ousterhout  \n",
       "51822   ousterhout  \n",
       "119866  ousterhout  "
      ]
     },
     "metadata": {},
     "output_type": "display_data"
    },
    {
     "data": {
      "text/markdown": [
       "---"
      ],
      "text/plain": [
       "<IPython.core.display.Markdown object>"
      ]
     },
     "metadata": {},
     "output_type": "display_data"
    },
    {
     "data": {
      "text/html": [
       "<div>\n",
       "<style scoped>\n",
       "    .dataframe tbody tr th:only-of-type {\n",
       "        vertical-align: middle;\n",
       "    }\n",
       "\n",
       "    .dataframe tbody tr th {\n",
       "        vertical-align: top;\n",
       "    }\n",
       "\n",
       "    .dataframe thead th {\n",
       "        text-align: right;\n",
       "    }\n",
       "</style>\n",
       "<table border=\"1\" class=\"dataframe\">\n",
       "  <thead>\n",
       "    <tr style=\"text-align: right;\">\n",
       "      <th></th>\n",
       "      <th>Unnamed: 0</th>\n",
       "      <th>country</th>\n",
       "      <th>description</th>\n",
       "      <th>designation</th>\n",
       "      <th>points</th>\n",
       "      <th>price</th>\n",
       "      <th>province</th>\n",
       "      <th>region_1</th>\n",
       "      <th>region_2</th>\n",
       "      <th>taster_name</th>\n",
       "      <th>taster_twitter_handle</th>\n",
       "      <th>title</th>\n",
       "      <th>variety</th>\n",
       "      <th>winery</th>\n",
       "    </tr>\n",
       "  </thead>\n",
       "  <tbody>\n",
       "    <tr>\n",
       "      <th>53296</th>\n",
       "      <td>53296</td>\n",
       "      <td>italy</td>\n",
       "      <td>ripe plum, game, truffle, leather and menthol ...</td>\n",
       "      <td>NaN</td>\n",
       "      <td>88</td>\n",
       "      <td>72.0</td>\n",
       "      <td>tuscany</td>\n",
       "      <td>brunello di montalcino</td>\n",
       "      <td>NaN</td>\n",
       "      <td>kerin o’keefe</td>\n",
       "      <td>@kerinokeefe</td>\n",
       "      <td>la mannella 2011  brunello di montalcino</td>\n",
       "      <td>sangiovese</td>\n",
       "      <td>la mannella</td>\n",
       "    </tr>\n",
       "    <tr>\n",
       "      <th>126592</th>\n",
       "      <td>126592</td>\n",
       "      <td>italy</td>\n",
       "      <td>ripe plum, game, truffle, leather and menthol ...</td>\n",
       "      <td>NaN</td>\n",
       "      <td>88</td>\n",
       "      <td>72.0</td>\n",
       "      <td>tuscany</td>\n",
       "      <td>brunello di montalcino</td>\n",
       "      <td>NaN</td>\n",
       "      <td>kerin o’keefe</td>\n",
       "      <td>@kerinokeefe</td>\n",
       "      <td>la mannella 2011  brunello di montalcino</td>\n",
       "      <td>sangiovese</td>\n",
       "      <td>la mannella</td>\n",
       "    </tr>\n",
       "    <tr>\n",
       "      <th>126930</th>\n",
       "      <td>126930</td>\n",
       "      <td>italy</td>\n",
       "      <td>ripe plum, game, truffle, leather and menthol ...</td>\n",
       "      <td>NaN</td>\n",
       "      <td>87</td>\n",
       "      <td>40.0</td>\n",
       "      <td>tuscany</td>\n",
       "      <td>brunello di montalcino</td>\n",
       "      <td>NaN</td>\n",
       "      <td>kerin o’keefe</td>\n",
       "      <td>@kerinokeefe</td>\n",
       "      <td>poggiarellino 2011  brunello di montalcino</td>\n",
       "      <td>sangiovese</td>\n",
       "      <td>poggiarellino</td>\n",
       "    </tr>\n",
       "  </tbody>\n",
       "</table>\n",
       "</div>"
      ],
      "text/plain": [
       "        Unnamed: 0 country                                        description  \\\n",
       "53296        53296   italy  ripe plum, game, truffle, leather and menthol ...   \n",
       "126592      126592   italy  ripe plum, game, truffle, leather and menthol ...   \n",
       "126930      126930   italy  ripe plum, game, truffle, leather and menthol ...   \n",
       "\n",
       "       designation  points  price province                region_1 region_2  \\\n",
       "53296          NaN      88   72.0  tuscany  brunello di montalcino      NaN   \n",
       "126592         NaN      88   72.0  tuscany  brunello di montalcino      NaN   \n",
       "126930         NaN      87   40.0  tuscany  brunello di montalcino      NaN   \n",
       "\n",
       "          taster_name taster_twitter_handle  \\\n",
       "53296   kerin o’keefe          @kerinokeefe   \n",
       "126592  kerin o’keefe          @kerinokeefe   \n",
       "126930  kerin o’keefe          @kerinokeefe   \n",
       "\n",
       "                                             title     variety         winery  \n",
       "53296     la mannella 2011  brunello di montalcino  sangiovese    la mannella  \n",
       "126592    la mannella 2011  brunello di montalcino  sangiovese    la mannella  \n",
       "126930  poggiarellino 2011  brunello di montalcino  sangiovese  poggiarellino  "
      ]
     },
     "metadata": {},
     "output_type": "display_data"
    }
   ],
   "source": [
    "# Lets get the duplicates and check if they are duplicate entries and have a look at them\n",
    "descriptions_df = wr_df['description'].value_counts().to_frame().reset_index().rename(columns={'index':'description', 'description':'count'})\n",
    "# inspect the first entries of those that have a count of > 1\n",
    "for description in descriptions_df[descriptions_df['count'] > 1].description[:5]:\n",
    "    display(Markdown('---'))\n",
    "    display(wr_df[wr_df.description==description])"
   ]
  },
  {
   "cell_type": "markdown",
   "id": "bc56892e-5419-418d-ac6e-2ed3215953c5",
   "metadata": {},
   "source": [
    "duplicated descriptions do not always belong to the same variety.\n",
    "\n",
    "**Decision on duplicates:**\n",
    "- Drop entries with duplicated descriptions if the variety is the same.\n",
    "- Keep entries with duplicated descriptions if the variety is different."
   ]
  },
  {
   "cell_type": "markdown",
   "id": "eb4ad272-1c55-48a9-8fe3-c7a5ae5bb3a1",
   "metadata": {},
   "source": [
    "**Are there entries where one of the relevant columns is missing?**\n",
    "\n",
    "Just a quick check if `variety` or `description` is empty:"
   ]
  },
  {
   "cell_type": "code",
   "execution_count": 6,
   "id": "fedb7d41-9dfe-4c2d-9e91-eb8b944396d6",
   "metadata": {},
   "outputs": [
    {
     "data": {
      "text/markdown": [
       "<span style=\"color:blue\">`description` is complete.</span>"
      ],
      "text/plain": [
       "<IPython.core.display.Markdown object>"
      ]
     },
     "metadata": {},
     "output_type": "display_data"
    },
    {
     "data": {
      "text/markdown": [
       "<span style=\"color:red\">`variety` is incomplete. **1** entries are missing a value</span>"
      ],
      "text/plain": [
       "<IPython.core.display.Markdown object>"
      ]
     },
     "metadata": {},
     "output_type": "display_data"
    }
   ],
   "source": [
    "# Are there duplicate entries?\n",
    "for column in ['description', 'variety']:\n",
    "    if True in wr_df[column].isnull().unique():\n",
    "        incomplete_rows = wr_df[wr_df[column].isnull()]\n",
    "        warn(f'`{column}` is incomplete. **{incomplete_rows.shape[0]}** entries are missing a value')\n",
    "    else:\n",
    "        info(f'`{column}` is complete.')\n"
   ]
  },
  {
   "cell_type": "markdown",
   "id": "dbeb5d99-e833-459a-8033-a366f168bc24",
   "metadata": {},
   "source": [
    "**Decision on missing values:**\n",
    "- Since we deal with a single missing entry, we just delete it."
   ]
  },
  {
   "cell_type": "markdown",
   "id": "eaba859d-b3ac-4a3f-b819-e11eb71c119c",
   "metadata": {},
   "source": [
    "**Are there entries for which the `variety` is explicitely mentioned in the `description` column?**"
   ]
  },
  {
   "cell_type": "code",
   "execution_count": 7,
   "id": "ec9d9d88-d76a-474e-acd7-16855ddc90fe",
   "metadata": {},
   "outputs": [
    {
     "data": {
      "text/markdown": [
       "**25616** entries mention the variety in the description."
      ],
      "text/plain": [
       "<IPython.core.display.Markdown object>"
      ]
     },
     "metadata": {},
     "output_type": "display_data"
    }
   ],
   "source": [
    "# get all entries for which the variety is mentioned in the description\n",
    "mentions = wr_df[wr_df.apply(lambda x: True if not isinstance(x.variety, float) and x.variety in x.description else False, axis=1)]\n",
    "display(Markdown(f'**{mentions.shape[0]}** entries mention the variety in the description.'))"
   ]
  },
  {
   "cell_type": "markdown",
   "id": "4219ca23-2dcb-4d56-a37f-f65b6c1a40a9",
   "metadata": {},
   "source": [
    "One way to deal with this could be to simply replace the variety by the string `variety`.\n",
    "\n",
    "We then simply need to make sure to not use the word `varitey` as predictor for the variety (which would anyways not make much sense).\n",
    "\n",
    "**Decision on `variety` mention in `description`:**\n",
    "- Replace the mention in `description` by the string `'variety'`"
   ]
  },
  {
   "cell_type": "markdown",
   "id": "28cc96be-505c-43a6-b23a-93f900fec042",
   "metadata": {},
   "source": [
    "**Are the varieties categorized or do spelling errors exist?**\n",
    "\n",
    "We use the [Levenshtein distance](Levenshtein) to find words that are close to each other:"
   ]
  },
  {
   "cell_type": "code",
   "execution_count": 8,
   "id": "a6734fe1-aecf-4a96-9199-f0381fdeec31",
   "metadata": {
    "tags": []
   },
   "outputs": [],
   "source": [
    "def levenshtein(a, b):\n",
    "    \"\"\"\n",
    "    Just an implementation of the naive recursive algorithm.\n",
    "    \n",
    "    .. warning:: \n",
    "      This can be incredibly slow!\n",
    "    \"\"\"\n",
    "    if not a:\n",
    "        return len(b)\n",
    "    if not b:\n",
    "        return len(a)\n",
    "    if a[0] == b[0]:\n",
    "        return levenshtein(a[1:], b[1:])\n",
    "    else:\n",
    "        return 1 + min(levenshtein(a[1:], b),\n",
    "                       levenshtein(a, b[1:]),\n",
    "                       levenshtein(a[1:], b[1:]))"
   ]
  },
  {
   "cell_type": "code",
   "execution_count": 9,
   "id": "07154c5d-b31a-44a9-968b-49899944cea6",
   "metadata": {},
   "outputs": [
    {
     "name": "stdout",
     "output_type": "stream",
     "text": [
      "Collecting jellyfish\n",
      "  Downloading jellyfish-0.8.2-cp38-cp38-manylinux2014_x86_64.whl (94 kB)\n",
      "\u001b[K     |████████████████████████████████| 94 kB 2.0 MB/s eta 0:00:011\n",
      "\u001b[?25hInstalling collected packages: jellyfish\n",
      "Successfully installed jellyfish-0.8.2\n"
     ]
    }
   ],
   "source": [
    "# let's get a faster function\n",
    "!pip install jellyfish\n",
    "from jellyfish import levenshtein_distance"
   ]
  },
  {
   "cell_type": "code",
   "execution_count": 10,
   "id": "ea48922e-fd1a-4c17-9646-529a9d0c56da",
   "metadata": {
    "tags": []
   },
   "outputs": [
    {
     "data": {
      "text/plain": [
       "'variety 1, variety 2, levenshtein dist, number of occurrence of (variet1, variety 2)'"
      ]
     },
     "metadata": {},
     "output_type": "display_data"
    },
    {
     "data": {
      "text/plain": [
       "[('assyrtico', 'assyrtiko', 1, (43, 43)),\n",
       " ('carignan', 'carignane', 1, (77, 3)),\n",
       " ('carignan', 'carignano', 1, (77, 30)),\n",
       " ('carignane', 'carignano', 1, (30, 30)),\n",
       " ('cerceal', 'cercial', 1, (3, 3)),\n",
       " ('cercial', 'sercial', 1, (1, 53)),\n",
       " ('insolia', 'inzolia', 1, (33, 33)),\n",
       " ('malagousia', 'malagouzia', 1, (12, 12)),\n",
       " ('moscatel', 'muscatel', 1, (57, 3)),\n",
       " ('muscadel', 'muscatel', 1, (1, 3)),\n",
       " ('muscat', 'muskat', 1, (132, 3)),\n",
       " ('petit verdot', 'petite verdot', 1, (269, 770)),\n",
       " ('rosado', 'rosato', 1, (77, 77)),\n",
       " ('silvaner', 'sylvaner', 1, (39, 6)),\n",
       " ('siria', 'sirica', 1, (12, 12)),\n",
       " ('tinta de toro', 'tinta del toro', 1, (166, 2)),\n",
       " ('tinta del pais', 'tinto del pais', 1, (2, 1)),\n",
       " ('vidal', 'vital', 1, (11, 5)),\n",
       " ('vranac', 'vranec', 1, (1, 1)),\n",
       " ('xinisteri', 'xynisteri', 1, (1, 33)),\n",
       " ('aragonez', 'aragonês', 2, (10, 10)),\n",
       " ('azal', 'bual', 2, (3, 5)),\n",
       " ('bical', 'bobal', 2, (13, 232)),\n",
       " ('bical', 'bual', 2, (13, 5)),\n",
       " ('bical', 'vidal', 2, (13, 1)),\n",
       " ('bical', 'vital', 2, (13, 5)),\n",
       " ('blatina', 'zlahtina', 2, (1, 2714)),\n",
       " ('blauburgunder', 'grauburgunder', 2, (1, 2)),\n",
       " ('bobal', 'bovale', 2, (23, 1066)),\n",
       " ('bobal', 'bual', 2, (23, 5)),\n",
       " ('brachetto', 'grechetto', 2, (15, 9)),\n",
       " ('cerceal', 'sercial', 2, (3, 53)),\n",
       " ('dolcetto', 'roscetto', 2, (180, 103)),\n",
       " ('duras', 'durif', 2, (7, 9)),\n",
       " ('gamay', 'gamza', 2, (1025, 23)),\n",
       " ('graciano', 'gragnano', 2, (43, 43)),\n",
       " ('greco', 'rebo', 2, (121, 2)),\n",
       " ('grenache blanc', 'grenache blend', 2, (131, 131)),\n",
       " ('mavroudi', 'mavrud', 2, (1, 1)),\n",
       " ('melon', 'merlot', 2, (280, 260))]"
      ]
     },
     "metadata": {},
     "output_type": "display_data"
    }
   ],
   "source": [
    "varieties_array = wr_df[wr_df.apply(lambda x: True if isinstance(x.variety, str) else False, axis=1)].variety.values\n",
    "varieties, counts = np.unique(varieties_array, return_counts=True)\n",
    "display('variety 1, variety 2, levenshtein dist, number of occurrence of (variet1, variety 2)')\n",
    "similar_pairs = sorted(((variety1, variety2, levenshtein_distance(variety1, variety2), (counts[i], counts[i+j]))\n",
    " for i, variety1 in enumerate(varieties)\n",
    " for j, variety2 in enumerate(varieties[i+1:])), key=lambda x: x[2])\n",
    "# each entry will be (variety name, variety name, similarity)\n",
    "display(similar_pairs[:40])"
   ]
  },
  {
   "cell_type": "markdown",
   "id": "cb6451d1-227a-4f32-a774-d9dbbe48472e",
   "metadata": {},
   "source": [
    "For most of the very similar pairs at least one of the variants appears rarely in the dataset.\n",
    "\n",
    "Before taking a decision we will explore how many different varieties there are and how often they occur. \n",
    "We might end up using only a fraction of the varieties, especially if a small subset of varieties accounts for most of the reviews.\n",
    "In this cas we might discard rows with less frequent varieties which might remove most of the very similar variety values we observe here.\n",
    "\n",
    "\n",
    "**Decision on variety cathegorization:**\n",
    "\n",
    "- We first have a closer look at the variety column!"
   ]
  },
  {
   "cell_type": "markdown",
   "id": "00f05dbe-e80e-4458-a99b-44f3100d2b2e",
   "metadata": {},
   "source": [
    "---\n",
    "### Data Exploration\n",
    "\n",
    "**How many varieties are there?**"
   ]
  },
  {
   "cell_type": "code",
   "execution_count": 11,
   "id": "f7fff384-9ce1-4dc5-8b40-89a22932a5ec",
   "metadata": {},
   "outputs": [
    {
     "name": "stdout",
     "output_type": "stream",
     "text": [
      "The variety column has 708 unique entries.\n"
     ]
    }
   ],
   "source": [
    "all_varieties = wr_df.variety.unique()\n",
    "print(f'The variety column has {len(all_varieties)} unique entries.')"
   ]
  },
  {
   "cell_type": "markdown",
   "id": "d3403289-9729-4382-b3bb-790736dabfe0",
   "metadata": {},
   "source": [
    "Now let's have a closer look at how frequent each value appears:"
   ]
  },
  {
   "cell_type": "code",
   "execution_count": 12,
   "id": "cd14fc8e-30dc-4738-b0a5-c63e76e39b65",
   "metadata": {},
   "outputs": [
    {
     "data": {
      "text/markdown": [
       "<span style=\"color:blue\">The most common **58** varieties make up 90.0% of the entries.</span>"
      ],
      "text/plain": [
       "<IPython.core.display.Markdown object>"
      ]
     },
     "metadata": {},
     "output_type": "display_data"
    },
    {
     "name": "stdout",
     "output_type": "stream",
     "text": [
      "We are left with 117417 entries.\n"
     ]
    }
   ],
   "source": [
    "nbr_entries = wr_df.shape[0]\n",
    "varieties_df = pd.DataFrame({'count':wr_df.groupby('variety', ).variety.count().sort_values(ascending=False)})\n",
    "# add the fraction of entries that belong to this variety\n",
    "varieties_df['fract'] = varieties_df['count']/nbr_entries\n",
    "# check how many varieties are needed to get 95% of all entries\n",
    "fraction = 0\n",
    "limit_fraction = 0.9\n",
    "up_to = 1\n",
    "while fraction <= 0.9:\n",
    "    fraction = varieties_df.iloc[:up_to].fract.sum()\n",
    "    up_to += 1\n",
    "    \n",
    "info(f'The most common **{up_to}** varieties make up {100 * limit_fraction}% of the entries.')\n",
    "\n",
    "# since the df is already sorted, wo we can just use iloc and get the first 'up_to' reviews\n",
    "common = varieties_df.iloc[:up_to].index.values\n",
    "wr_selection = wr_df[wr_df.variety.isin(common)]\n",
    "print(f'We are left with {wr_selection.shape[0]} entries.')"
   ]
  },
  {
   "cell_type": "markdown",
   "id": "a6d1e9fb-4d7c-48e1-afdf-d5248529fbfb",
   "metadata": {},
   "source": [
    "**How are the varieties distributed?**"
   ]
  },
  {
   "cell_type": "code",
   "execution_count": 13,
   "id": "0ec625fa-0a38-4195-9747-ea6aa9e32cbf",
   "metadata": {},
   "outputs": [
    {
     "data": {
      "text/markdown": [
       "\n",
       "### **58 most represented varieties in the reviews**"
      ],
      "text/plain": [
       "<IPython.core.display.Markdown object>"
      ]
     },
     "metadata": {},
     "output_type": "display_data"
    },
    {
     "data": {
      "image/png": "[encoded data removed]",
      "text/plain": [
       "<Figure size 2520x720 with 1 Axes>"
      ]
     },
     "metadata": {
      "needs_background": "light"
     },
     "output_type": "display_data"
    }
   ],
   "source": [
    "display(Markdown(f'\\n### **{len(common)} most represented varieties in the reviews**'))\n",
    "fig, ax = plt.subplots(figsize=(35, 10))\n",
    "common_df = varieties_df[varieties_df.index.isin(common)]\n",
    "all_varieties = wr_selection.variety.unique()\n",
    "ax.bar(common_df.index.values, common_df['count'])\n",
    "plt.xticks(rotation=45, fontsize='x-large', ha='right', va='top', rotation_mode='anchor')\n",
    "ax.set_ylabel('# reviews', fontweight='bold', fontsize='x-large')\n",
    "plt.show()"
   ]
  },
  {
   "cell_type": "markdown",
   "id": "9e4acfd9-71a9-4258-b929-d39640211429",
   "metadata": {},
   "source": [
    "---\n",
    "Resolve the open question from data quality assessment:\n",
    "\n",
    "**Are the varieties categorized or do spelling errors exist?**\n",
    "\n",
    "We now can have a look at only the common varieties and check how similar these values are:"
   ]
  },
  {
   "cell_type": "code",
   "execution_count": 14,
   "id": "43d76391-b7f7-4632-9762-ef035c35a471",
   "metadata": {
    "tags": []
   },
   "outputs": [
    {
     "data": {
      "text/plain": [
       "'variety 1, variety 2, levenshtein dist'"
      ]
     },
     "metadata": {},
     "output_type": "display_data"
    },
    {
     "data": {
      "text/plain": [
       "[('merlot', 'melon', 2),\n",
       " ('pinot noir', 'pinot gris', 3),\n",
       " ('syrah', 'shiraz', 3),\n",
       " ('rosé', 'port', 3),\n",
       " ('pinot gris', 'pinot grigio', 3),\n",
       " ('grenache', 'garnacha', 3),\n",
       " ('syrah', 'gamay', 4),\n",
       " ('syrah', 'glera', 4),\n",
       " ('syrah', 'port', 4),\n",
       " ('merlot', 'port', 4)]"
      ]
     },
     "metadata": {},
     "output_type": "display_data"
    }
   ],
   "source": [
    "display('variety 1, variety 2, levenshtein dist')\n",
    "similar_pairs = sorted(((variety1, variety2, levenshtein_distance(variety1, variety2))\n",
    " for i, variety1 in enumerate(common)\n",
    " for variety2 in common[i+1:]), key=lambda x: x[2])\n",
    "# each entry will be (variety name, variety name, similarity)\n",
    "display(similar_pairs[:10])"
   ]
  },
  {
   "cell_type": "markdown",
   "id": "609bacd4-1185-4e87-8e71-3efba78f2143",
   "metadata": {},
   "source": [
    "It seems that small differences are cuased by the spelling in different languages (e.g. italina 'rosato' and spanish 'rosado')\n",
    "\n",
    "**Decision on variety cathegorization:**\n",
    "\n",
    "- We will will only consider the most common wine varieties that make up 95% of the reivews.\n",
    "- We'll use the varieties as is.\n",
    "\n",
    "It is hard to tell whether 'pinot blanc' is just 'pinot blanco' in french or whether these are two varieties on cultivated in France and one in Spain. "
   ]
  },
  {
   "cell_type": "markdown",
   "id": "3d8a478d-b3a7-4b64-8348-b93b2fba3217",
   "metadata": {},
   "source": [
    "---\n",
    "Let's go back to data exploration:\n",
    "\n",
    "**How long are the reviews?**\n",
    "\n",
    "We want to assess the lenght of the reviews in terms of numbers of sentences and numbers of words.\n",
    "We will use the `nltk` package to help us with splitting the text into sentences and words:"
   ]
  },
  {
   "cell_type": "code",
   "execution_count": 15,
   "id": "97aff8e9-7b24-4e41-8e2d-a3f28106403e",
   "metadata": {},
   "outputs": [
    {
     "name": "stderr",
     "output_type": "stream",
     "text": [
      "[nltk_data] Downloading package punkt to /home/jonas/nltk_data...\n",
      "[nltk_data]   Unzipping tokenizers/punkt.zip.\n"
     ]
    }
   ],
   "source": [
    "import nltk\n",
    "nltk.download('punkt')\n",
    "from nltk.tokenize import sent_tokenize, word_tokenize"
   ]
  },
  {
   "cell_type": "code",
   "execution_count": 16,
   "id": "3d891d37-543d-4f5d-9b5d-695de278098d",
   "metadata": {},
   "outputs": [],
   "source": [
    "desc_sentences = wr_df.description.apply(lambda x: sent_tokenize(x)).to_frame()\n",
    "desc_sentences['length'] = desc_sentences['description'].apply(lambda x: len(x))\n",
    "desc_words= wr_df.description.apply(lambda x: word_tokenize(x)).to_frame()\n",
    "desc_words['length'] = desc_words['description'].apply(lambda x: len(x))"
   ]
  },
  {
   "cell_type": "code",
   "execution_count": 17,
   "id": "1a9eae62-534a-440e-ab08-e87f5efb7546",
   "metadata": {},
   "outputs": [
    {
     "data": {
      "text/markdown": [
       "\n",
       "### **Length of the reviews in words and sentences.**"
      ],
      "text/plain": [
       "<IPython.core.display.Markdown object>"
      ]
     },
     "metadata": {},
     "output_type": "display_data"
    },
    {
     "data": {
      "image/png": "[encoded data removed]",
      "text/plain": [
       "<Figure size 1008x504 with 2 Axes>"
      ]
     },
     "metadata": {
      "needs_background": "light"
     },
     "output_type": "display_data"
    }
   ],
   "source": [
    "display(Markdown(f'\\n### **Length of the reviews in words and sentences.**'))\n",
    "fig, axs = plt.subplots(1,2,figsize=(14, 7))\n",
    "s_range = min(desc_sentences.length.values), max(desc_sentences.length.values)\n",
    "w_range = min(desc_words.length.values), max(desc_words.length.values)\n",
    "axs[0].boxplot(desc_sentences.length.values)\n",
    "axs[1].boxplot(desc_words.length.values)\n",
    "# as histogram\n",
    "# axs[0].hist(wr_df.desc_length_sentences.values, bins=s_range[1] - s_range[0])\n",
    "# axs[1].hist(wr_df.desc_length_words.values, bins=w_range[1] - w_range[0])\n",
    "axs[0].set_ylabel('# sentences', fontweight='bold', fontsize='x-large')\n",
    "axs[1].set_ylabel('# words', fontweight='bold', fontsize='x-large')\n",
    "plt.show()"
   ]
  },
  {
   "cell_type": "markdown",
   "id": "36a1992f-e1d5-4c80-a068-25d65fcee1f2",
   "metadata": {},
   "source": [
    "**How do price, rating and review length correlate? (exploratory)**\n",
    "\n",
    "We will use [Spearman's rank correlation](https://en.wikipedia.org/wiki/Spearman%27s_rank_correlation_coefficient) which is a non-parametric measure that does not assume linearity.\n",
    "\n",
    "The Spearman's rank correlation is a value in the interval `[-1, 1]`, with -1/+1 indicating a perfect monotonically decreasing/increasing function."
   ]
  },
  {
   "cell_type": "code",
   "execution_count": 18,
   "id": "adaff56d-3e65-446d-b873-f2e27953883e",
   "metadata": {},
   "outputs": [
    {
     "data": {
      "text/plain": [
       "Text(0.5, 1.0, \"Spearman's rank correlation\")"
      ]
     },
     "execution_count": 18,
     "metadata": {},
     "output_type": "execute_result"
    },
    {
     "data": {
      "image/png": "[encoded data removed]",
      "text/plain": [
       "<Figure size 504x504 with 1 Axes>"
      ]
     },
     "metadata": {
      "needs_background": "light"
     },
     "output_type": "display_data"
    }
   ],
   "source": [
    "ppr_df = wr_df.loc[:,['price', 'points']]\n",
    "ppr_df['length'] = desc_words.length\n",
    "fig, ax = plt.subplots(figsize=(7,7))\n",
    "corrm = ppr_df.corr('spearman')\n",
    "ax.matshow(corrm)\n",
    "ax.set_xticks([0, 1, 2])\n",
    "ax.set_xticklabels(map(str.title, ppr_df.columns))\n",
    "ax.set_yticks([0, 1, 2])\n",
    "ax.set_yticklabels(map(str.title, ppr_df.columns))\n",
    "for row in range(3):\n",
    "    for col in range(3):\n",
    "        corrval = corrm.iloc[row, col]\n",
    "        ax.text(col, row, round(corrval, 3),\n",
    "                ha='center', va='center',\n",
    "                fontfamily='monospace',\n",
    "                fontweight='heavy')\n",
    "ax.set_title('Spearman\\'s rank correlation', fontdict=dict(weight='bold'))"
   ]
  },
  {
   "cell_type": "markdown",
   "id": "0878683b-abc7-41bb-b130-6b73e3ff5ded",
   "metadata": {},
   "source": [
    "**There is a positive correlation between all 3 pairs (price-points, price-length, points-length) with the highest correlation between the price of a bottle and the score it received**"
   ]
  },
  {
   "cell_type": "markdown",
   "id": "cc4104dc-7227-4e35-a5b4-f62ec8056494",
   "metadata": {},
   "source": [
    "---"
   ]
  }
 ],
 "metadata": {
  "kernelspec": {
   "display_name": "Python 3",
   "language": "python",
   "name": "python3"
  },
  "language_info": {
   "codemirror_mode": {
    "name": "ipython",
    "version": 3
   },
   "file_extension": ".py",
   "mimetype": "text/x-python",
   "name": "python",
   "nbconvert_exporter": "python",
   "pygments_lexer": "ipython3",
   "version": "3.8.5"
  }
 },
 "nbformat": 4,
 "nbformat_minor": 5
}
