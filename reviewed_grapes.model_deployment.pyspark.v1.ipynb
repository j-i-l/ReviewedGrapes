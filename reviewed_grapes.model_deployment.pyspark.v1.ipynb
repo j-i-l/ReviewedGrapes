{
 "cells": [
  {
   "cell_type": "markdown",
   "id": "ef359050-0948-401b-833a-ee6999a59f66",
   "metadata": {},
   "source": [
    "# Model Deployment \n",
    "\n",
    "---\n",
    "Recall that the goal of this project was to use machine learning to predict the wine variety based on a wine review text.\n",
    "So the model we deploy should do exactly that.\n",
    "It should take a review text as input and output a wine variety.\n",
    "\n",
    "Since our model implementation was carried out with pyspark [Pipeline](https://spark.apache.org/docs/latest/api/python/reference/api/pyspark.ml.Pipeline.html)'s, preparing the model for deployment is straight forward.\n",
    "\n",
    "We can save a [PipelineModel](https://spark.apache.org/docs/latest/api/python/reference/api/pyspark.ml.PipelineModel.html) \n",
    "which will allow others to load and reuse it.\n",
    "\n",
    "However, before saving our model, we will have to do some minor adaptations.\n",
    "For now, our models were designed to handle labeled data, which is not what the models for deployment will have to work with.\n",
    "Also, our models produce labels, i.e. numbers, as predictions. Such predictions are of little use when deployed.\n",
    "What we need is for our models to produce actual wine variety names, so the prediction should be `'pinot noir'` instead of `0.0`.\n",
    "\n",
    "In the end, we want to be able to do is write something like:\n",
    "\n",
    "```python\n",
    ">>> from reviewed_grapes import CommonWordsModel\n",
    "\n",
    ">>> sentence_df = spark.createDataFrame(\n",
    "        [(\"A superbe red wine with blackberry and stuff.\",),\n",
    "         (\"Acid dark too strong for me.\",),\n",
    "         (\"Tart and snappy, supple plum aroma.\",)],\n",
    "        [\"review\"])  \n",
    "\n",
    ">>> cmw = CommonWordsModel(inputCol='review', outputCol='predicted variety')\n",
    "\n",
    ">>> cmw.transform(sentence_df).select('review', 'predicted variety').show()\n",
    "+--------------------+------------------+                                                                                                                                                                       \n",
    "|              review| predicted variety|                                                                                                                                                                       \n",
    "+--------------------+------------------+                                                                                                                                                                       \n",
    "|A superbe red win...|cabernet sauvignon|                                                                                                                                                                       \n",
    "|Acid dark too str...|        pinot noir|                                                                                                                                                                       \n",
    "|Tart and snappy, ...|        pinot noir|                                                                                                                                                                       \n",
    "+--------------------+------------------+ \n",
    "```\n",
    "So we also need to define a little wrapper class, basically the `CommonWordModel` above, that will allow for a smooth integration of our\n",
    "fitted model in any pyspark pipeline.\n",
    "\n",
    "With all of this done, we then create a minimal installable python package such that our fitted models can be uploaded to GitHub and easily deployed  with [pip](https://pypi.org/project/pip/).\n",
    "\n",
    "---\n"
   ]
  },
  {
   "cell_type": "code",
   "execution_count": 10,
   "id": "727e59d3-855b-4d9d-8d78-0029899a2ca6",
   "metadata": {},
   "outputs": [],
   "source": [
    "from pyspark.ml.feature import IndexToString\n",
    "from pyspark.ml.pipeline import PipelineModel\n",
    "from pyspark.sql import SparkSession, SQLContext"
   ]
  },
  {
   "cell_type": "code",
   "execution_count": 2,
   "id": "7d069d53-6bca-4151-8e47-b618426c2193",
   "metadata": {
    "scrolled": true,
    "tags": []
   },
   "outputs": [],
   "source": [
    "from IPython.display import Markdown, display\n",
    "from pyspark.sql import SparkSession, SQLContext"
   ]
  },
  {
   "cell_type": "code",
   "execution_count": 3,
   "id": "a1451965-1773-42f1-8822-977c691d2fd4",
   "metadata": {
    "scrolled": true,
    "tags": []
   },
   "outputs": [],
   "source": [
    "%matplotlib inline\n",
    "def warn(string):\n",
    "    display(Markdown('<span style=\"color:red\">'+string+'</span>'))\n",
    "def info(string):\n",
    "    display(Markdown('<span style=\"color:blue\">'+string+'</span>'))"
   ]
  },
  {
   "cell_type": "code",
   "execution_count": 12,
   "id": "e5212fc9-1df3-43b8-85ed-511fae859e80",
   "metadata": {},
   "outputs": [],
   "source": [
    "spark = SparkSession.builder \\\n",
    "    .master(\"local[*]\") \\\n",
    "    .config(\"spark.driver.maxResultSize\", \"1g\") \\\n",
    "    .config(\"spark.driver.memory\", \"20g\") \\\n",
    "    .appName(\"jojoSparkSession\") \\\n",
    "    .getOrCreate()\n",
    "    # .config(\"spark.driver.memory\", \"20g\") \\\n",
    "    # .config(\"spark.default.parallelism\", \"16\") \\\n",
    "    # .config(\"spark.executor.cores\", \"16\") \\\n",
    "sc = spark.sparkContext\n",
    "sqlContext = SQLContext(sc) "
   ]
  },
  {
   "cell_type": "markdown",
   "id": "3db1ba0b-d9bf-4c7c-b94f-e53a5bbd09a8",
   "metadata": {},
   "source": [
    "Let's implement the changes we need to do on our models to make them ready for deployment:"
   ]
  },
  {
   "cell_type": "code",
   "execution_count": 13,
   "id": "965a8c07-c2a4-495e-bdbc-414420b64721",
   "metadata": {},
   "outputs": [],
   "source": [
    "def ready_for_deployment(model):\n",
    "    \"\"\"\n",
    "    Function that renders a model deployable.\n",
    "    \n",
    "    It removes the StringIndexer for the labels and uses\n",
    "    it to construct a IndexToString Transformer that will \n",
    "    transform the predicted label to a human readable wine \n",
    "    variety.\n",
    "    \"\"\"\n",
    "    stages = model.stages\n",
    "    # we no longer need the string indexer\n",
    "    s_first = stages.pop(0)\n",
    "    # however we now need a index->string\n",
    "    # get the labels from the string indexer\n",
    "    labels = s_first.labels\n",
    "    # get the last stage\n",
    "    s_last = stages[-1]\n",
    "    # now we need to construct the index->string\n",
    "    its = IndexToString(inputCol=s_last.getPredictionCol(),\n",
    "                        labels=labels)\n",
    "    stages.append(its)\n",
    "    model.stages = stages"
   ]
  },
  {
   "cell_type": "markdown",
   "id": "fcdf043d-dc48-4548-9827-eabc6a61e5aa",
   "metadata": {},
   "source": [
    "Now we load are models, ready them and save the deployable models:"
   ]
  },
  {
   "cell_type": "code",
   "execution_count": 14,
   "id": "e612724b-f1c8-4053-972e-46f3158873ee",
   "metadata": {},
   "outputs": [],
   "source": [
    "model_names = ['CommonWordsModel',\n",
    "               'SimilarWordsModel',\n",
    "               'DissimilarWordsModel',\n",
    "               'ExtremesWordsModel',\n",
    "               'LowentropyWordsModel']\n",
    "interim_path = 'data/interim/'\n",
    "models = {name: PipelineModel.load(interim_path+name) for name in model_names}"
   ]
  },
  {
   "cell_type": "code",
   "execution_count": 15,
   "id": "40b6fab3-ed8f-4e7b-baca-ecf5639f34bc",
   "metadata": {},
   "outputs": [
    {
     "name": "stdout",
     "output_type": "stream",
     "text": [
      "[StringIndexerModel: uid=StringIndexer_5150e5fc8a13, handleInvalid=error, NLTKLemmatizer_3634256b87d1, WordSetTrackerModel_5befa5362707, LogisticRegressionModel: uid=LogisticRegression_846b6e77627d, numClasses=57, numFeatures=798]\n",
      "['pyspark.ml.feature', 'reviewed_grapes.transformers', 'reviewed_grapes.models', 'pyspark.ml.classification']\n"
     ]
    }
   ],
   "source": [
    "m = models['DissimilarWordsModel']\n",
    "stages = m.stages\n",
    "print(stages)\n",
    "print([s.__module__ for s in stages])"
   ]
  },
  {
   "cell_type": "code",
   "execution_count": 16,
   "id": "c54f4e8f-bf1e-483c-aba1-d8e52f9e8038",
   "metadata": {},
   "outputs": [
    {
     "name": "stdout",
     "output_type": "stream",
     "text": [
      "Reday CommonWordsModel for deployment.\n",
      "Reday SimilarWordsModel for deployment.\n",
      "Reday DissimilarWordsModel for deployment.\n",
      "Reday ExtremesWordsModel for deployment.\n",
      "Reday LowentropyWordsModel for deployment.\n"
     ]
    }
   ],
   "source": [
    "deployable_models_location = 'reviewed_grapes/fitted_models/{name}'\n",
    "for name, model in models.items():\n",
    "    print(f'Reday {name} for deployment.')\n",
    "    ready_for_deployment(model)\n",
    "    # save it\n",
    "    model.write().overwrite().save(\n",
    "        deployable_models_location.format(name=name)\n",
    "    )"
   ]
  },
  {
   "cell_type": "markdown",
   "id": "d32d31e0-a777-4b57-96d0-5a9297ef9698",
   "metadata": {},
   "source": [
    "Finally we need to define the wrapper we are going to ship along with the model.\n",
    "\n",
    "Below is the helper class that we put in [reviewed_grapes/models.py](ReviewedGrapes/reviewed_grapes/models.py) and ship along with the package of deployable models.\n",
    "\n",
    "```python\n",
    "\n",
    "# partial content of reviewed_grapes/models.py\n",
    "\n",
    "class ReviewedGrapesModel(PipelineModel):\n",
    "\n",
    "    def __new__(cls, inputCol='review', outputCol='prediction',\n",
    "                modelPath=None):\n",
    "        if modelPath is not None:\n",
    "            self = cls.load(modelPath)\n",
    "            # overwrite the input and output cols\n",
    "            stages = self.stages\n",
    "            s_first = stages[0]\n",
    "            s_first.setInputCol(inputCol)\n",
    "            s_last = stages[-1]\n",
    "            s_last.setOutputCol(outputCol)\n",
    "            self.stage = stages\n",
    "        else:\n",
    "            raise NotImplementedError(\n",
    "                'For now only pretrained models are allowed, thus'\n",
    "                ' the `modelPath` attribute must be set when instantiating'\n",
    "                ' this class.'\n",
    "            )\n",
    "\n",
    "        return self\n",
    "```"
   ]
  },
  {
   "cell_type": "markdown",
   "id": "ab5a44d9-c5ad-4db7-8dea-a0141147b62b",
   "metadata": {},
   "source": [
    "We use [partial](https://docs.python.org/3/library/functools.html#functools.partial) to define for each of our model a wrapper class pointing to the appropriate pipeline model (_see [reviewed_grapes/\\_\\_init\\_\\_.py](reviewed_grapes/__init__.py)_).\n",
    "\n",
    "This looks something like:\n",
    "```python\n",
    "\n",
    "# see reviewed_grapes/__init__.py\n",
    "\n",
    "from functools import partial\n",
    "\n",
    "CommonWordsModel = partial(ReviewedGrapesModel, modelPath='<path/to/commonwordmodel>')\n",
    "\n",
    "```\n"
   ]
  },
  {
   "cell_type": "markdown",
   "id": "a2da713b-7636-43e5-a8a6-651db95d5923",
   "metadata": {},
   "source": [
    "---"
   ]
  }
 ],
 "metadata": {
  "kernelspec": {
   "display_name": "Python 3",
   "language": "python",
   "name": "python3"
  },
  "language_info": {
   "codemirror_mode": {
    "name": "ipython",
    "version": 3
   },
   "file_extension": ".py",
   "mimetype": "text/x-python",
   "name": "python",
   "nbconvert_exporter": "python",
   "pygments_lexer": "ipython3",
   "version": "3.8.5"
  }
 },
 "nbformat": 4,
 "nbformat_minor": 5
}
