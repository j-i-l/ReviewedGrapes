{
 "cells": [
  {
   "cell_type": "markdown",
   "id": "1c7775f7-f307-4415-9003-abad9aef0e5d",
   "metadata": {},
   "source": [
    "# Extract Transform Load\n"
   ]
  },
  {
   "cell_type": "code",
   "execution_count": 1,
   "id": "56992665-9a5d-4d73-babf-72e0751c9dec",
   "metadata": {
    "scrolled": true,
    "tags": []
   },
   "outputs": [],
   "source": [
    "# !pip install pandas as pd\n",
    "# !pip install matplotlib\n",
    "# !pip install nltk\n",
    "# !pip install fastparquet\n",
    "import os\n",
    "import numpy as np\n",
    "import pandas as pd\n",
    "from matplotlib import pyplot as plt\n",
    "from IPython.display import Markdown, display\n",
    "%matplotlib inline\n",
    "def warn(string):\n",
    "    display(Markdown('<span style=\"color:red\">'+string+'</span>'))\n",
    "def info(string):\n",
    "    display(Markdown('<span style=\"color:blue\">'+string+'</span>'))"
   ]
  },
  {
   "cell_type": "markdown",
   "id": "2aa005a0-aeaf-4b8c-af5f-5a381422b9ff",
   "metadata": {},
   "source": [
    "---\n",
    "## Load the dataset"
   ]
  },
  {
   "cell_type": "code",
   "execution_count": 2,
   "id": "8798a7b5-a2bb-44ee-8469-5667bdda0840",
   "metadata": {
    "tags": []
   },
   "outputs": [
    {
     "data": {
      "text/html": [
       "<div>\n",
       "<style scoped>\n",
       "    .dataframe tbody tr th:only-of-type {\n",
       "        vertical-align: middle;\n",
       "    }\n",
       "\n",
       "    .dataframe tbody tr th {\n",
       "        vertical-align: top;\n",
       "    }\n",
       "\n",
       "    .dataframe thead th {\n",
       "        text-align: right;\n",
       "    }\n",
       "</style>\n",
       "<table border=\"1\" class=\"dataframe\">\n",
       "  <thead>\n",
       "    <tr style=\"text-align: right;\">\n",
       "      <th></th>\n",
       "      <th>Unnamed: 0</th>\n",
       "      <th>country</th>\n",
       "      <th>description</th>\n",
       "      <th>designation</th>\n",
       "      <th>points</th>\n",
       "      <th>price</th>\n",
       "      <th>province</th>\n",
       "      <th>region_1</th>\n",
       "      <th>region_2</th>\n",
       "      <th>taster_name</th>\n",
       "      <th>taster_twitter_handle</th>\n",
       "      <th>title</th>\n",
       "      <th>variety</th>\n",
       "      <th>winery</th>\n",
       "    </tr>\n",
       "  </thead>\n",
       "  <tbody>\n",
       "    <tr>\n",
       "      <th>0</th>\n",
       "      <td>0</td>\n",
       "      <td>Italy</td>\n",
       "      <td>Aromas include tropical fruit, broom, brimston...</td>\n",
       "      <td>Vulkà Bianco</td>\n",
       "      <td>87</td>\n",
       "      <td>NaN</td>\n",
       "      <td>Sicily &amp; Sardinia</td>\n",
       "      <td>Etna</td>\n",
       "      <td>NaN</td>\n",
       "      <td>Kerin O’Keefe</td>\n",
       "      <td>@kerinokeefe</td>\n",
       "      <td>Nicosia 2013 Vulkà Bianco  (Etna)</td>\n",
       "      <td>White Blend</td>\n",
       "      <td>Nicosia</td>\n",
       "    </tr>\n",
       "    <tr>\n",
       "      <th>1</th>\n",
       "      <td>1</td>\n",
       "      <td>Portugal</td>\n",
       "      <td>This is ripe and fruity, a wine that is smooth...</td>\n",
       "      <td>Avidagos</td>\n",
       "      <td>87</td>\n",
       "      <td>15.0</td>\n",
       "      <td>Douro</td>\n",
       "      <td>NaN</td>\n",
       "      <td>NaN</td>\n",
       "      <td>Roger Voss</td>\n",
       "      <td>@vossroger</td>\n",
       "      <td>Quinta dos Avidagos 2011 Avidagos Red (Douro)</td>\n",
       "      <td>Portuguese Red</td>\n",
       "      <td>Quinta dos Avidagos</td>\n",
       "    </tr>\n",
       "    <tr>\n",
       "      <th>2</th>\n",
       "      <td>2</td>\n",
       "      <td>US</td>\n",
       "      <td>Tart and snappy, the flavors of lime flesh and...</td>\n",
       "      <td>NaN</td>\n",
       "      <td>87</td>\n",
       "      <td>14.0</td>\n",
       "      <td>Oregon</td>\n",
       "      <td>Willamette Valley</td>\n",
       "      <td>Willamette Valley</td>\n",
       "      <td>Paul Gregutt</td>\n",
       "      <td>@paulgwine</td>\n",
       "      <td>Rainstorm 2013 Pinot Gris (Willamette Valley)</td>\n",
       "      <td>Pinot Gris</td>\n",
       "      <td>Rainstorm</td>\n",
       "    </tr>\n",
       "    <tr>\n",
       "      <th>3</th>\n",
       "      <td>3</td>\n",
       "      <td>US</td>\n",
       "      <td>Pineapple rind, lemon pith and orange blossom ...</td>\n",
       "      <td>Reserve Late Harvest</td>\n",
       "      <td>87</td>\n",
       "      <td>13.0</td>\n",
       "      <td>Michigan</td>\n",
       "      <td>Lake Michigan Shore</td>\n",
       "      <td>NaN</td>\n",
       "      <td>Alexander Peartree</td>\n",
       "      <td>NaN</td>\n",
       "      <td>St. Julian 2013 Reserve Late Harvest Riesling ...</td>\n",
       "      <td>Riesling</td>\n",
       "      <td>St. Julian</td>\n",
       "    </tr>\n",
       "    <tr>\n",
       "      <th>4</th>\n",
       "      <td>4</td>\n",
       "      <td>US</td>\n",
       "      <td>Much like the regular bottling from 2012, this...</td>\n",
       "      <td>Vintner's Reserve Wild Child Block</td>\n",
       "      <td>87</td>\n",
       "      <td>65.0</td>\n",
       "      <td>Oregon</td>\n",
       "      <td>Willamette Valley</td>\n",
       "      <td>Willamette Valley</td>\n",
       "      <td>Paul Gregutt</td>\n",
       "      <td>@paulgwine</td>\n",
       "      <td>Sweet Cheeks 2012 Vintner's Reserve Wild Child...</td>\n",
       "      <td>Pinot Noir</td>\n",
       "      <td>Sweet Cheeks</td>\n",
       "    </tr>\n",
       "  </tbody>\n",
       "</table>\n",
       "</div>"
      ],
      "text/plain": [
       "   Unnamed: 0   country                                        description  \\\n",
       "0           0     Italy  Aromas include tropical fruit, broom, brimston...   \n",
       "1           1  Portugal  This is ripe and fruity, a wine that is smooth...   \n",
       "2           2        US  Tart and snappy, the flavors of lime flesh and...   \n",
       "3           3        US  Pineapple rind, lemon pith and orange blossom ...   \n",
       "4           4        US  Much like the regular bottling from 2012, this...   \n",
       "\n",
       "                          designation  points  price           province  \\\n",
       "0                        Vulkà Bianco      87    NaN  Sicily & Sardinia   \n",
       "1                            Avidagos      87   15.0              Douro   \n",
       "2                                 NaN      87   14.0             Oregon   \n",
       "3                Reserve Late Harvest      87   13.0           Michigan   \n",
       "4  Vintner's Reserve Wild Child Block      87   65.0             Oregon   \n",
       "\n",
       "              region_1           region_2         taster_name  \\\n",
       "0                 Etna                NaN       Kerin O’Keefe   \n",
       "1                  NaN                NaN          Roger Voss   \n",
       "2    Willamette Valley  Willamette Valley        Paul Gregutt   \n",
       "3  Lake Michigan Shore                NaN  Alexander Peartree   \n",
       "4    Willamette Valley  Willamette Valley        Paul Gregutt   \n",
       "\n",
       "  taster_twitter_handle                                              title  \\\n",
       "0          @kerinokeefe                  Nicosia 2013 Vulkà Bianco  (Etna)   \n",
       "1            @vossroger      Quinta dos Avidagos 2011 Avidagos Red (Douro)   \n",
       "2           @paulgwine       Rainstorm 2013 Pinot Gris (Willamette Valley)   \n",
       "3                   NaN  St. Julian 2013 Reserve Late Harvest Riesling ...   \n",
       "4           @paulgwine   Sweet Cheeks 2012 Vintner's Reserve Wild Child...   \n",
       "\n",
       "          variety               winery  \n",
       "0     White Blend              Nicosia  \n",
       "1  Portuguese Red  Quinta dos Avidagos  \n",
       "2      Pinot Gris            Rainstorm  \n",
       "3        Riesling           St. Julian  \n",
       "4      Pinot Noir         Sweet Cheeks  "
      ]
     },
     "execution_count": 2,
     "metadata": {},
     "output_type": "execute_result"
    }
   ],
   "source": [
    "wr_df = pd.read_csv('data/winemag-data-130k-v2.csv')\n",
    "wr_df.head(5)"
   ]
  },
  {
   "cell_type": "markdown",
   "id": "6bcd1268-2467-4057-86ee-3cbf964855eb",
   "metadata": {},
   "source": [
    "---\n",
    "\n",
    "## Preprocessing\n",
    "\n",
    "These were the required preprocessing steps define in [reviewed_grapes.data_exp.pandas.v1.ipynb](reviewed_grapes.data_exp.pandas.v1.ipynb):\n",
    "\n",
    "**We work with lowercase words only**\n",
    "  - Make all words lowercase\n",
    "**Decision on duplicates:**\n",
    "  - Drop entries with duplicated descriptions if the variety is the same\n",
    "  - Keep entries with duplicated descriptions if the variety is different\n",
    "**Decision on missing values:**\n",
    "  - Since we deal with a single missing entry, we just delete it\n",
    "**Decision on `variety` mention in `description`:**\n",
    "  - Replace the mention in `description` by the string `'variety'`\n",
    "**Decision on variety categorization:**\n",
    "  - We will will only consider the most common wine varieties that make up 90% of the reviews\n",
    "  - We'll use the varieties as is"
   ]
  },
  {
   "cell_type": "code",
   "execution_count": 4,
   "id": "1fc91f73-f517-456f-bf2a-1fde78b0a647",
   "metadata": {},
   "outputs": [
    {
     "name": "stdout",
     "output_type": "stream",
     "text": [
      "We will use 57 varieties\n"
     ]
    }
   ],
   "source": [
    "# make all words lowercase:\n",
    "for col in wr_df.columns:\n",
    "    wr_df[col] = wr_df[col].apply(lambda x: x.lower() if isinstance(x, str) else x)\n",
    "# drop all rows with duplicated description and variety\n",
    "wr_filtered = wr_df.drop_duplicates(subset=('description', 'variety'), keep='first')\n",
    "# delete the row with the missing variety\n",
    "wr_filtered = wr_filtered.drop(index=wr_filtered[wr_filtered.variety.isnull() == True].index)\n",
    "# replace the mention of the value in the variety column in the description column\n",
    "wr_filtered.description = wr_filtered.apply(lambda x: x.description.replace(x.variety, 'variety') if x.variety in x.description else x.description, axis=1)\n",
    "# now filter for common wine varieties (that make up 90% of the reviews)\n",
    "nbr_entries = wr_filtered.shape[0]\n",
    "varieties_df = pd.DataFrame({'count':wr_filtered.groupby('variety', ).variety.count().sort_values(ascending=False)})\n",
    "varieties_df['fract'] = varieties_df['count']/nbr_entries\n",
    "fraction = 0\n",
    "limit_fraction = 0.9\n",
    "up_to = 1\n",
    "while fraction <= limit_fraction:\n",
    "    fraction = varieties_df.iloc[:up_to].fract.sum()\n",
    "    up_to += 1\n",
    "common = varieties_df.iloc[:up_to].index.values\n",
    "print(f'We will use {len(common)} varieties')\n",
    "wr_filtered = wr_filtered[wr_filtered.variety.isin(common)]"
   ]
  },
  {
   "cell_type": "markdown",
   "id": "88c32aca-2111-45d0-bffa-a0ce1d7cf2b6",
   "metadata": {},
   "source": [
    "Finally we want to get rid of the parts we do not need:"
   ]
  },
  {
   "cell_type": "code",
   "execution_count": 5,
   "id": "c9058db0-ea0c-4f8b-a39d-9606aa0fc318",
   "metadata": {},
   "outputs": [
    {
     "data": {
      "text/html": [
       "<div>\n",
       "<style scoped>\n",
       "    .dataframe tbody tr th:only-of-type {\n",
       "        vertical-align: middle;\n",
       "    }\n",
       "\n",
       "    .dataframe tbody tr th {\n",
       "        vertical-align: top;\n",
       "    }\n",
       "\n",
       "    .dataframe thead th {\n",
       "        text-align: right;\n",
       "    }\n",
       "</style>\n",
       "<table border=\"1\" class=\"dataframe\">\n",
       "  <thead>\n",
       "    <tr style=\"text-align: right;\">\n",
       "      <th></th>\n",
       "      <th>description</th>\n",
       "      <th>variety</th>\n",
       "    </tr>\n",
       "  </thead>\n",
       "  <tbody>\n",
       "    <tr>\n",
       "      <th>0</th>\n",
       "      <td>aromas include tropical fruit, broom, brimston...</td>\n",
       "      <td>white blend</td>\n",
       "    </tr>\n",
       "    <tr>\n",
       "      <th>1</th>\n",
       "      <td>this is ripe and fruity, a wine that is smooth...</td>\n",
       "      <td>portuguese red</td>\n",
       "    </tr>\n",
       "    <tr>\n",
       "      <th>2</th>\n",
       "      <td>tart and snappy, the flavors of lime flesh and...</td>\n",
       "      <td>pinot gris</td>\n",
       "    </tr>\n",
       "    <tr>\n",
       "      <th>3</th>\n",
       "      <td>pineapple rind, lemon pith and orange blossom ...</td>\n",
       "      <td>riesling</td>\n",
       "    </tr>\n",
       "    <tr>\n",
       "      <th>4</th>\n",
       "      <td>much like the regular bottling from 2012, this...</td>\n",
       "      <td>pinot noir</td>\n",
       "    </tr>\n",
       "  </tbody>\n",
       "</table>\n",
       "</div>"
      ],
      "text/plain": [
       "                                         description         variety\n",
       "0  aromas include tropical fruit, broom, brimston...     white blend\n",
       "1  this is ripe and fruity, a wine that is smooth...  portuguese red\n",
       "2  tart and snappy, the flavors of lime flesh and...      pinot gris\n",
       "3  pineapple rind, lemon pith and orange blossom ...        riesling\n",
       "4  much like the regular bottling from 2012, this...      pinot noir"
      ]
     },
     "execution_count": 5,
     "metadata": {},
     "output_type": "execute_result"
    }
   ],
   "source": [
    "# unlink the original dataset:\n",
    "del(wr_df)\n",
    "# drop all but the variety and the description columns in the filtered dataset:\n",
    "for column in wr_filtered.columns:\n",
    "    if column not in ['description', 'variety']:\n",
    "        wr_filtered.drop(column, inplace=True, axis=1)\n",
    "wr_filtered.head(5)"
   ]
  },
  {
   "cell_type": "markdown",
   "id": "7af64d74-dbae-401c-a4f0-da5280403a50",
   "metadata": {},
   "source": [
    "## Export to parquet\n",
    "\n",
    "Now we have our dataset cleaned and ready to be used we export it to a data structure\n",
    "we can use for the further steps."
   ]
  },
  {
   "cell_type": "code",
   "execution_count": 6,
   "id": "4cd3699e-6f1d-44e1-9cb6-820c8546a300",
   "metadata": {},
   "outputs": [],
   "source": [
    "# wr_filtered.to_csv('data/reviews_cleaned.csv')\n",
    "wr_filtered.to_parquet('data/reviews_cleaned', index=True)"
   ]
  },
  {
   "cell_type": "markdown",
   "id": "c7a75392-d1b3-40d3-862c-52170329ac83",
   "metadata": {},
   "source": [
    "---"
   ]
  }
 ],
 "metadata": {
  "kernelspec": {
   "display_name": "Python 3",
   "language": "python",
   "name": "python3"
  },
  "language_info": {
   "codemirror_mode": {
    "name": "ipython",
    "version": 3
   },
   "file_extension": ".py",
   "mimetype": "text/x-python",
   "name": "python",
   "nbconvert_exporter": "python",
   "pygments_lexer": "ipython3",
   "version": "3.8.5"
  }
 },
 "nbformat": 4,
 "nbformat_minor": 5
}
