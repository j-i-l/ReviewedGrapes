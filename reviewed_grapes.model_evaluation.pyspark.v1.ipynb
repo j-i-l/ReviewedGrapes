{
 "cells": [
  {
   "cell_type": "markdown",
   "id": "594353af-b940-4c45-9b17-ea33e4c800cb",
   "metadata": {},
   "source": [
    "# Model Evaluation\n",
    "\n",
    "There are several points we want to address here:\n",
    "\n",
    "- Which one is the best traditional ML method for our purpose > [Determine Main Model](#Determine-Main-Model)\n",
    "- Find good hyperparameter for our ML method > [Hyperparameter Tuning](#Hyperparameter-Tuning)\n",
    "- Determine which feature creation approach performs best > [Target Word Set Evaluation](#Target-Word-Set-Evaluation)\n",
    "\n",
    "## Evaluation Metrics\n",
    "\n",
    "We are dealing with a multi-class classification problem and from our [data exploration notebook](reviewed_grapes.data_exp.pandas.v1.ipynb) we know that\n",
    "the dataset is unbalanced, i.e. some labels occur more often than others.\n",
    "\n",
    "In such a case it can be problematic to use prediction accuracy as metric.\n",
    "This is because the model only needs to have a good precision on the most prevalent classes in order to gain a high evaluation score.\n",
    "\n",
    "What is the best evaluation metric does, of course, depend on what you want to achieve with your model.\n",
    "The very goal might be to get as many predictions right as possible and you don't care if your model does a very bad job in predicting the less frequently present classes.\n",
    "In this case you might stick to accuracy as evaluation even if your dataset is unbalanced.\n",
    "On the other hand, if each class is equally important to you, no matter the frequency it is present in your dataset, then you might want to assess of often your model predicts them.\n",
    "In this case you might want to consider the [recall](https://en.wikipedia.org/wiki/Recall_(information_retrieval)) of your classes, and a measure like the macro-averaged [F-score](https://en.wikipedia.org/wiki/F1_score) might be an adequate evaluation metric.\n",
    "\n",
    "In this case we care about how many predictions we get right overall and don't care so much about whether or not our model manages to pick up all the wine varieties.\n",
    "**Our main evaluation metric will thus be accuracy.**\n",
    "However, we will also report the F-score, just so we can consider an addition dimension when evaluation our models.\n",
    "\n",
    "_For the respective definitions of these metrics have a look at [sparks multi-class evaluation metrics](https://spark.apache.org/docs/3.1.1/mllib-evaluation-metrics.html#label-based-metrics)._"
   ]
  },
  {
   "cell_type": "code",
   "execution_count": 1,
   "id": "7d069d53-6bca-4151-8e47-b618426c2193",
   "metadata": {
    "scrolled": true,
    "tags": []
   },
   "outputs": [],
   "source": [
    "import os\n",
    "import json\n",
    "import numpy as np\n",
    "import pandas as pd\n",
    "from collections import defaultdict\n",
    "from functools import partial\n",
    "from IPython.display import Markdown, display\n",
    "from matplotlib import pyplot as plt\n",
    "from pyspark import keyword_only\n",
    "from pyspark.ml import Pipeline, Transformer, Estimator, Model\n",
    "from pyspark.ml.feature import VectorAssembler, StringIndexer, IndexToString\n",
    "from pyspark.ml.pipeline import PipelineModel\n",
    "from pyspark.ml.classification import LogisticRegression\n",
    "from pyspark.ml.util import DefaultParamsReadable, DefaultParamsWritable\n",
    "from pyspark.ml.linalg import Vectors, VectorUDT\n",
    "from pyspark.ml.evaluation import MulticlassClassificationEvaluator\n",
    "from pyspark.ml.tuning import CrossValidatorModel\n",
    "from pyspark.ml.param.shared import HasInputCol, HasOutputCol, HasOutputCols, Param, Params\n",
    "from pyspark.sql import SparkSession, SQLContext\n",
    "from pyspark.sql.functions import lit, udf\n",
    "from pyspark.sql.types import StructType, StructField, StringType, ArrayType, IntegerType"
   ]
  },
  {
   "cell_type": "code",
   "execution_count": 2,
   "id": "c5d6d7f6-3d1d-4f7e-bf88-3039db774351",
   "metadata": {},
   "outputs": [
    {
     "name": "stderr",
     "output_type": "stream",
     "text": [
      "[nltk_data] Downloading package stopwords to /home/jonas/nltk_data...\n",
      "[nltk_data]   Package stopwords is already up-to-date!\n"
     ]
    }
   ],
   "source": [
    "import nltk\n",
    "nltk.download('stopwords')\n",
    "from nltk.corpus import stopwords"
   ]
  },
  {
   "cell_type": "code",
   "execution_count": 3,
   "id": "a1451965-1773-42f1-8822-977c691d2fd4",
   "metadata": {
    "scrolled": true,
    "tags": []
   },
   "outputs": [],
   "source": [
    "%matplotlib inline\n",
    "def warn(string):\n",
    "    display(Markdown('<span style=\"color:red\">'+string+'</span>'))\n",
    "def info(string):\n",
    "    display(Markdown('<span style=\"color:blue\">'+string+'</span>'))"
   ]
  },
  {
   "cell_type": "code",
   "execution_count": 4,
   "id": "e5212fc9-1df3-43b8-85ed-511fae859e80",
   "metadata": {},
   "outputs": [],
   "source": [
    "spark = SparkSession.builder \\\n",
    "    .master(\"local[*]\") \\\n",
    "    .config(\"spark.driver.maxResultSize\", \"1g\") \\\n",
    "    .config(\"spark.driver.memory\", \"20g\") \\\n",
    "    .appName(\"jojoSparkSession\") \\\n",
    "    .getOrCreate()\n",
    "    # .config(\"spark.driver.memory\", \"20g\") \\\n",
    "    # .config(\"spark.default.parallelism\", \"16\") \\\n",
    "    # .config(\"spark.executor.cores\", \"16\") \\\n",
    "sc = spark.sparkContext\n",
    "sqlContext = SQLContext(sc) "
   ]
  },
  {
   "cell_type": "code",
   "execution_count": 1,
   "id": "9cd96490-a978-4f58-9199-7778df98427d",
   "metadata": {},
   "outputs": [
    {
     "name": "stderr",
     "output_type": "stream",
     "text": [
      "[nltk_data] Downloading package punkt to /home/jonas/nltk_data...\n",
      "[nltk_data]   Package punkt is already up-to-date!\n",
      "[nltk_data] Downloading package wordnet to /home/jonas/nltk_data...\n",
      "[nltk_data]   Package wordnet is already up-to-date!\n"
     ]
    }
   ],
   "source": [
    "from reviewed_grapes.transformers import NLTKLemmatizer\n",
    "from utils.Estimators import WordSetTracker"
   ]
  },
  {
   "cell_type": "markdown",
   "id": "3655f9be-344f-479a-966f-9ef888e6407c",
   "metadata": {},
   "source": [
    "## Determine Main Model\n",
    "\n",
    "We pick the best performing model among:\n",
    "\n",
    "- [Random Forest Classifier](https://spark.apache.org/docs/latest/api/python/reference/api/pyspark.ml.classification.RandomForestClassifier.html)\n",
    "- [Boosted Gradient Trees](https://spark.apache.org/docs/latest/api/python/reference/api/pyspark.ml.classification.GBTClassificationModel.html) (with [1-vs-rest wrapping](https://spark.apache.org/docs/3.1.1/api/python/reference/api/pyspark.ml.classification.OneVsRest.html))\n",
    "- [Naive Bayes](https://spark.apache.org/docs/3.1.1/api/python/reference/api/pyspark.ml.classification.NaiveBayes.html)\n",
    "- [Multinomial Logistic Regression](https://spark.apache.org/docs/latest/api/python/reference/api/pyspark.ml.classification.LogisticRegression.html)\n"
   ]
  },
  {
   "cell_type": "code",
   "execution_count": 7,
   "id": "3a76424b-1033-467d-a3e5-95ed11dafc9c",
   "metadata": {},
   "outputs": [],
   "source": [
    "si = StringIndexer(inputCol='variety', outputCol='label')"
   ]
  },
  {
   "cell_type": "code",
   "execution_count": 8,
   "id": "98a3846d-3707-4bb7-aa6a-9447e8ce0771",
   "metadata": {},
   "outputs": [],
   "source": [
    "# get common english stopwords:\n",
    "en_stopwords = set(stopwords.words('english'))\n",
    "# we also define a custom blacklist:\n",
    "blacklist = set(['wine', 'drink', 'variety', 'show', 'offer', 'make', 'give', 'well',\n",
    "                 'open', 'come', 'years', 'bottle', 'mouth', 'like', 'also', 'along',\n",
    "                 'alongside', 'vineyard', 'ready', 'great', 'one', 'slightly', 'deliver',\n",
    "                 'yet', 'add', 'need', 'big', 'bring', 'easy', 'oral', 'best', 'end', 'alcohol'])\n",
    "# complete the list with our custom blacklist:\n",
    "stop_words = list(en_stopwords.union(blacklist))\n",
    "# instatiate our transformer and the estimator:\n",
    "nltkl = NLTKLemmatizer(inputCol='description', outputCol='words', stopWords=stop_words)"
   ]
  },
  {
   "cell_type": "code",
   "execution_count": 9,
   "id": "8b17beaa-d816-4b28-97c1-f138a31646ae",
   "metadata": {
    "tags": []
   },
   "outputs": [],
   "source": [
    "# we'll stick to only 150 words for now\n",
    "nbrWords = 150\n",
    "with open('data/targetWordSets/common_words.json', 'r') as fo:\n",
    "    common_words = json.load(fo)\n",
    "wst_common = WordSetTracker(inputCol='words', outputCol='features', wordSet=common_words, limitTo=nbrWords)\n",
    "# wst_similar = WordSetTracker(inputCol='words', outputCol='features', wordSet=similar_words)\n",
    "# wst_dissimilar = WordSetTracker(inputCol='words', outputCol='features', wordSet=dissimilar_words)\n",
    "# wst_extremes = WordSetTracker(inputCol='words', outputCol='features', wordSet=extremes_words)\n",
    "# wst_lowentropy = WordSetTracker(inputCol='words', outputCol='features', wordSet=lowentropy_words)"
   ]
  },
  {
   "cell_type": "markdown",
   "id": "8d930048-b88a-43db-b89f-60226e9fd91a",
   "metadata": {},
   "source": [
    "**Lets load the dataset and split it so that so we can test for overfitting later:**"
   ]
  },
  {
   "cell_type": "code",
   "execution_count": 9,
   "id": "19c3c743-5c0f-4b04-9f72-225ffd189811",
   "metadata": {},
   "outputs": [],
   "source": [
    "# load the dataset\n",
    "reviews_sdf = spark.read.parquet('data/reviews_cleaned')\n",
    "df_train, df_test = reviews_sdf.randomSplit([0.9, 0.1])"
   ]
  },
  {
   "cell_type": "markdown",
   "id": "b50cbac5-6e85-47ef-bb78-4deb48c62f7c",
   "metadata": {},
   "source": [
    "Let's already do a pipeline for the first 3 steps.\n",
    "They will be the same no matter what ML method we use.\n",
    "We can transform the data once with this pipeline and then used the transformed dataset with the different ML models:"
   ]
  },
  {
   "cell_type": "code",
   "execution_count": 10,
   "id": "8ecb73d4-6765-45ec-a551-dd16533514c6",
   "metadata": {},
   "outputs": [],
   "source": [
    "preview_model = Pipeline(stages=[si, nltkl, wst_common]).fit(reviews_sdf)"
   ]
  },
  {
   "cell_type": "code",
   "execution_count": 11,
   "id": "b1da4fb6-d938-4d81-aad5-d7a1aa3ee043",
   "metadata": {},
   "outputs": [
    {
     "name": "stdout",
     "output_type": "stream",
     "text": [
      "+---+--------------------+------------------+-----+--------------------+--------------------+\n",
      "| id|         description|           variety|label|               words|            features|\n",
      "+---+--------------------+------------------+-----+--------------------+--------------------+\n",
      "|  0|aromas include tr...|       white blend| 15.0|[herb, overly, of...|(150,[1,3,4,5,9,2...|\n",
      "|  1|this is ripe and ...|    portuguese red| 14.0|[still, better, c...|(150,[1,5,6,8,14,...|\n",
      "|  2|tart and snappy, ...|        pinot gris| 19.0|[poke, flavor, fe...|(150,[0,5,29,49,6...|\n",
      "|  3|pineapple rind, l...|          riesling|  5.0|[opulent, aromas,...|(150,[2,3,4,10,55...|\n",
      "|  7|this dry and rest...|    gewürztraminer| 26.0|[firm, much, offe...|(150,[5,9,12,21,2...|\n",
      "|  8|savory dried thym...|    gewürztraminer| 26.0|[accent, elegant,...|(150,[0,9,10,18,4...|\n",
      "|  9|this has great de...|        pinot gris| 19.0|[pear, flavor, de...|(150,[0,1,5,9,12,...|\n",
      "| 10|soft, supple plum...|cabernet sauvignon|  2.0|[result, envelop,...|(150,[0,2,24,25,2...|\n",
      "| 11|this is a dry win...|    gewürztraminer| 26.0|[mineral, tight, ...|(150,[9,28,29,36,...|\n",
      "| 12|slightly reduced,...|cabernet sauvignon|  2.0|[accent, firm, bo...|(150,[7,11,13,17,...|\n",
      "| 14|building on 150 y...|        chardonnay|  1.0|[approachable, pe...|(150,[0,8,31,45,4...|\n",
      "| 15|zesty orange peel...|          riesling|  5.0|[appeal, peel, re...|(150,[4,9,10,31,8...|\n",
      "| 16|baked plum, molas...|            malbec| 13.0|[balsamic, molass...|(150,[0,2,3,4,5,1...|\n",
      "| 17|raw black-cherry ...|            malbec| 13.0|[profile, direct,...|(150,[0,1,2,3,17,...|\n",
      "| 18|desiccated blackb...| tempranillo blend| 37.0|[desiccate, mint,...|(150,[0,1,2,3,15,...|\n",
      "| 19|red fruit aromas ...|          meritage| 52.0|[approachable, pl...|(150,[1,3,4,7,10,...|\n",
      "| 21|a sleek mix of ta...|        pinot noir|  0.0|[stem, hint, avai...|(150,[16,17,33,53...|\n",
      "| 23|this wine from th...|            merlot|  9.0|[tempt, black, ar...|(150,[0,3,5,11,15...|\n",
      "| 24|aromas of prune, ...|      nero d'avola| 45.0|[bean, provide, b...|(150,[0,3,4,6,7,9...|\n",
      "| 25|oak and earth int...|        pinot noir|  0.0|[production, arom...|(150,[3,12,17,20,...|\n",
      "+---+--------------------+------------------+-----+--------------------+--------------------+\n",
      "only showing top 20 rows\n",
      "\n"
     ]
    }
   ],
   "source": [
    "ready_train = preview_model.transform(df_train).toDF('id', 'description', 'variety', 'label', 'words', 'features')\n",
    "ready_test = preview_model.transform(df_test).toDF('id', 'description', 'variety', 'label', 'words', 'features')\n",
    "ready_train.show()"
   ]
  },
  {
   "cell_type": "markdown",
   "id": "ee72ff01-83b8-4ed2-96bd-b5ea049f0347",
   "metadata": {},
   "source": [
    "We need metrics to evaluate how well our models perform.\n",
    "\n",
    "We use the _accuracy_ to get a measure we can easily interpret.\n",
    "Recall that our **baseline model had an accuracy of ~11%**.\n",
    "Any model that performs worse than that is of no use for us!"
   ]
  },
  {
   "cell_type": "code",
   "execution_count": 14,
   "id": "55cf9c19-a27e-44b6-9beb-50cb59d4def1",
   "metadata": {},
   "outputs": [],
   "source": [
    "accuracy = MulticlassClassificationEvaluator(labelCol='label', predictionCol='prediction', metricName='accuracy')\n",
    "f1 = MulticlassClassificationEvaluator(labelCol='label', predictionCol='prediction', metricName='f1')"
   ]
  },
  {
   "cell_type": "markdown",
   "id": "78c7b330-12c3-4a4b-b4a7-3a0e40c57d2c",
   "metadata": {},
   "source": [
    "We are all set to start fitting different ML models and see how well they perform:\n",
    "\n",
    "---\n",
    "### Random Forest Classifier\n",
    "\n",
    "Various values for `nbrTrees` as well as `maxTreeDepth` were tested. Generally **more trees decrease the risk of overfitting**. The values here below correspond to a trade-off between computational requirements and model performance."
   ]
  },
  {
   "cell_type": "code",
   "execution_count": 15,
   "id": "cad687a5-142d-4f87-9bd4-b4bae4175e56",
   "metadata": {},
   "outputs": [],
   "source": [
    "nbrTrees = 250\n",
    "maxTreeDepth = 10\n",
    "model_path_1 = f'data/evaluation/RFC_{nbrWords}words_{nbrTrees}trees_{maxTreeDepth}depth'"
   ]
  },
  {
   "cell_type": "code",
   "execution_count": 16,
   "id": "65343e44-cac4-45fa-ac1b-4a47c27f22bf",
   "metadata": {},
   "outputs": [],
   "source": [
    "from pyspark.ml.classification import RandomForestClassifier"
   ]
  },
  {
   "cell_type": "code",
   "execution_count": 17,
   "id": "22c1b821-45a6-4ec5-9594-b9e98aebd310",
   "metadata": {
    "tags": []
   },
   "outputs": [
    {
     "name": "stdout",
     "output_type": "stream",
     "text": [
      "+---+--------------------+------------------+-----+--------------------+--------------------+--------------------+--------------------+----------+\n",
      "| id|         description|           variety|label|               words|            features|       rawPrediction|         probability|prediction|\n",
      "+---+--------------------+------------------+-----+--------------------+--------------------+--------------------+--------------------+----------+\n",
      "|  0|aromas include tr...|       white blend| 15.0|[herb, overly, of...|(150,[1,3,4,5,9,2...|[7.92469783215327...|[0.03169879132861...|       1.0|\n",
      "|  1|this is ripe and ...|    portuguese red| 14.0|[still, better, c...|(150,[1,5,6,8,14,...|[41.2849385743962...|[0.16513975429758...|       4.0|\n",
      "|  2|tart and snappy, ...|        pinot gris| 19.0|[poke, flavor, fe...|(150,[0,5,29,49,6...|[12.1926608195630...|[0.04877064327825...|       1.0|\n",
      "|  3|pineapple rind, l...|          riesling|  5.0|[opulent, aromas,...|(150,[2,3,4,10,55...|[12.6352659793370...|[0.05054106391734...|       1.0|\n",
      "|  4|much like the reg...|        pinot noir|  0.0|[bottle, winter, ...|(150,[45,65,78,92...|[30.5098742303926...|[0.12203949692157...|       1.0|\n",
      "|  7|this dry and rest...|    gewürztraminer| 26.0|[firm, much, offe...|(150,[5,9,12,21,2...|[29.0547489166366...|[0.11621899566654...|       1.0|\n",
      "|  8|savory dried thym...|    gewürztraminer| 26.0|[accent, elegant,...|(150,[0,9,10,18,4...|[17.6807845455306...|[0.07072313818212...|       1.0|\n",
      "| 10|soft, supple plum...|cabernet sauvignon|  2.0|[result, envelop,...|(150,[0,2,24,25,2...|[9.62927007498467...|[0.03851708029993...|       2.0|\n",
      "| 11|this is a dry win...|    gewürztraminer| 26.0|[mineral, tight, ...|(150,[9,28,29,36,...|[21.4504382413151...|[0.08580175296526...|       1.0|\n",
      "| 12|slightly reduced,...|cabernet sauvignon|  2.0|[accent, firm, bo...|(150,[7,11,13,17,...|[63.4462703803636...|[0.25378508152145...|       0.0|\n",
      "| 14|building on 150 y...|        chardonnay|  1.0|[approachable, pe...|(150,[0,8,31,45,4...|[5.23549151458611...|[0.02094196605834...|       1.0|\n",
      "| 15|zesty orange peel...|          riesling|  5.0|[appeal, peel, re...|(150,[4,9,10,31,8...|[14.3482145091778...|[0.05739285803671...|       1.0|\n",
      "| 16|baked plum, molas...|            malbec| 13.0|[balsamic, molass...|(150,[0,2,3,4,5,1...|[26.6144989174068...|[0.10645799566962...|       1.0|\n",
      "| 17|raw black-cherry ...|            malbec| 13.0|[profile, direct,...|(150,[0,1,2,3,17,...|[27.7350362800290...|[0.11094014512011...|       1.0|\n",
      "| 18|desiccated blackb...| tempranillo blend| 37.0|[desiccate, mint,...|(150,[0,1,2,3,15,...|[17.8956394282703...|[0.07158255771308...|       2.0|\n",
      "| 19|red fruit aromas ...|          meritage| 52.0|[approachable, pl...|(150,[1,3,4,7,10,...|[2.65907528756001...|[0.01063630115024...|       3.0|\n",
      "| 20|ripe aromas of da...|         red blend|  3.0|[vanilla, ample, ...|(150,[3,4,8,10,11...|[23.2474100786957...|[0.09298964031478...|       3.0|\n",
      "| 21|a sleek mix of ta...|        pinot noir|  0.0|[stem, hint, avai...|(150,[16,17,33,53...|[33.0307308058524...|[0.13212292322340...|       0.0|\n",
      "| 23|this wine from th...|            merlot|  9.0|[tempt, black, ar...|(150,[0,3,5,11,15...|[48.9228266731327...|[0.19569130669253...|       0.0|\n",
      "| 24|aromas of prune, ...|      nero d'avola| 45.0|[bean, provide, b...|(150,[0,3,4,6,7,9...|[27.4430808140686...|[0.10977232325627...|       3.0|\n",
      "+---+--------------------+------------------+-----+--------------------+--------------------+--------------------+--------------------+----------+\n",
      "only showing top 20 rows\n",
      "\n",
      "CPU times: user 49.9 ms, sys: 92.6 ms, total: 143 ms\n",
      "Wall time: 9min 15s\n"
     ]
    }
   ],
   "source": [
    "%%time\n",
    "rfc = RandomForestClassifier(featuresCol='features',\n",
    "                             labelCol='label',\n",
    "                             numTrees=nbrTrees,\n",
    "                             maxMemoryInMB=256,\n",
    "                             maxDepth=maxTreeDepth)\n",
    "ppl_1 = Pipeline(stages=[rfc])\n",
    "model_1 = ppl_1.fit(ready_train)\n",
    "pred_train_1 = model_1.transform(ready_train)\n",
    "model_1.write().overwrite().save(model_path_1)\n",
    "pred_train_1.show()  # we force the lazy execution"
   ]
  },
  {
   "cell_type": "code",
   "execution_count": 25,
   "id": "f67aae2a-9e17-41f7-810f-ef1eee0eaa90",
   "metadata": {},
   "outputs": [],
   "source": [
    "# in case the model was already saved we can also just load it here:\n",
    "model_1 = PipelineModel.load(model_path_1)\n",
    "pred_train_1 = model_1.transform(ready_train)"
   ]
  },
  {
   "cell_type": "code",
   "execution_count": 18,
   "id": "511d7e64-118a-4f58-aa99-58b58979935a",
   "metadata": {
    "tags": []
   },
   "outputs": [
    {
     "data": {
      "text/markdown": [
       "<span style=\"color:blue\">How well is random forest doing?:</span>"
      ],
      "text/plain": [
       "<IPython.core.display.Markdown object>"
      ]
     },
     "metadata": {},
     "output_type": "display_data"
    },
    {
     "data": {
      "text/markdown": [
       "<span style=\"color:blue\">Accuracy: **34.9%**</span>"
      ],
      "text/plain": [
       "<IPython.core.display.Markdown object>"
      ]
     },
     "metadata": {},
     "output_type": "display_data"
    },
    {
     "data": {
      "text/markdown": [
       "<span style=\"color:blue\">F1 score: **0.2544**</span>"
      ],
      "text/plain": [
       "<IPython.core.display.Markdown object>"
      ]
     },
     "metadata": {},
     "output_type": "display_data"
    }
   ],
   "source": [
    "info('How well is random forest doing?:')\n",
    "info(f'Accuracy: **{round(accuracy.evaluate(pred_train_1), 3)*100}%**')\n",
    "info(f'F1 score: **{round(f1.evaluate(pred_train_1), 4)}**')"
   ]
  },
  {
   "cell_type": "code",
   "execution_count": 19,
   "id": "bad0bf68-fe6d-433f-a823-d4b62271ce21",
   "metadata": {},
   "outputs": [
    {
     "data": {
      "text/markdown": [
       "<span style=\"color:blue\">How well are we doing on the test dataset?:</span>"
      ],
      "text/plain": [
       "<IPython.core.display.Markdown object>"
      ]
     },
     "metadata": {},
     "output_type": "display_data"
    },
    {
     "data": {
      "text/markdown": [
       "<span style=\"color:blue\">Accuracy: **34.0%**</span>"
      ],
      "text/plain": [
       "<IPython.core.display.Markdown object>"
      ]
     },
     "metadata": {},
     "output_type": "display_data"
    },
    {
     "data": {
      "text/markdown": [
       "<span style=\"color:blue\">F1 score: **0.2427**</span>"
      ],
      "text/plain": [
       "<IPython.core.display.Markdown object>"
      ]
     },
     "metadata": {},
     "output_type": "display_data"
    }
   ],
   "source": [
    "pred_test_1 = model_1.transform(ready_test)\n",
    "info('How well are we doing on the test dataset?:')\n",
    "info(f'Accuracy: **{round(accuracy.evaluate(pred_test_1), 3)*100}%**')\n",
    "info(f'F1 score: **{round(f1.evaluate(pred_test_1), 4)}**')"
   ]
  },
  {
   "cell_type": "markdown",
   "id": "7bf21dc7-9163-4f92-89b3-0b9b81b82a9b",
   "metadata": {},
   "source": [
    "---\n",
    "### Gradient-boosted Tree Classifier (with 1-vs-all)\n",
    "\n",
    "This classifier currently only supports binary labels, so we use the 1-vs-all reduction to create an estimator that supports multi-class labels.\n",
    "\n",
    "Due to the prolonged training time it was not possible to carry out a more thorough hyperparameter exploration.\n",
    "\n",
    "The significant overfitting as well as the computational requirements make this a less favorable candidate."
   ]
  },
  {
   "cell_type": "code",
   "execution_count": 14,
   "id": "fb4194ea-340a-4270-bf37-63efceed27ef",
   "metadata": {},
   "outputs": [],
   "source": [
    "from pyspark.ml.classification import GBTClassifier, OneVsRest"
   ]
  },
  {
   "cell_type": "code",
   "execution_count": 15,
   "id": "9b6a492f-7b46-4931-9298-bca61ca6fdcb",
   "metadata": {},
   "outputs": [],
   "source": [
    "maxTreeDepth = 10\n",
    "model_path_2 = f'data/evaluation/GBTC1vaA_{nbrWords}words_{maxTreeDepth}depth'"
   ]
  },
  {
   "cell_type": "code",
   "execution_count": 22,
   "id": "a91eea48-5dba-4e20-a287-daa9550d64db",
   "metadata": {
    "tags": []
   },
   "outputs": [
    {
     "name": "stdout",
     "output_type": "stream",
     "text": [
      "CPU times: user 3.82 s, sys: 2.07 s, total: 5.88 s\n",
      "Wall time: 4h 6min 47s\n"
     ]
    }
   ],
   "source": [
    "%%time\n",
    "gbtc =  GBTClassifier(featuresCol='features', labelCol='label', maxDepth=maxTreeDepth)\n",
    "ovr = OneVsRest(classifier=gbtc)\n",
    "ppl_2 = Pipeline(stages=[ovr])\n",
    "model_2 = ppl_2.fit(ready_train)\n",
    "pred_train_2 = model_2.transform(ready_train)\n",
    "model_2.write().overwrite().save(model_path_2)"
   ]
  },
  {
   "cell_type": "code",
   "execution_count": 17,
   "id": "9800ef0e-0396-447a-935e-e52d3c2fbbf2",
   "metadata": {},
   "outputs": [],
   "source": [
    "model_2 = PipelineModel.load(model_path_2)\n",
    "pred_train_2 = model_2.transform(ready_train)"
   ]
  },
  {
   "cell_type": "code",
   "execution_count": 23,
   "id": "baf19403-7a85-43c0-acdb-ef5f02a88cf9",
   "metadata": {
    "tags": []
   },
   "outputs": [
    {
     "data": {
      "text/markdown": [
       "<span style=\"color:blue\">How well is the 1-vs-all gradient-boosted tree doing?:</span>"
      ],
      "text/plain": [
       "<IPython.core.display.Markdown object>"
      ]
     },
     "metadata": {},
     "output_type": "display_data"
    },
    {
     "data": {
      "text/markdown": [
       "<span style=\"color:blue\">Accuracy: **70.3%**</span>"
      ],
      "text/plain": [
       "<IPython.core.display.Markdown object>"
      ]
     },
     "metadata": {},
     "output_type": "display_data"
    },
    {
     "data": {
      "text/markdown": [
       "<span style=\"color:blue\">F1 score: **0.704**</span>"
      ],
      "text/plain": [
       "<IPython.core.display.Markdown object>"
      ]
     },
     "metadata": {},
     "output_type": "display_data"
    }
   ],
   "source": [
    "info('How well is the 1-vs-all gradient-boosted tree doing?:')\n",
    "info(f'Accuracy: **{round(accuracy.evaluate(pred_train_2), 3)*100}%**')\n",
    "info(f'F1 score: **{round(f1.evaluate(pred_train_2), 4)}**')"
   ]
  },
  {
   "cell_type": "code",
   "execution_count": 24,
   "id": "3440b6d2-2286-4f33-a6d9-05918ada8982",
   "metadata": {},
   "outputs": [
    {
     "data": {
      "text/markdown": [
       "<span style=\"color:blue\">How well are we doing on the test dataset?:</span>"
      ],
      "text/plain": [
       "<IPython.core.display.Markdown object>"
      ]
     },
     "metadata": {},
     "output_type": "display_data"
    },
    {
     "data": {
      "text/markdown": [
       "<span style=\"color:blue\">Accuracy: **38.5%**</span>"
      ],
      "text/plain": [
       "<IPython.core.display.Markdown object>"
      ]
     },
     "metadata": {},
     "output_type": "display_data"
    },
    {
     "data": {
      "text/markdown": [
       "<span style=\"color:blue\">F1 score: **0.3513**</span>"
      ],
      "text/plain": [
       "<IPython.core.display.Markdown object>"
      ]
     },
     "metadata": {},
     "output_type": "display_data"
    }
   ],
   "source": [
    "pred_test_2 = model_2.transform(ready_test)\n",
    "info('How well are we doing on the test dataset?:')\n",
    "info(f'Accuracy: **{round(accuracy.evaluate(pred_test_2), 3)*100}%**')\n",
    "info(f'F1 score: **{round(f1.evaluate(pred_test_2), 4)}**')"
   ]
  },
  {
   "cell_type": "markdown",
   "id": "283e7ed7-05b2-4875-be46-20c7ab87e23a",
   "metadata": {},
   "source": [
    "---\n",
    "### Bernoulli Naive Bayes \n",
    "\n",
    "This classifier can be efficiently trained but it assumes independance between the features, which is likely not the case four our dataset."
   ]
  },
  {
   "cell_type": "code",
   "execution_count": 22,
   "id": "e638ee04-6e0c-4332-aa32-d2e178c7c361",
   "metadata": {},
   "outputs": [],
   "source": [
    "from pyspark.ml.classification import NaiveBayes"
   ]
  },
  {
   "cell_type": "code",
   "execution_count": 23,
   "id": "1c83e1fd-6bae-4146-a08a-1ce933c698a2",
   "metadata": {},
   "outputs": [],
   "source": [
    "model_path_3 = f'data/evaluation/BNB_{nbrWords}words'"
   ]
  },
  {
   "cell_type": "code",
   "execution_count": 24,
   "id": "77c1932e-b074-4273-bf9b-02dafd5346bc",
   "metadata": {},
   "outputs": [
    {
     "name": "stdout",
     "output_type": "stream",
     "text": [
      "+---+--------------------+--------------------+-----+--------------------+--------------------+--------------------+--------------------+----------+\n",
      "| id|         description|             variety|label|               words|            features|       rawPrediction|         probability|prediction|\n",
      "+---+--------------------+--------------------+-----+--------------------+--------------------+--------------------+--------------------+----------+\n",
      "| 33|rustic and dry, t...|           red blend|  3.0|[currants, flavor...|(150,[0,9,12,16,4...|[-34.965445881990...|[1.90884982438553...|       3.0|\n",
      "| 48|this bottling res...|     sauvignon blanc|  6.0|[grapefruit, crac...|(150,[0,1,3,4,92,...|[-35.545715272081...|[0.00885880379241...|       6.0|\n",
      "| 67|a blend of merlot...|bordeaux-style re...|  4.0|[vanilla, woody, ...|(150,[0,3,7,10,12...|[-52.339116672758...|[3.97442587774491...|       3.0|\n",
      "| 93|freshness charact...|    grüner veltliner| 22.0|[pear, characteri...|(150,[0,4,10,15,1...|[-39.962824809260...|[2.45182958269115...|      22.0|\n",
      "|100|fresh apple, lemo...|          pinot gris| 19.0|[pear, bold, hint...|(150,[0,13,18,20,...|[-59.539499422379...|[1.77136972366475...|       1.0|\n",
      "|126|mid-gold color. p...|      gewürztraminer| 26.0|[elegant, stone, ...|(150,[1,2,3,5,8,1...|[-72.005332352987...|[7.77839409501337...|      26.0|\n",
      "|140|a big, fat, lusci...|             barbera| 33.0|[effort, dark, le...|(150,[0,1,4,12,17...|[-29.530476518625...|[0.30953227809749...|       0.0|\n",
      "|150|this wine shows o...|  cabernet sauvignon|  2.0|[vanilla, lift, p...|(150,[1,4,7,8,15,...|[-32.724200856574...|[0.21634256249064...|       0.0|\n",
      "|167|the addition of 1...|      cabernet franc| 21.0|[mint, place, bla...|(150,[0,4,6,7,8,1...|[-41.772070028957...|[0.00606004851342...|      11.0|\n",
      "|169|this wine is put ...|          pinot noir|  0.0|[production, farm...|(150,[17,40,48,71...|[-26.374091885559...|[0.17951503378042...|       1.0|\n",
      "|220|briny green olive...|          chardonnay|  1.0|[expression, oliv...|(150,[1,5,8,10,17...|[-37.451468506035...|[3.10923237583387...|       1.0|\n",
      "|226|this is a round a...|        chenin blanc| 38.0|[ample, peach, un...|(150,[2,4,5,8,10,...|[-66.945920860856...|[2.92764009515477...|       1.0|\n",
      "|242|made in the moder...|          chardonnay|  1.0|[sweet, style, fl...|(150,[0,8,17,26,2...|[-46.152756753027...|[1.00073922701438...|       1.0|\n",
      "|243|this sparkling wi...|          chardonnay|  1.0|[elegant, sparkle...|(150,[0,1,2,15,22...|[-35.206969275661...|[0.01726617813998...|      16.0|\n",
      "|275|a medium-weight c...|  cabernet sauvignon|  2.0|[plum, black, aro...|(150,[0,1,2,3,10,...|[-53.993749625025...|[4.73295328440797...|       2.0|\n",
      "|315|honey, almond blo...|            prosecco| 54.0|[lime, fruit, bri...|(150,[0,1,5,25,30...|[-48.650667835004...|[5.77244202518492...|       6.0|\n",
      "|363|this is an opulen...|          chardonnay|  1.0|[gravitas, things...|(150,[1,8,12,20,3...|[-43.823392648675...|[1.11333048964071...|      24.0|\n",
      "|423|there is a savory...|    grüner veltliner| 22.0|[pear, peel, savo...|(150,[2,4,55,59,8...|[-33.379261108539...|[2.04128681133640...|       5.0|\n",
      "|466|crisp and structu...|          chardonnay|  1.0|[still, strongly,...|(150,[5,25,27,35,...|[-49.332974188347...|[9.88475734247293...|      49.0|\n",
      "|470|very dry in style...|     champagne blend| 20.0|[tight, style, fl...|(150,[0,9,24,27,2...|[-43.466646842762...|[2.79665074150301...|      20.0|\n",
      "+---+--------------------+--------------------+-----+--------------------+--------------------+--------------------+--------------------+----------+\n",
      "only showing top 20 rows\n",
      "\n",
      "CPU times: user 43.4 ms, sys: 23.9 ms, total: 67.3 ms\n",
      "Wall time: 20.5 s\n"
     ]
    }
   ],
   "source": [
    "%%time\n",
    "nbc = NaiveBayes(smoothing=1.0, modelType=\"bernoulli\")\n",
    "ppl_3 = Pipeline(stages=[nbc])\n",
    "model_3 = ppl_3.fit(ready_train)\n",
    "pred_train_3 = model_3.transform(ready_train)\n",
    "model_3.write().overwrite().save(model_path_3)\n",
    "pred_train_3.show()"
   ]
  },
  {
   "cell_type": "code",
   "execution_count": 66,
   "id": "f65e661d-5f44-4e02-9c6e-7f68238083e9",
   "metadata": {},
   "outputs": [],
   "source": [
    "model_3 = PipelineModel.load(model_path_3)\n",
    "pred_train_3 = model_3.transform(ready_train)"
   ]
  },
  {
   "cell_type": "code",
   "execution_count": 25,
   "id": "88dc7611-bb38-4953-bed2-6bcd7705fe9c",
   "metadata": {
    "tags": []
   },
   "outputs": [
    {
     "data": {
      "text/markdown": [
       "<span style=\"color:blue\">How well is naive bayes doing?:</span>"
      ],
      "text/plain": [
       "<IPython.core.display.Markdown object>"
      ]
     },
     "metadata": {},
     "output_type": "display_data"
    },
    {
     "data": {
      "text/markdown": [
       "<span style=\"color:blue\">Accuracy: **39.300000000000004%**</span>"
      ],
      "text/plain": [
       "<IPython.core.display.Markdown object>"
      ]
     },
     "metadata": {},
     "output_type": "display_data"
    },
    {
     "data": {
      "text/markdown": [
       "<span style=\"color:blue\">F1 score: **0.3827**</span>"
      ],
      "text/plain": [
       "<IPython.core.display.Markdown object>"
      ]
     },
     "metadata": {},
     "output_type": "display_data"
    }
   ],
   "source": [
    "info('How well is naive bayes doing?:')\n",
    "info(f'Accuracy: **{round(accuracy.evaluate(pred_train_3), 3)*100}%**')\n",
    "info(f'F1 score: **{round(f1.evaluate(pred_train_3), 4)}**')"
   ]
  },
  {
   "cell_type": "code",
   "execution_count": 26,
   "id": "ddd443c5-6cc7-448a-9ea9-af8bd99b0250",
   "metadata": {},
   "outputs": [
    {
     "data": {
      "text/markdown": [
       "<span style=\"color:blue\">How well are we doing on the test dataset?:</span>"
      ],
      "text/plain": [
       "<IPython.core.display.Markdown object>"
      ]
     },
     "metadata": {},
     "output_type": "display_data"
    },
    {
     "data": {
      "text/markdown": [
       "<span style=\"color:blue\">Accuracy: **38.5%**</span>"
      ],
      "text/plain": [
       "<IPython.core.display.Markdown object>"
      ]
     },
     "metadata": {},
     "output_type": "display_data"
    },
    {
     "data": {
      "text/markdown": [
       "<span style=\"color:blue\">F1 score: **0.375**</span>"
      ],
      "text/plain": [
       "<IPython.core.display.Markdown object>"
      ]
     },
     "metadata": {},
     "output_type": "display_data"
    }
   ],
   "source": [
    "pred_test_3 = model_3.transform(ready_test)\n",
    "info('How well are we doing on the test dataset?:')\n",
    "info(f'Accuracy: **{round(accuracy.evaluate(pred_test_3), 3)*100}%**')\n",
    "info(f'F1 score: **{round(f1.evaluate(pred_test_3), 4)}**')"
   ]
  },
  {
   "cell_type": "markdown",
   "id": "843b2d25-6c0b-4d29-8198-c4df0a222fb2",
   "metadata": {},
   "source": [
    "---\n",
    "### Multinomial Logistic Regression\n",
    "\n",
    "This classifier is basically a feed-forward networks without hidden layer."
   ]
  },
  {
   "cell_type": "code",
   "execution_count": 8,
   "id": "10d7fd0a-efcd-4671-b37a-2864e9784a5c",
   "metadata": {},
   "outputs": [],
   "source": [
    "from pyspark.ml.classification import LogisticRegression"
   ]
  },
  {
   "cell_type": "code",
   "execution_count": 28,
   "id": "0ff0c7fb-204c-4d00-a8bf-c5d3c38b1bd5",
   "metadata": {},
   "outputs": [],
   "source": [
    "model_path_4 = f'data/evaluation/MLRC_{nbrWords}words'"
   ]
  },
  {
   "cell_type": "code",
   "execution_count": 29,
   "id": "f13a9552-acdd-4623-820b-d0ace39c0e9c",
   "metadata": {},
   "outputs": [
    {
     "name": "stdout",
     "output_type": "stream",
     "text": [
      "+---+--------------------+--------------------+-----+--------------------+--------------------+--------------------+--------------------+----------+\n",
      "| id|         description|             variety|label|               words|            features|       rawPrediction|         probability|prediction|\n",
      "+---+--------------------+--------------------+-----+--------------------+--------------------+--------------------+--------------------+----------+\n",
      "| 33|rustic and dry, t...|           red blend|  3.0|[currants, flavor...|(150,[0,9,12,16,4...|[0.68166036430532...|[0.00994867262745...|       3.0|\n",
      "| 48|this bottling res...|     sauvignon blanc|  6.0|[grapefruit, crac...|(150,[0,1,3,4,92,...|[1.93939034829799...|[0.05007627897285...|       6.0|\n",
      "| 67|a blend of merlot...|bordeaux-style re...|  4.0|[vanilla, woody, ...|(150,[0,3,7,10,12...|[0.53756285617736...|[0.00133601727798...|       4.0|\n",
      "| 93|freshness charact...|    grüner veltliner| 22.0|[pear, characteri...|(150,[0,4,10,15,1...|[0.77758378365412...|[0.00619950285165...|      22.0|\n",
      "|100|fresh apple, lemo...|          pinot gris| 19.0|[pear, bold, hint...|(150,[0,13,18,20,...|[-1.2114328372789...|[6.08154930322456...|       1.0|\n",
      "|126|mid-gold color. p...|      gewürztraminer| 26.0|[elegant, stone, ...|(150,[1,2,3,5,8,1...|[0.02647850549224...|[0.00494672327450...|      26.0|\n",
      "|140|a big, fat, lusci...|             barbera| 33.0|[effort, dark, le...|(150,[0,1,4,12,17...|[3.44788263600028...|[0.23257364501623...|       0.0|\n",
      "|150|this wine shows o...|  cabernet sauvignon|  2.0|[vanilla, lift, p...|(150,[1,4,7,8,15,...|[3.06825572657387...|[0.17761528279543...|       0.0|\n",
      "|167|the addition of 1...|      cabernet franc| 21.0|[mint, place, bla...|(150,[0,4,6,7,8,1...|[3.40316788807198...|[0.05312364669846...|      11.0|\n",
      "|169|this wine is put ...|          pinot noir|  0.0|[production, farm...|(150,[17,40,48,71...|[3.26983513722025...|[0.12261980583574...|       1.0|\n",
      "|220|briny green olive...|          chardonnay|  1.0|[expression, oliv...|(150,[1,5,8,10,17...|[1.09965033640509...|[0.00300944909345...|       1.0|\n",
      "|226|this is a round a...|        chenin blanc| 38.0|[ample, peach, un...|(150,[2,4,5,8,10,...|[-1.2881794244058...|[4.71707824844081...|       1.0|\n",
      "|242|made in the moder...|          chardonnay|  1.0|[sweet, style, fl...|(150,[0,8,17,26,2...|[0.76759632618831...|[0.00194006367417...|       1.0|\n",
      "|243|this sparkling wi...|          chardonnay|  1.0|[elegant, sparkle...|(150,[0,1,2,15,22...|[2.46933480845676...|[0.09921365534776...|       1.0|\n",
      "|275|a medium-weight c...|  cabernet sauvignon|  2.0|[plum, black, aro...|(150,[0,1,2,3,10,...|[1.56629096408572...|[0.00868561688553...|       2.0|\n",
      "|315|honey, almond blo...|            prosecco| 54.0|[lime, fruit, bri...|(150,[0,1,5,25,30...|[0.07779363159752...|[0.00331097338830...|       6.0|\n",
      "|363|this is an opulen...|          chardonnay|  1.0|[gravitas, things...|(150,[1,8,12,20,3...|[0.91156100304756...|[0.01115692934915...|       1.0|\n",
      "|423|there is a savory...|    grüner veltliner| 22.0|[pear, peel, savo...|(150,[2,4,55,59,8...|[1.30446524238257...|[0.01746241202894...|       5.0|\n",
      "|466|crisp and structu...|          chardonnay|  1.0|[still, strongly,...|(150,[5,25,27,35,...|[2.01877440455559...|[0.03187845271460...|       1.0|\n",
      "|470|very dry in style...|     champagne blend| 20.0|[tight, style, fl...|(150,[0,9,24,27,2...|[0.71097487048799...|[0.00492494786477...|      20.0|\n",
      "+---+--------------------+--------------------+-----+--------------------+--------------------+--------------------+--------------------+----------+\n",
      "only showing top 20 rows\n",
      "\n",
      "CPU times: user 314 ms, sys: 137 ms, total: 451 ms\n",
      "Wall time: 52.8 s\n"
     ]
    }
   ],
   "source": [
    "%%time\n",
    "mlrc = LogisticRegression(regParam=0.01, elasticNetParam=0.01)\n",
    "ppl_4 = Pipeline(stages=[mlrc])\n",
    "model_4 = ppl_4.fit(ready_train)\n",
    "pred_train_4 = model_4.transform(ready_train)\n",
    "model_4.write().overwrite().save(model_path_4)\n",
    "pred_train_4.show()"
   ]
  },
  {
   "cell_type": "code",
   "execution_count": null,
   "id": "bdb8795f-7f1e-47d9-b83e-04ac8fe04b44",
   "metadata": {},
   "outputs": [],
   "source": [
    "model_4 = PipelineModel.load(model_path_4)\n",
    "pred_train_4 = model_4.transform(ready_train)"
   ]
  },
  {
   "cell_type": "code",
   "execution_count": 30,
   "id": "20f7459d-abd1-42ee-960e-509d4556cedc",
   "metadata": {
    "tags": []
   },
   "outputs": [
    {
     "data": {
      "text/markdown": [
       "<span style=\"color:blue\">How well is the multinomial logistic regression doing?:</span>"
      ],
      "text/plain": [
       "<IPython.core.display.Markdown object>"
      ]
     },
     "metadata": {},
     "output_type": "display_data"
    },
    {
     "data": {
      "text/markdown": [
       "<span style=\"color:blue\">Accuracy: **42.5%**</span>"
      ],
      "text/plain": [
       "<IPython.core.display.Markdown object>"
      ]
     },
     "metadata": {},
     "output_type": "display_data"
    },
    {
     "data": {
      "text/markdown": [
       "<span style=\"color:blue\">F1 score: **0.3674**</span>"
      ],
      "text/plain": [
       "<IPython.core.display.Markdown object>"
      ]
     },
     "metadata": {},
     "output_type": "display_data"
    }
   ],
   "source": [
    "info('How well is the multinomial logistic regression doing?:')\n",
    "info(f'Accuracy: **{round(accuracy.evaluate(pred_train_4), 3)*100}%**')\n",
    "info(f'F1 score: **{round(f1.evaluate(pred_train_4), 4)}**')"
   ]
  },
  {
   "cell_type": "code",
   "execution_count": 31,
   "id": "0e9a173e-7278-4897-b6e3-b13d0feac10f",
   "metadata": {},
   "outputs": [
    {
     "data": {
      "text/markdown": [
       "<span style=\"color:blue\">How well are we doing on the test dataset?:</span>"
      ],
      "text/plain": [
       "<IPython.core.display.Markdown object>"
      ]
     },
     "metadata": {},
     "output_type": "display_data"
    },
    {
     "data": {
      "text/markdown": [
       "<span style=\"color:blue\">Accuracy: **41.5%**</span>"
      ],
      "text/plain": [
       "<IPython.core.display.Markdown object>"
      ]
     },
     "metadata": {},
     "output_type": "display_data"
    },
    {
     "data": {
      "text/markdown": [
       "<span style=\"color:blue\">F1 score: **0.3565**</span>"
      ],
      "text/plain": [
       "<IPython.core.display.Markdown object>"
      ]
     },
     "metadata": {},
     "output_type": "display_data"
    }
   ],
   "source": [
    "pred_test_4 = model_4.transform(ready_test)\n",
    "info('How well are we doing on the test dataset?:')\n",
    "info(f'Accuracy: **{round(accuracy.evaluate(pred_test_4), 3)*100}%**')\n",
    "info(f'F1 score: **{round(f1.evaluate(pred_test_4), 4)}**')"
   ]
  },
  {
   "cell_type": "markdown",
   "id": "a1915b36-ee9e-47a4-b282-5760d98e62c3",
   "metadata": {},
   "source": [
    "---\n",
    "## Fazit:\n",
    "\n",
    "_With accuracy ranging from 1/3 to 2/9, random forests, naive bayes and logistic regression all perform better than the marginal case (baseline model) which had an accuracy of around 1/9._\n",
    "\n",
    "So the first take home message is:\n",
    "\n",
    "**Wine reviews are not just purple gibberish, they actually contain some information about the wine variety under judgment.**\n",
    "\n",
    "Before we start comparing the models it should be mentioned that the system these model were trained on had to rely on swap-space during the training.\n",
    "Writing out RAM to disk slows down a process and thus the wall time of each process is a poor indicator for the computational expense as it is also\n",
    "affected by the amount of active memory required.\n",
    "\n",
    "**Random Forests** are known to be computationally expensive and perform relatively poorly on test data.\n",
    "In the case at hand the former can be confirmed, they take roughly 3 times the time to train as multinomial logistic regression, but still perform worse.\n",
    "What concerns the latter, the tendency to overfit could be reduced by increasing the number of trees in the forest.\n",
    "This, however, results in a trade-off between overfitting and computational expense.\n",
    "\n",
    "**Gradient-boosted Trees** are faster and generally outperform random forests. But one needs to take into account that this might only apply to binary classification.\n",
    "As of spark 3.x the implementation of gradient-boosted trees only support binary classifications and needs to be embedded in a 1-vs-all routine in order to handle multi-classed labels. For the case at hand, with ~50 distinct labels, this results in a computational overhead placing this approach at a distant last in terms of computational time.\n",
    "In terms of accuracy, as well as, harmonic mean it performs roughly equally well as logistic regression.\n",
    "However the computational cost of this method is by no means comparable.\n",
    "\n",
    "The **Naive Bayes** likelyhood estimation can be efficiently trained, resulting in the shortest wall time.\n",
    "In terms of performance this method only outperforms random forest.\n",
    "\n",
    "Finally the **Multinomial Logistic Regression** is both, comparatively fast and performs well.\n",
    "\n",
    "\n",
    "**We will use `LogisticRegression` as our main ML model!**\n",
    "\n",
    "---\n",
    "---"
   ]
  },
  {
   "cell_type": "markdown",
   "id": "ce1e64d5-ef04-4dbd-a87d-b699f7f484d8",
   "metadata": {},
   "source": [
    "# Hyperparameter Tuning\n",
    "\n",
    "Here we have a closer look at logistic regression and try to increase performance via hyperparameter tuning.\n",
    "\n",
    "Recall that our custom WordSetTracker also had a hyperparameter, i.e. the number of tracked words.\n",
    "We will include this hyperparameter in our tuning as well.\n",
    "\n",
    "One way to avoid simply tweaking manually is by carrying out a [cross validation](https://spark.apache.org/docs/latest/ml-tuning.html#cross-validation).\n",
    "In short for a given set of hyperparameters we split our training data repeatedly and assess the average performance. \n",
    "We do this over a grid of hyperparameters and identify the best configuration in this gird."
   ]
  },
  {
   "cell_type": "code",
   "execution_count": 6,
   "id": "ccf5e181-f221-40ea-a399-e2dafc9218bf",
   "metadata": {},
   "outputs": [],
   "source": [
    "from pyspark.ml.tuning import CrossValidator, ParamGridBuilder"
   ]
  },
  {
   "cell_type": "code",
   "execution_count": 7,
   "id": "557f489b-d152-442a-a2e5-02d39937e456",
   "metadata": {
    "tags": []
   },
   "outputs": [],
   "source": [
    "si = StringIndexer(inputCol='variety', outputCol='label')\n",
    "# get common english stopwords:\n",
    "en_stopwords = set(stopwords.words('english'))\n",
    "# we also define a custom blacklist:\n",
    "blacklist = set(['wine', 'drink', 'variety', 'show', 'offer', 'make', 'give', 'well',\n",
    "                 'open', 'come', 'years', 'bottle', 'mouth', 'like', 'also', 'along',\n",
    "                 'alongside', 'vineyard', 'ready', 'great', 'one', 'slightly', 'deliver',\n",
    "                 'yet', 'add', 'need', 'big', 'bring', 'easy', 'oral', 'best', 'end', 'alcohol'])\n",
    "# complete the list with our custom blacklist:\n",
    "stop_words = list(en_stopwords.union(blacklist))\n",
    "# instatiate our transformer and the estimator:\n",
    "nltkl = NLTKLemmatizer(inputCol='description', outputCol='words', stopWords=stop_words)\n",
    "# we'll stick to only 150 words for now\n",
    "nbrWords = 150\n",
    "with open('data/targetWordSets/common_words.json', 'r') as fo:\n",
    "    common_words = json.load(fo)\n",
    "wst_common = WordSetTracker(inputCol='words', outputCol='features', wordSet=common_words, limitTo=nbrWords)\n",
    "wst = WordSetTracker(inputCol='words', outputCol='features', limitTo=nbrWords)"
   ]
  },
  {
   "cell_type": "markdown",
   "id": "c8b5fbb0-eb7d-4a8a-a863-53b3df2a1764",
   "metadata": {},
   "source": [
    "To start we only apply the lemmatization and use the resulting dataset:"
   ]
  },
  {
   "cell_type": "code",
   "execution_count": 14,
   "id": "5e3e04e5-ed36-41d4-99de-57b340ae4dfc",
   "metadata": {},
   "outputs": [],
   "source": [
    "lemmatized = Pipeline(stages=[si, nltkl]).fit(reviews_sdf\n",
    "                                        ).transform(reviews_sdf).toDF('id', 'description',\n",
    "                                                                          'variety', 'label', 'words')\n",
    "# we will use the validation_ds at the very end to check how well our model performs on unseen data.\n",
    "review_ds, validation_ds = lemmatized.randomSplit([0.9, 0.1])\n",
    "\n",
    "wst = WordSetTracker(inputCol='words', outputCol='features')\n",
    "mlrc = LogisticRegression()\n",
    "\n",
    "ppl = Pipeline(stages=[wst, mlrc])\n",
    "# create an evaluator to use (or use the already defined accuracy)\n",
    "# accuracy = MulticlassClassificationEvaluator(labelCol='label', predictionCol='prediction', metricName='accuracy')\n",
    "# construct the grid\n",
    "paramGrid = ParamGridBuilder() \\\n",
    "    .addGrid(wst.limitTo, [25, 50, 75, 100, 125, 150, 175, 200]) \\\n",
    "    .addGrid(mlrc.regParam, [0.1, 0.05, 0.01]) \\\n",
    "    .addGrid(mlrc.elasticNetParam, [0.1, 0.05, 0.01]) \\\n",
    "    .build()\n",
    "# where we will store the model:\n",
    "cvmodel = 'data/evaluation/MLRC_corssValidated_model'"
   ]
  },
  {
   "cell_type": "code",
   "execution_count": 35,
   "id": "7e96c513-a0bf-4500-8d71-c7782b131446",
   "metadata": {},
   "outputs": [
    {
     "name": "stdout",
     "output_type": "stream",
     "text": [
      "+---+--------------------+--------------------+-----+--------------------+--------------------+--------------------+--------------------+----------+\n",
      "| id|         description|             variety|label|               words|            features|       rawPrediction|         probability|prediction|\n",
      "+---+--------------------+--------------------+-----+--------------------+--------------------+--------------------+--------------------+----------+\n",
      "| 33|rustic and dry, t...|           red blend|  3.0|[currants, flavor...|(200,[0,9,12,16,4...|[-0.0414068037811...|[0.00290392672320...|       4.0|\n",
      "| 48|this bottling res...|     sauvignon blanc|  6.0|[grapefruit, crac...|(200,[0,1,3,4,91,...|[1.22544432391652...|[0.02625700507405...|       6.0|\n",
      "| 67|a blend of merlot...|bordeaux-style re...|  4.0|[vanilla, woody, ...|(200,[0,3,7,10,12...|[-0.1257720630604...|[3.74467086164563...|       4.0|\n",
      "| 93|freshness charact...|    grüner veltliner| 22.0|[pear, characteri...|(200,[0,4,10,15,1...|[0.67794627656969...|[0.00673903210356...|      22.0|\n",
      "|100|fresh apple, lemo...|          pinot gris| 19.0|[pear, bold, hint...|(200,[0,13,18,21,...|[-1.7822135011363...|[4.02117642676974...|       1.0|\n",
      "|126|mid-gold color. p...|      gewürztraminer| 26.0|[elegant, stone, ...|(200,[1,2,3,5,8,1...|[-0.2934261811670...|[0.00283935649140...|       5.0|\n",
      "|140|a big, fat, lusci...|             barbera| 33.0|[effort, dark, le...|(200,[0,1,4,12,17...|[3.45717758868776...|[0.19372847588415...|       0.0|\n",
      "|150|this wine shows o...|  cabernet sauvignon|  2.0|[vanilla, lift, p...|(200,[1,4,7,8,15,...|[2.92440031082845...|[0.16223319145938...|       0.0|\n",
      "|220|briny green olive...|          chardonnay|  1.0|[expression, oliv...|(200,[1,5,8,10,17...|[1.20573488285781...|[0.00359217113678...|       1.0|\n",
      "|226|this is a round a...|        chenin blanc| 38.0|[ample, peach, un...|(200,[2,4,5,8,10,...|[-0.7636869267878...|[7.77964351912467...|       1.0|\n",
      "|227|the deep ruby col...|          pinot noir|  0.0|[vanilla, new, bl...|(200,[0,1,2,3,4,6...|[7.63293265556970...|[0.85392563196739...|       0.0|\n",
      "|242|made in the moder...|          chardonnay|  1.0|[sweet, style, fl...|(200,[0,8,17,26,2...|[0.81080119480751...|[0.00244990565067...|       1.0|\n",
      "|243|this sparkling wi...|          chardonnay|  1.0|[elegant, sparkle...|(200,[0,1,2,15,22...|[2.50144309080074...|[0.08767749516278...|       1.0|\n",
      "|275|a medium-weight c...|  cabernet sauvignon|  2.0|[plum, black, aro...|(200,[0,1,2,3,10,...|[1.58198789074654...|[0.01009675157809...|       2.0|\n",
      "|315|honey, almond blo...|            prosecco| 54.0|[lime, fruit, bri...|(200,[0,1,5,25,30...|[-0.2506714624701...|[0.00234802023346...|       6.0|\n",
      "|423|there is a savory...|    grüner veltliner| 22.0|[pear, peel, savo...|(200,[2,4,54,59,8...|[1.32996870248861...|[0.01944790033106...|       5.0|\n",
      "|466|crisp and structu...|          chardonnay|  1.0|[still, strongly,...|(200,[5,25,27,36,...|[1.94870439090823...|[0.02365663095517...|       1.0|\n",
      "|470|very dry in style...|     champagne blend| 20.0|[tight, style, fl...|(200,[0,9,24,27,2...|[0.75691920332847...|[0.00559951462433...|      20.0|\n",
      "|476|this is a big win...|           red blend|  3.0|[still, could, pa...|(200,[4,9,19,20,4...|[1.31117367136287...|[0.00102313914432...|       4.0|\n",
      "|512|aged for an extra...|     champagne blend| 20.0|[fruitiness, two,...|(200,[5,8,13,24,2...|[2.23927235922147...|[0.04556393905116...|       1.0|\n",
      "+---+--------------------+--------------------+-----+--------------------+--------------------+--------------------+--------------------+----------+\n",
      "only showing top 20 rows\n",
      "\n",
      "CPU times: user 2min 4s, sys: 33 s, total: 2min 37s\n",
      "Wall time: 1h 7min 37s\n"
     ]
    }
   ],
   "source": [
    "%%time\n",
    "# now create the corssvalidator\n",
    "crossValidator = CrossValidator(estimator=ppl,\n",
    "                                estimatorParamMaps=paramGrid,\n",
    "                                evaluator=accuracy,\n",
    "                                numFolds=3)\n",
    "crossvalidatedmodel = crossValidator.fit(review_ds)\n",
    "crossvalidatedmodel.write().overwrite().save(cvmodel)\n",
    "pred_train = crossvalidatedmodel.transform(review_ds)\n",
    "pred_train.show()"
   ]
  },
  {
   "cell_type": "code",
   "execution_count": 36,
   "id": "5be12113-ecab-4f6d-8bfd-c2ccb9400f88",
   "metadata": {
    "tags": []
   },
   "outputs": [
    {
     "data": {
      "text/markdown": [
       "<span style=\"color:blue\">How well is the multinomial logistic regression doing after crossvalidation?:</span>"
      ],
      "text/plain": [
       "<IPython.core.display.Markdown object>"
      ]
     },
     "metadata": {},
     "output_type": "display_data"
    },
    {
     "data": {
      "text/markdown": [
       "<span style=\"color:blue\">Accuracy: **44.4%**</span>"
      ],
      "text/plain": [
       "<IPython.core.display.Markdown object>"
      ]
     },
     "metadata": {},
     "output_type": "display_data"
    },
    {
     "data": {
      "text/markdown": [
       "<span style=\"color:blue\">F1 score: **0.391**</span>"
      ],
      "text/plain": [
       "<IPython.core.display.Markdown object>"
      ]
     },
     "metadata": {},
     "output_type": "display_data"
    }
   ],
   "source": [
    "info('How well is the multinomial logistic regression doing after crossvalidation?:')\n",
    "info(f'Accuracy: **{round(accuracy.evaluate(pred_train), 3)*100}%**')\n",
    "info(f'F1 score: **{round(f1.evaluate(pred_train), 4)}**')"
   ]
  },
  {
   "cell_type": "code",
   "execution_count": 37,
   "id": "ce6fb04f-f893-4d3b-9003-91ea217da736",
   "metadata": {},
   "outputs": [
    {
     "data": {
      "text/markdown": [
       "<span style=\"color:blue\">How well are we doing on the test dataset?:</span>"
      ],
      "text/plain": [
       "<IPython.core.display.Markdown object>"
      ]
     },
     "metadata": {},
     "output_type": "display_data"
    },
    {
     "data": {
      "text/markdown": [
       "<span style=\"color:blue\">Accuracy: **43.8%**</span>"
      ],
      "text/plain": [
       "<IPython.core.display.Markdown object>"
      ]
     },
     "metadata": {},
     "output_type": "display_data"
    },
    {
     "data": {
      "text/markdown": [
       "<span style=\"color:blue\">F1 score: **0.3834**</span>"
      ],
      "text/plain": [
       "<IPython.core.display.Markdown object>"
      ]
     },
     "metadata": {},
     "output_type": "display_data"
    }
   ],
   "source": [
    "pred_test = crossvalidatedmodel.transform(validation_ds)\n",
    "info('How well are we doing on the test dataset?:')\n",
    "info(f'Accuracy: **{round(accuracy.evaluate(pred_test), 3)*100}%**')\n",
    "info(f'F1 score: **{round(f1.evaluate(pred_test), 4)}**')"
   ]
  },
  {
   "cell_type": "markdown",
   "id": "d1ac9f25-644a-4a32-9cf8-956dea4f9c6b",
   "metadata": {},
   "source": [
    "### Hyperparameter Visualization\n",
    "\n",
    "We have carried out a cross validation over a grid of hyperparameter and can now have a closer look at how they affect the accuracy.\n",
    "\n",
    "Since we have tuned three hyperparameter, one for the word set tracker model and two for the logistic regression model, we will visualize the performance\n",
    "in terms of accuracy for each model separately, using the parameter(s) of the best fit for the other model.\n",
    "\n",
    "At first we need to extract the relevant information from our crossvalidator model:"
   ]
  },
  {
   "cell_type": "code",
   "execution_count": 38,
   "id": "e1f517bd-0d4c-4a71-bc0a-1f1a0235b45f",
   "metadata": {},
   "outputs": [],
   "source": [
    "avg_metric = crossvalidatedmodel.avgMetrics  # average over the folds\n",
    "estimatormaps = crossvalidatedmodel.getEstimatorParamMaps()\n",
    "param_names = tuple(p.name for p in estimatormaps[0])\n",
    "param_values = [tuple(v for v in m.values()) for m in estimatormaps]\n",
    "columns = ('accuracy',)\n",
    "values = map(lambda x: (x,), avg_metric)\n",
    "index = pd.MultiIndex.from_tuples(param_values, names=param_names)\n",
    "# put it all into a pandas df (make further processing easier)\n",
    "all_params_df = pd.DataFrame(values, columns=columns, index=index)"
   ]
  },
  {
   "cell_type": "code",
   "execution_count": 39,
   "id": "c6120da3-005a-43de-8359-066e1e57f1b2",
   "metadata": {},
   "outputs": [],
   "source": [
    "# we show the regression parameter and elastic net parameter\n",
    "# for the best value of most common words (i.e. 200):\n",
    "params_df = all_params_df.xs(200, level=0, axis=0, drop_level=True)\n",
    "mostcommon_df = all_params_df.xs((0.01, 0.01), level=(1,2), axis=0, drop_level=True)"
   ]
  },
  {
   "cell_type": "code",
   "execution_count": 40,
   "id": "76c4f0b7-5be4-4963-97c7-e4ce967309ca",
   "metadata": {},
   "outputs": [],
   "source": [
    "# In order to create a 3d plot we need to create an array of accuracies\n",
    "_accuracy = []\n",
    "for i, grp in params_df.groupby(level=1)['accuracy']:\n",
    "    _accuracy.append(grp.values)\n",
    "accuracy_m = np.vstack(_accuracy)\n",
    "accuracy_vals = np.hstack(_accuracy).ravel()\n",
    "# we will use the parameter values as labels for the x, y axis\n",
    "# and display the parameter grid equally spaced.\n",
    "regParams = params_df.index.get_level_values('regParam').unique()\n",
    "elasticNetParams = params_df.index.get_level_values('elasticNetParam').unique()\n",
    "x = np.arange(regParams.shape[0])\n",
    "y = np.arange(elasticNetParams.shape[0])\n",
    "# make it a meashgrid\n",
    "x_m, y_m = np.meshgrid(x, y)"
   ]
  },
  {
   "cell_type": "code",
   "execution_count": 41,
   "id": "7be60edc-f0dc-42b5-a556-7a2af3cddfd9",
   "metadata": {},
   "outputs": [
    {
     "data": {
      "image/png": "[encoded data removed]",
      "text/plain": [
       "<Figure size 2520x720 with 3 Axes>"
      ]
     },
     "metadata": {
      "needs_background": "light"
     },
     "output_type": "display_data"
    }
   ],
   "source": [
    "# now we can start plotting:\n",
    "from matplotlib import cm\n",
    "fig = plt.figure(figsize=(35,10))\n",
    "ax2 = fig.add_subplot(122)\n",
    "ax = fig.add_subplot(121, projection='3d')\n",
    "ax.w_xaxis.set_ticks(x + 0.1)\n",
    "ax.w_yaxis.set_ticks(y + 0.1)\n",
    "ax.w_xaxis.set_ticklabels(regParams)\n",
    "ax.w_yaxis.set_ticklabels(elasticNetParams)\n",
    "ax.set_xlabel('regParam')\n",
    "ax.set_ylabel('elasticNetParam')\n",
    "ax.set_zlabel('accuracy')\n",
    "\n",
    "# ax.invert_xaxis()\n",
    "ax.invert_yaxis()\n",
    "# ax.bar3d(x_m.ravel(), y_m.ravel(), np.zeros_like(accuracy_vals), dx=0.5, dy=0.5, dz=accuracy_vals)\n",
    "cmhot = plt.get_cmap(\"viridis\")\n",
    "ax.plot_wireframe(x_m, y_m, accuracy_m, ls='dashed')\n",
    "pts = ax.scatter3D(x_m, y_m, accuracy_m, s=100, cmap=cmhot, c=accuracy_m, depthshade=False)\n",
    "cax = fig.colorbar(pts, shrink=1, aspect=10, fraction=0.03)\n",
    "cax.set_label('accuracy')\n",
    "ax.title.set_text(\"\"\"Logistic Regression parameters\"\"\")\n",
    "# and now plot accuracy as a function of most common words used for the best values of\n",
    "# regParam and elasticNetParam:\n",
    "mcax=mostcommon_df.plot(y='accuracy', ax=ax2, style='--o')\n",
    "ax2.title.set_text('Word set tracker parameter')"
   ]
  },
  {
   "cell_type": "markdown",
   "id": "a2da713b-7636-43e5-a8a6-651db95d5923",
   "metadata": {},
   "source": [
    "---\n",
    "# Target Word Set Evaluation\n",
    "\n",
    "During the feature engineering (see [reviewed_grapes.feature_eng.pyspark.v1.ipynb](reviewed_grapes.feature_eng.pyspark.v1.ipynb)) we created several target word sets:\n",
    "\n",
    "- Common words: Simply the most common words in the lemmatized version of review texts.\n",
    "- Similar words*: Words with a vector representation close to the vector representation of a wine variety. \n",
    "- Dissimilar words*: Words with a vector representation opposite to the vector representation of a wine variety. \n",
    "- Extremes words*: Combination of similar and dissimilar words (most similar followed by most dissimilar, etc.).\n",
    "- Low entropy words*: We picked words that presented a distribution of similarities (towards wine varieties) with a low information entropy.\n",
    "\n",
    "_*: Based on deep learning._\n",
    "\n",
    "Now the question is: _Which target word set leads to the best performing model?_\n",
    "\n",
    "The way our `WordSetTracker` is defined (recall that the target word set is just a parameter) allows us to answer this question directly by cross validation of parameter sets over a parameter grid.\n",
    "\n",
    "**The CrossValidator will simply tell us which target word set performed best.**"
   ]
  },
  {
   "cell_type": "code",
   "execution_count": 6,
   "id": "a6585c07-0c44-4b5a-9c0b-b1de8e06f33b",
   "metadata": {},
   "outputs": [],
   "source": [
    "# load the dataset\n",
    "reviews_sdf = spark.read.parquet('data/reviews_cleaned')"
   ]
  },
  {
   "cell_type": "code",
   "execution_count": 7,
   "id": "ee40a53a-c43f-43bc-a476-f4843aa02bff",
   "metadata": {},
   "outputs": [],
   "source": [
    "# get all the word sets:\n",
    "with open('data/targetWordSets/common_words.json', 'r') as fo:\n",
    "    common_words = json.load(fo)\n",
    "with open('data/targetWordSets/similar_words.json', 'r') as fo:\n",
    "    similar_words = json.load(fo)\n",
    "with open('data/targetWordSets/dissimilar_words.json', 'r') as fo:\n",
    "    dissimilar_words = json.load(fo)\n",
    "with open('data/targetWordSets/extreme_words.json', 'r') as fo:\n",
    "    extremes_words = json.load(fo)\n",
    "with open('data/targetWordSets/lowentropy_words.json', 'r') as fo:\n",
    "    lowentropy_words = json.load(fo)"
   ]
  },
  {
   "cell_type": "code",
   "execution_count": 8,
   "id": "7c318154-2aa2-47c6-a42a-e3028f030785",
   "metadata": {},
   "outputs": [],
   "source": [
    "from pyspark.ml.tuning import CrossValidator, ParamGridBuilder"
   ]
  },
  {
   "cell_type": "code",
   "execution_count": 9,
   "id": "9643557b-1041-44e9-a86c-94300033042d",
   "metadata": {
    "tags": []
   },
   "outputs": [],
   "source": [
    "si = StringIndexer(inputCol='variety', outputCol='label')\n",
    "# get common english stopwords:\n",
    "en_stopwords = set(stopwords.words('english'))\n",
    "# we also define a custom blacklist:\n",
    "blacklist = set(['wine', 'drink', 'variety', 'show', 'offer', 'make', 'give', 'well',\n",
    "                 'open', 'come', 'years', 'bottle', 'mouth', 'like', 'also', 'along',\n",
    "                 'alongside', 'vineyard', 'ready', 'great', 'one', 'slightly', 'deliver',\n",
    "                 'yet', 'add', 'need', 'big', 'bring', 'easy', 'oral', 'best', 'end', 'alcohol'])\n",
    "# complete the list with our custom blacklist:\n",
    "stop_words = list(en_stopwords.union(blacklist))\n",
    "# instatiate our transformer and the estimator:\n",
    "nltkl = NLTKLemmatizer(inputCol='description', outputCol='words', stopWords=stop_words)\n",
    "\n",
    "# initialize our word set tracker without wordSet and limitTo:\n",
    "wst = WordSetTracker(inputCol='words', outputCol='features')\n",
    "\n",
    "# init the logistic regression with optimized params:\n",
    "mlrc = LogisticRegression(regParam=0.01, elasticNetParam=0.01)"
   ]
  },
  {
   "cell_type": "markdown",
   "id": "c4a65754-02e0-49fb-be47-519320568b10",
   "metadata": {},
   "source": [
    "To start we only apply the lemmatization and use the resulting dataset:"
   ]
  },
  {
   "cell_type": "code",
   "execution_count": 10,
   "id": "1ac07ca7-c438-4725-9126-90be07d6fef4",
   "metadata": {},
   "outputs": [],
   "source": [
    "lemmatized = Pipeline(stages=[si, nltkl]).fit(reviews_sdf\n",
    "                                        ).transform(reviews_sdf).toDF('id', 'description',\n",
    "                                                                      'variety', 'label', 'words')\n",
    "# we will use the validation_ds at the very end to check how well our model performs on unseen data.\n",
    "review_ds, validation_ds = lemmatized.randomSplit([0.9, 0.1])"
   ]
  },
  {
   "cell_type": "code",
   "execution_count": 11,
   "id": "4c285354-f7cd-48b2-90a4-c2c74d3dacc5",
   "metadata": {},
   "outputs": [],
   "source": [
    "ppl = Pipeline(stages=[wst, mlrc])\n",
    "# create an evaluator to use (or use the already defined accuracy)\n",
    "accuracy = MulticlassClassificationEvaluator(labelCol='label', predictionCol='prediction', metricName='accuracy')\n",
    "f1 = MulticlassClassificationEvaluator(labelCol='label', predictionCol='prediction', metricName='f1')\n",
    "# construct the grid\n",
    "# we will use a multiple of the # of varieties as length\n",
    "nbr_labels = 57\n",
    "paramGrid = ParamGridBuilder() \\\n",
    "    .addGrid(wst.limitTo, [i * nbr_labels for i in range(1, 15)]) \\\n",
    "    .addGrid(wst.wordSet, [common_words, similar_words, dissimilar_words, extremes_words, lowentropy_words]) \\\n",
    "    .build()\n"
   ]
  },
  {
   "cell_type": "code",
   "execution_count": 12,
   "id": "71a1f87e-cea8-4da8-a693-25bf068bcf65",
   "metadata": {},
   "outputs": [],
   "source": [
    "# where we will store the model:\n",
    "cvmodel_acc = 'data/evaluation/targetWordSets_corssValidated_model_acc'\n",
    "# now create the corssvalidator for accuracy\n",
    "tws_crossValidator_acc = CrossValidator(estimator=ppl,\n",
    "                                    estimatorParamMaps=paramGrid,\n",
    "                                    evaluator=accuracy,\n",
    "                                    numFolds=3)"
   ]
  },
  {
   "cell_type": "code",
   "execution_count": 13,
   "id": "11be0fb4-d93f-4f7e-a193-a3017df281ef",
   "metadata": {},
   "outputs": [],
   "source": [
    "cvmodel_f1 = 'data/evaluation/targetWordSets_corssValidated_model_f1'\n",
    "# and the one based on averaged f-score\n",
    "tws_crossValidator_f1 = CrossValidator(estimator=ppl,\n",
    "                                    estimatorParamMaps=paramGrid,\n",
    "                                    evaluator=f1,\n",
    "                                    numFolds=3)"
   ]
  },
  {
   "cell_type": "code",
   "execution_count": 14,
   "id": "7b274696-e59c-4c53-8419-62e29fb57f00",
   "metadata": {},
   "outputs": [
    {
     "name": "stdout",
     "output_type": "stream",
     "text": [
      "CPU times: user 12.7 s, sys: 5.09 s, total: 17.8 s\n",
      "Wall time: 3h 41min 8s\n"
     ]
    }
   ],
   "source": [
    "%%time\n",
    "tws_model_crossvalid_acc = tws_crossValidator_acc.fit(review_ds)\n",
    "tws_model_crossvalid_acc.write().overwrite().save(cvmodel_acc)"
   ]
  },
  {
   "cell_type": "code",
   "execution_count": 15,
   "id": "3a477d5e-8134-413d-baf4-29d39473fcc5",
   "metadata": {},
   "outputs": [
    {
     "name": "stdout",
     "output_type": "stream",
     "text": [
      "CPU times: user 12.9 s, sys: 5.6 s, total: 18.5 s\n",
      "Wall time: 3h 42min 39s\n"
     ]
    }
   ],
   "source": [
    "%%time\n",
    "tws_model_crossvalid_f1 = tws_crossValidator_f1.fit(review_ds)\n",
    "tws_model_crossvalid_f1.write().overwrite().save(cvmodel_f1)"
   ]
  },
  {
   "cell_type": "code",
   "execution_count": null,
   "id": "dc993f82-551e-4185-898a-c4dcfc28007c",
   "metadata": {},
   "outputs": [],
   "source": [
    "# load the model if we have previously run it\n",
    "tws_model_crossvalid_acc = CrossValidatorModel.load(cvmodel_acc)\n",
    "tws_model_crossvalid_f1 = CrossValidatorModel.load(cvmodel_f1)"
   ]
  },
  {
   "cell_type": "code",
   "execution_count": 23,
   "id": "04b01e81-8db1-4f39-8006-dd8e6302f927",
   "metadata": {},
   "outputs": [
    {
     "name": "stdout",
     "output_type": "stream",
     "text": [
      "+---+--------------------+------------------+-----+--------------------+--------------------+--------------------+--------------------+----------+\n",
      "| id|         description|           variety|label|               words|            features|       rawPrediction|         probability|prediction|\n",
      "+---+--------------------+------------------+-----+--------------------+--------------------+--------------------+--------------------+----------+\n",
      "|  0|aromas include tr...|       white blend| 15.0|[herb, overly, of...|(798,[1,3,4,5,9,2...|[0.76921949424911...|[0.01193486745275...|       6.0|\n",
      "|  1|this is ripe and ...|    portuguese red| 14.0|[still, better, c...|(798,[1,5,6,8,14,...|[3.64846518214006...|[0.03792593579734...|       4.0|\n",
      "|  2|tart and snappy, ...|        pinot gris| 19.0|[poke, flavor, fe...|(798,[0,5,29,49,6...|[2.08052488468735...|[0.01349269094409...|       6.0|\n",
      "|  3|pineapple rind, l...|          riesling|  5.0|[opulent, aromas,...|(798,[2,3,4,10,55...|[-0.1322748081201...|[0.00141804612352...|       1.0|\n",
      "|  4|much like the reg...|        pinot noir|  0.0|[bottle, winter, ...|(798,[45,65,78,92...|[4.61005942278722...|[0.34652254359849...|       0.0|\n",
      "|  7|this dry and rest...|    gewürztraminer| 26.0|[firm, much, offe...|(798,[5,9,12,21,2...|[2.06680992562584...|[0.06312590149424...|       8.0|\n",
      "|  8|savory dried thym...|    gewürztraminer| 26.0|[accent, elegant,...|(798,[0,9,10,18,4...|[2.12602193542813...|[0.05740492944944...|       5.0|\n",
      "|  9|this has great de...|        pinot gris| 19.0|[pear, flavor, de...|(798,[0,1,5,9,12,...|[1.08438163642298...|[0.01540377132115...|       1.0|\n",
      "| 10|soft, supple plum...|cabernet sauvignon|  2.0|[result, envelop,...|(798,[0,2,24,25,2...|[2.15976964197762...|[0.00902607410358...|       2.0|\n",
      "| 11|this is a dry win...|    gewürztraminer| 26.0|[mineral, tight, ...|(798,[9,28,29,36,...|[0.78153274047358...|[0.00771358860657...|       8.0|\n",
      "| 12|slightly reduced,...|cabernet sauvignon|  2.0|[accent, firm, bo...|(798,[7,11,13,17,...|[3.89552007415171...|[0.17188022632679...|       2.0|\n",
      "| 14|building on 150 y...|        chardonnay|  1.0|[approachable, pe...|(798,[0,8,31,45,4...|[2.08688262518077...|[0.00532483532519...|       1.0|\n",
      "| 15|zesty orange peel...|          riesling|  5.0|[appeal, peel, re...|(798,[4,9,10,31,8...|[1.34974578528503...|[0.01794052140855...|       5.0|\n",
      "| 16|baked plum, molas...|            malbec| 13.0|[balsamic, molass...|(798,[0,2,3,4,5,1...|[0.83129333727857...|[0.01034643461850...|      17.0|\n",
      "| 17|raw black-cherry ...|            malbec| 13.0|[profile, direct,...|(798,[0,1,2,3,17,...|[2.27376233879169...|[0.04406077232663...|      13.0|\n",
      "| 18|desiccated blackb...| tempranillo blend| 37.0|[desiccate, mint,...|(798,[0,1,2,3,15,...|[2.03517371206028...|[0.02858230527737...|      13.0|\n",
      "| 19|red fruit aromas ...|          meritage| 52.0|[approachable, pl...|(798,[1,3,4,7,10,...|[-0.4905167859832...|[1.18997028229547...|       3.0|\n",
      "| 20|ripe aromas of da...|         red blend|  3.0|[vanilla, ample, ...|(798,[3,4,8,10,11...|[1.23680472448180...|[0.01411812259129...|       3.0|\n",
      "| 21|a sleek mix of ta...|        pinot noir|  0.0|[stem, hint, avai...|(798,[16,17,33,53...|[5.94567382736468...|[0.74598174382323...|       0.0|\n",
      "| 22|delicate aromas r...|       white blend| 15.0|[mineral, delicat...|(798,[1,3,4,5,23,...|[-1.5823305415339...|[3.71084176516157...|       6.0|\n",
      "+---+--------------------+------------------+-----+--------------------+--------------------+--------------------+--------------------+----------+\n",
      "only showing top 20 rows\n",
      "\n"
     ]
    }
   ],
   "source": [
    "pred_train_acc = tws_model_crossvalid_acc.transform(review_ds)\n",
    "pred_train_acc.show()"
   ]
  },
  {
   "cell_type": "code",
   "execution_count": 24,
   "id": "eae9d077-1988-43a3-a598-bab97dd0bd96",
   "metadata": {},
   "outputs": [
    {
     "name": "stdout",
     "output_type": "stream",
     "text": [
      "+---+--------------------+------------------+-----+--------------------+--------------------+--------------------+--------------------+----------+\n",
      "| id|         description|           variety|label|               words|            features|       rawPrediction|         probability|prediction|\n",
      "+---+--------------------+------------------+-----+--------------------+--------------------+--------------------+--------------------+----------+\n",
      "|  0|aromas include tr...|       white blend| 15.0|[herb, overly, of...|(798,[1,3,4,5,9,2...|[0.76921949424911...|[0.01193486745275...|       6.0|\n",
      "|  1|this is ripe and ...|    portuguese red| 14.0|[still, better, c...|(798,[1,5,6,8,14,...|[3.64846518214006...|[0.03792593579734...|       4.0|\n",
      "|  2|tart and snappy, ...|        pinot gris| 19.0|[poke, flavor, fe...|(798,[0,5,29,49,6...|[2.08052488468735...|[0.01349269094409...|       6.0|\n",
      "|  3|pineapple rind, l...|          riesling|  5.0|[opulent, aromas,...|(798,[2,3,4,10,55...|[-0.1322748081201...|[0.00141804612352...|       1.0|\n",
      "|  4|much like the reg...|        pinot noir|  0.0|[bottle, winter, ...|(798,[45,65,78,92...|[4.61005942278722...|[0.34652254359849...|       0.0|\n",
      "|  7|this dry and rest...|    gewürztraminer| 26.0|[firm, much, offe...|(798,[5,9,12,21,2...|[2.06680992562584...|[0.06312590149424...|       8.0|\n",
      "|  8|savory dried thym...|    gewürztraminer| 26.0|[accent, elegant,...|(798,[0,9,10,18,4...|[2.12602193542813...|[0.05740492944944...|       5.0|\n",
      "|  9|this has great de...|        pinot gris| 19.0|[pear, flavor, de...|(798,[0,1,5,9,12,...|[1.08438163642298...|[0.01540377132115...|       1.0|\n",
      "| 10|soft, supple plum...|cabernet sauvignon|  2.0|[result, envelop,...|(798,[0,2,24,25,2...|[2.15976964197762...|[0.00902607410358...|       2.0|\n",
      "| 11|this is a dry win...|    gewürztraminer| 26.0|[mineral, tight, ...|(798,[9,28,29,36,...|[0.78153274047358...|[0.00771358860657...|       8.0|\n",
      "| 12|slightly reduced,...|cabernet sauvignon|  2.0|[accent, firm, bo...|(798,[7,11,13,17,...|[3.89552007415171...|[0.17188022632679...|       2.0|\n",
      "| 14|building on 150 y...|        chardonnay|  1.0|[approachable, pe...|(798,[0,8,31,45,4...|[2.08688262518077...|[0.00532483532519...|       1.0|\n",
      "| 15|zesty orange peel...|          riesling|  5.0|[appeal, peel, re...|(798,[4,9,10,31,8...|[1.34974578528503...|[0.01794052140855...|       5.0|\n",
      "| 16|baked plum, molas...|            malbec| 13.0|[balsamic, molass...|(798,[0,2,3,4,5,1...|[0.83129333727857...|[0.01034643461850...|      17.0|\n",
      "| 17|raw black-cherry ...|            malbec| 13.0|[profile, direct,...|(798,[0,1,2,3,17,...|[2.27376233879169...|[0.04406077232663...|      13.0|\n",
      "| 18|desiccated blackb...| tempranillo blend| 37.0|[desiccate, mint,...|(798,[0,1,2,3,15,...|[2.03517371206028...|[0.02858230527737...|      13.0|\n",
      "| 19|red fruit aromas ...|          meritage| 52.0|[approachable, pl...|(798,[1,3,4,7,10,...|[-0.4905167859832...|[1.18997028229547...|       3.0|\n",
      "| 20|ripe aromas of da...|         red blend|  3.0|[vanilla, ample, ...|(798,[3,4,8,10,11...|[1.23680472448180...|[0.01411812259129...|       3.0|\n",
      "| 21|a sleek mix of ta...|        pinot noir|  0.0|[stem, hint, avai...|(798,[16,17,33,53...|[5.94567382736468...|[0.74598174382323...|       0.0|\n",
      "| 22|delicate aromas r...|       white blend| 15.0|[mineral, delicat...|(798,[1,3,4,5,23,...|[-1.5823305415339...|[3.71084176516157...|       6.0|\n",
      "+---+--------------------+------------------+-----+--------------------+--------------------+--------------------+--------------------+----------+\n",
      "only showing top 20 rows\n",
      "\n"
     ]
    }
   ],
   "source": [
    "pred_train_f1 = tws_model_crossvalid_f1.transform(review_ds)\n",
    "pred_train_f1.show()"
   ]
  },
  {
   "cell_type": "code",
   "execution_count": 18,
   "id": "b5dd9d3e-62f7-4af5-9bef-b13dfe6726e1",
   "metadata": {
    "tags": []
   },
   "outputs": [
    {
     "data": {
      "text/markdown": [
       "<span style=\"color:blue\">How well is the best **accuracy-evaluated model** performing?:</span>"
      ],
      "text/plain": [
       "<IPython.core.display.Markdown object>"
      ]
     },
     "metadata": {},
     "output_type": "display_data"
    },
    {
     "data": {
      "text/markdown": [
       "<span style=\"color:blue\">- Accuracy: **55.7%**</span>"
      ],
      "text/plain": [
       "<IPython.core.display.Markdown object>"
      ]
     },
     "metadata": {},
     "output_type": "display_data"
    },
    {
     "data": {
      "text/markdown": [
       "<span style=\"color:blue\">- F1 score: **0.5242**</span>"
      ],
      "text/plain": [
       "<IPython.core.display.Markdown object>"
      ]
     },
     "metadata": {},
     "output_type": "display_data"
    },
    {
     "data": {
      "text/markdown": [
       "<span style=\"color:blue\">How well are we doing on the validation dataset?:</span>"
      ],
      "text/plain": [
       "<IPython.core.display.Markdown object>"
      ]
     },
     "metadata": {},
     "output_type": "display_data"
    },
    {
     "data": {
      "text/markdown": [
       "<span style=\"color:blue\">- Accuracy: **52.3%**</span>"
      ],
      "text/plain": [
       "<IPython.core.display.Markdown object>"
      ]
     },
     "metadata": {},
     "output_type": "display_data"
    },
    {
     "data": {
      "text/markdown": [
       "<span style=\"color:blue\">- F1 score: **0.4874**</span>"
      ],
      "text/plain": [
       "<IPython.core.display.Markdown object>"
      ]
     },
     "metadata": {},
     "output_type": "display_data"
    }
   ],
   "source": [
    "info('How well is the best **accuracy-evaluated model** performing?:')\n",
    "info(f'- Accuracy: **{round(accuracy.evaluate(pred_train_acc)*100, 1)}%**')\n",
    "info(f'- F1 score: **{round(f1.evaluate(pred_train_acc), 4)}**')\n",
    "pred_test_acc = tws_model_crossvalid_acc.transform(validation_ds)\n",
    "info('How well are we doing on the validation dataset?:')\n",
    "info(f'- Accuracy: **{round(accuracy.evaluate(pred_test_acc)*100, 1)}%**')\n",
    "info(f'- F1 score: **{round(f1.evaluate(pred_test_acc), 4)}**')"
   ]
  },
  {
   "cell_type": "code",
   "execution_count": 19,
   "id": "c807f5f2-34b4-486c-991f-913b03fc8262",
   "metadata": {},
   "outputs": [
    {
     "data": {
      "text/markdown": [
       "<span style=\"color:blue\">How well is the best **fscore-evaluated model** performing?:</span>"
      ],
      "text/plain": [
       "<IPython.core.display.Markdown object>"
      ]
     },
     "metadata": {},
     "output_type": "display_data"
    },
    {
     "data": {
      "text/markdown": [
       "<span style=\"color:blue\">- Accuracy: **55.7%**</span>"
      ],
      "text/plain": [
       "<IPython.core.display.Markdown object>"
      ]
     },
     "metadata": {},
     "output_type": "display_data"
    },
    {
     "data": {
      "text/markdown": [
       "<span style=\"color:blue\">- F1 score: **0.5242**</span>"
      ],
      "text/plain": [
       "<IPython.core.display.Markdown object>"
      ]
     },
     "metadata": {},
     "output_type": "display_data"
    },
    {
     "data": {
      "text/markdown": [
       "<span style=\"color:blue\">How well are we doing on the validation dataset?:</span>"
      ],
      "text/plain": [
       "<IPython.core.display.Markdown object>"
      ]
     },
     "metadata": {},
     "output_type": "display_data"
    },
    {
     "data": {
      "text/markdown": [
       "<span style=\"color:blue\">- Accuracy: **52.3%**</span>"
      ],
      "text/plain": [
       "<IPython.core.display.Markdown object>"
      ]
     },
     "metadata": {},
     "output_type": "display_data"
    },
    {
     "data": {
      "text/markdown": [
       "<span style=\"color:blue\">- F1 score: **0.4874**</span>"
      ],
      "text/plain": [
       "<IPython.core.display.Markdown object>"
      ]
     },
     "metadata": {},
     "output_type": "display_data"
    }
   ],
   "source": [
    "info('How well is the best **fscore-evaluated model** performing?:')\n",
    "info(f'- Accuracy: **{round(accuracy.evaluate(pred_train_f1)*100, 1)}%**')\n",
    "info(f'- F1 score: **{round(f1.evaluate(pred_train_f1), 4)}**')\n",
    "pred_test_f1 = tws_model_crossvalid_f1.transform(validation_ds)\n",
    "info('How well are we doing on the validation dataset?:')\n",
    "info(f'- Accuracy: **{round(accuracy.evaluate(pred_test_f1)*100, 1)}%**')\n",
    "info(f'- F1 score: **{round(f1.evaluate(pred_test_f1), 4)}**')"
   ]
  },
  {
   "cell_type": "markdown",
   "id": "8463b80b-8ada-423f-9e5a-36053ac735f3",
   "metadata": {},
   "source": [
    "## Visualization of target word set performances"
   ]
  },
  {
   "cell_type": "code",
   "execution_count": 20,
   "id": "ad4f3bed-4f77-46dc-9138-a7e4bd95a548",
   "metadata": {},
   "outputs": [],
   "source": [
    "# make it easy to map target word sets to a name\n",
    "tws = {\n",
    "    'Common Words': common_words,\n",
    "    'Similar Words': similar_words,\n",
    "    'Dissimilar Words': dissimilar_words,\n",
    "    'Extremes Words': extremes_words,\n",
    "    'Low Entropy Words': lowentropy_words\n",
    "}"
   ]
  },
  {
   "cell_type": "markdown",
   "id": "c411b4a3-3981-4a8f-83b9-7692d7321dc5",
   "metadata": {},
   "source": [
    "Now we combine our evaluations in a pandas df:"
   ]
  },
  {
   "cell_type": "code",
   "execution_count": 21,
   "id": "3f210d64-8e40-489a-99ba-71feb521c5da",
   "metadata": {},
   "outputs": [],
   "source": [
    "# First we construct a multy level index (same for both accuracy and f1)\n",
    "estimatormaps = tws_model_crossvalid_acc.getEstimatorParamMaps()\n",
    "param_names = tuple(p.name for p in estimatormaps[0])\n",
    "param_values = [tuple(v for v in m.values()) for m in estimatormaps]\n",
    "for i, param in enumerate(param_values):\n",
    "    alist = param[1]\n",
    "    for ws_name, ws in tws.items():\n",
    "        if alist == ws:\n",
    "            name = ws_name\n",
    "            break\n",
    "    param_values[i] = (param_values[i][0], name)"
   ]
  },
  {
   "cell_type": "code",
   "execution_count": 22,
   "id": "286ecd0c-1aab-46f7-8029-0b5a2c278e7c",
   "metadata": {},
   "outputs": [
    {
     "data": {
      "text/html": [
       "<div>\n",
       "<style scoped>\n",
       "    .dataframe tbody tr th:only-of-type {\n",
       "        vertical-align: middle;\n",
       "    }\n",
       "\n",
       "    .dataframe tbody tr th {\n",
       "        vertical-align: top;\n",
       "    }\n",
       "\n",
       "    .dataframe thead th {\n",
       "        text-align: right;\n",
       "    }\n",
       "</style>\n",
       "<table border=\"1\" class=\"dataframe\">\n",
       "  <thead>\n",
       "    <tr style=\"text-align: right;\">\n",
       "      <th></th>\n",
       "      <th></th>\n",
       "      <th>accuracy</th>\n",
       "      <th>F-score</th>\n",
       "    </tr>\n",
       "    <tr>\n",
       "      <th>limitTo</th>\n",
       "      <th>wordSet</th>\n",
       "      <th></th>\n",
       "      <th></th>\n",
       "    </tr>\n",
       "  </thead>\n",
       "  <tbody>\n",
       "    <tr>\n",
       "      <th rowspan=\"5\" valign=\"top\">57</th>\n",
       "      <th>Common Words</th>\n",
       "      <td>0.339791</td>\n",
       "      <td>0.273389</td>\n",
       "    </tr>\n",
       "    <tr>\n",
       "      <th>Similar Words</th>\n",
       "      <td>0.227009</td>\n",
       "      <td>0.176052</td>\n",
       "    </tr>\n",
       "    <tr>\n",
       "      <th>Dissimilar Words</th>\n",
       "      <td>0.156526</td>\n",
       "      <td>0.098341</td>\n",
       "    </tr>\n",
       "    <tr>\n",
       "      <th>Extremes Words</th>\n",
       "      <td>0.210935</td>\n",
       "      <td>0.163081</td>\n",
       "    </tr>\n",
       "    <tr>\n",
       "      <th>Low Entropy Words</th>\n",
       "      <td>0.210954</td>\n",
       "      <td>0.152447</td>\n",
       "    </tr>\n",
       "    <tr>\n",
       "      <th>...</th>\n",
       "      <th>...</th>\n",
       "      <td>...</td>\n",
       "      <td>...</td>\n",
       "    </tr>\n",
       "    <tr>\n",
       "      <th rowspan=\"5\" valign=\"top\">798</th>\n",
       "      <th>Common Words</th>\n",
       "      <td>0.519702</td>\n",
       "      <td>0.483636</td>\n",
       "    </tr>\n",
       "    <tr>\n",
       "      <th>Similar Words</th>\n",
       "      <td>0.485363</td>\n",
       "      <td>0.447921</td>\n",
       "    </tr>\n",
       "    <tr>\n",
       "      <th>Dissimilar Words</th>\n",
       "      <td>0.462139</td>\n",
       "      <td>0.421805</td>\n",
       "    </tr>\n",
       "    <tr>\n",
       "      <th>Extremes Words</th>\n",
       "      <td>0.488397</td>\n",
       "      <td>0.449043</td>\n",
       "    </tr>\n",
       "    <tr>\n",
       "      <th>Low Entropy Words</th>\n",
       "      <td>0.498576</td>\n",
       "      <td>0.460759</td>\n",
       "    </tr>\n",
       "  </tbody>\n",
       "</table>\n",
       "<p>70 rows × 2 columns</p>\n",
       "</div>"
      ],
      "text/plain": [
       "                           accuracy   F-score\n",
       "limitTo wordSet                              \n",
       "57      Common Words       0.339791  0.273389\n",
       "        Similar Words      0.227009  0.176052\n",
       "        Dissimilar Words   0.156526  0.098341\n",
       "        Extremes Words     0.210935  0.163081\n",
       "        Low Entropy Words  0.210954  0.152447\n",
       "...                             ...       ...\n",
       "798     Common Words       0.519702  0.483636\n",
       "        Similar Words      0.485363  0.447921\n",
       "        Dissimilar Words   0.462139  0.421805\n",
       "        Extremes Words     0.488397  0.449043\n",
       "        Low Entropy Words  0.498576  0.460759\n",
       "\n",
       "[70 rows x 2 columns]"
      ]
     },
     "execution_count": 22,
     "metadata": {},
     "output_type": "execute_result"
    }
   ],
   "source": [
    "# now we get accuracy and f score \n",
    "columns = ('accuracy', 'F-score')\n",
    "avg_acc = tws_model_crossvalid_acc.avgMetrics  # average over the folds\n",
    "avg_f1 = tws_model_crossvalid_f1.avgMetrics  # average over the folds\n",
    "values = list(zip(avg_acc, avg_f1))\n",
    "index = pd.MultiIndex.from_tuples(param_values, names=param_names)\n",
    "# put it all into a pandas df (make further processing easier)\n",
    "all_params_df = pd.DataFrame(values, columns=columns, index=index)\n",
    "df_name = 'data/interim/tws_evaluation_pdDF'\n",
    "all_params_df.to_pickle(df_name)\n",
    "all_params_df"
   ]
  },
  {
   "cell_type": "code",
   "execution_count": 50,
   "id": "9cf4aa18-132c-49f2-a831-3b5b674f2e5c",
   "metadata": {},
   "outputs": [],
   "source": [
    "# in case we saved it and don't want to rerun everything:\n",
    "all_params_df = pd.read_pickle(df_name)"
   ]
  },
  {
   "cell_type": "code",
   "execution_count": null,
   "id": "1e0d0ddf-7126-41ee-8b34-a52230d9bae6",
   "metadata": {},
   "outputs": [],
   "source": [
    "# finally include the marginal maximizer as baseline\n",
    "name = 'reviewed_grapes/fitted_models/MarginalModel'\n",
    "marginal_model = PipelineModel.load(name)\n",
    "marg_pred = marginal_model.transform(validation_ds)\n",
    "baseline_acc = accuracy.evaluate(marg_pred)\n",
    "baseline_f1 = f1.evaluate(marg_pred)"
   ]
  },
  {
   "cell_type": "code",
   "execution_count": 36,
   "id": "5e5e28ca-10b6-45c1-9b4e-82e0c31ba36b",
   "metadata": {},
   "outputs": [
    {
     "data": {
      "text/plain": [
       "Text(0, 0.5, 'F-score')"
      ]
     },
     "execution_count": 36,
     "metadata": {},
     "output_type": "execute_result"
    },
    {
     "data": {
      "image/png": "[encoded data removed]",
      "text/plain": [
       "<Figure size 2520x1080 with 2 Axes>"
      ]
     },
     "metadata": {},
     "output_type": "display_data"
    }
   ],
   "source": [
    "from matplotlib.lines import Line2D\n",
    "from matplotlib import cm\n",
    "plt.style.use('ggplot')\n",
    "fig = plt.figure(figsize=(35,15))\n",
    "ax2 = fig.add_subplot(122)\n",
    "ax1 = fig.add_subplot(121)\n",
    "\n",
    "for name in tws.keys():\n",
    "    all_params_df.xs(name, level=1, axis=0, drop_level=True) \\\n",
    "        .plot(y='accuracy', ax=ax1, style='--o', label=name, ms=10)\n",
    "    all_params_df.xs(name, level=1, axis=0, drop_level=True) \\\n",
    "        .plot(y='F-score', ax=ax2, style='--o', label=name, ms=10)\n",
    "ax1.hlines(baseline_acc, 50, 810, colors='black', ls='dashed', label='Baseline')\n",
    "ax2.hlines(baseline_f1, 50, 810, colors='black', ls='dashed', label='Baseline')\n",
    "# just to force updateing the lengend\n",
    "handles, labels = ax1.get_legend_handles_labels()\n",
    "ax1.legend(handles=handles)\n",
    "handles, labels = ax2.get_legend_handles_labels()\n",
    "ax2.legend(handles=handles)\n",
    "\n",
    "ax1.set_xlabel('Number of features')\n",
    "ax2.set_xlabel('Number of features')\n",
    "ax1.set_ylabel('Accuracy')\n",
    "ax2.set_ylabel('F-score')\n"
   ]
  },
  {
   "cell_type": "markdown",
   "id": "142d7b77-2b8d-4a4a-be7c-88c06d662fbb",
   "metadata": {},
   "source": [
    "---"
   ]
  }
 ],
 "metadata": {
  "kernelspec": {
   "display_name": "Python 3",
   "language": "python",
   "name": "python3"
  },
  "language_info": {
   "codemirror_mode": {
    "name": "ipython",
    "version": 3
   },
   "file_extension": ".py",
   "mimetype": "text/x-python",
   "name": "python",
   "nbconvert_exporter": "python",
   "pygments_lexer": "ipython3",
   "version": "3.8.5"
  }
 },
 "nbformat": 4,
 "nbformat_minor": 5
}
