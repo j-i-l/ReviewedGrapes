{
 "cells": [
  {
   "cell_type": "markdown",
   "id": "ef359050-0948-401b-833a-ee6999a59f66",
   "metadata": {},
   "source": [
    "# Feature Creation\n",
    "\n",
    "---\n",
    "\n",
    "This concerns the steps 2 & 3 from the [General Model Approach](./README.md#General-Model-Approach):\n",
    "\n",
    "**2. Render each word in the review text to a canonical form.**\n",
    "\n",
    "**3. Use a predefined set of words, a _target word set_, to create a feature vector of binary features, each indicating the presence or absence of one of the words in the target word set.**\n",
    "\n",
    "\n",
    "**Step 2** will be the same for all models we define.\n",
    "\n",
    "**Step 3** is similar to what we did for the labels in our [baseline model](./reviwed_grapes.method_baseline.pyspark.v1.ipynb) but this time we do it for the canonical words in the reviews.\n",
    "\n",
    "We carry out different approaches for step 3, leading to different target word sets: \n",
    "\n",
    "- [Most Common Word](#Most-Common-Words)\n",
    "\n",
    "- [Word2Vector Based](#Word2Vec-Based)\n",
    "  - [Similar Words](#Similar-Words)\n",
    "  - [Dissimilar Words](#Dissimilar-Words)\n",
    "  - [Extremes Word Set](#Extremes-Word-Set)\n",
    "  - [Low Entropy Word Set](#Low-Entropy-Word-Set)\n",
    "\n",
    "---"
   ]
  },
  {
   "cell_type": "code",
   "execution_count": 1,
   "id": "3e819e18-06a5-482b-9e1c-634deb9df13d",
   "metadata": {},
   "outputs": [],
   "source": [
    "import json\n",
    "import numpy as np\n",
    "from pyspark.sql import SparkSession, SQLContext\n",
    "from pyspark.ml import Pipeline\n",
    "from pyspark.ml.feature import StringIndexer\n",
    "from pyspark.sql.functions import udf, col\n",
    "from pyspark.sql.types import ArrayType, StringType\n",
    "from matplotlib import pyplot as plt\n",
    "from IPython.display import Markdown, display"
   ]
  },
  {
   "cell_type": "code",
   "execution_count": 2,
   "id": "a1451965-1773-42f1-8822-977c691d2fd4",
   "metadata": {
    "scrolled": true,
    "tags": []
   },
   "outputs": [],
   "source": [
    "%matplotlib inline\n",
    "def warn(string):\n",
    "    display(Markdown('<span style=\"color:red\">'+string+'</span>'))\n",
    "def info(string):\n",
    "    display(Markdown('<span style=\"color:blue\">'+string+'</span>'))"
   ]
  },
  {
   "cell_type": "code",
   "execution_count": 3,
   "id": "e5212fc9-1df3-43b8-85ed-511fae859e80",
   "metadata": {},
   "outputs": [],
   "source": [
    "spark = SparkSession.builder \\\n",
    "    .master(\"local[*]\") \\\n",
    "    .config(\"spark.driver.maxResultSize\", \"1g\") \\\n",
    "    .config(\"spark.driver.memory\", \"20g\") \\\n",
    "    .appName(\"jojoSparkSession\") \\\n",
    "    .getOrCreate()\n",
    "    # .config(\"spark.driver.memory\", \"20g\") \\\n",
    "    # .config(\"spark.default.parallelism\", \"16\") \\\n",
    "    # .config(\"spark.executor.cores\", \"16\") \\\n",
    "sc = spark.sparkContext\n",
    "sqlContext = SQLContext(sc) "
   ]
  },
  {
   "cell_type": "code",
   "execution_count": 4,
   "id": "47745d7c-50dd-4904-85f8-5e593cca8563",
   "metadata": {},
   "outputs": [
    {
     "name": "stdout",
     "output_type": "stream",
     "text": [
      "+-----+--------------------+------------------+\n",
      "|index|         description|           variety|\n",
      "+-----+--------------------+------------------+\n",
      "|    0|aromas include tr...|       white blend|\n",
      "|    1|this is ripe and ...|    portuguese red|\n",
      "|    2|tart and snappy, ...|        pinot gris|\n",
      "|    3|pineapple rind, l...|          riesling|\n",
      "|    4|much like the reg...|        pinot noir|\n",
      "|    7|this dry and rest...|    gewürztraminer|\n",
      "|    8|savory dried thym...|    gewürztraminer|\n",
      "|    9|this has great de...|        pinot gris|\n",
      "|   10|soft, supple plum...|cabernet sauvignon|\n",
      "|   11|this is a dry win...|    gewürztraminer|\n",
      "|   12|slightly reduced,...|cabernet sauvignon|\n",
      "|   14|building on 150 y...|        chardonnay|\n",
      "|   15|zesty orange peel...|          riesling|\n",
      "|   16|baked plum, molas...|            malbec|\n",
      "|   17|raw black-cherry ...|            malbec|\n",
      "|   18|desiccated blackb...| tempranillo blend|\n",
      "|   19|red fruit aromas ...|          meritage|\n",
      "|   20|ripe aromas of da...|         red blend|\n",
      "|   21|a sleek mix of ta...|        pinot noir|\n",
      "|   22|delicate aromas r...|       white blend|\n",
      "+-----+--------------------+------------------+\n",
      "only showing top 20 rows\n",
      "\n"
     ]
    }
   ],
   "source": [
    "# load the dataset\n",
    "reviews_sdf = spark.read.parquet('data/reviews_cleaned')\n",
    "reviews_sdf.show()"
   ]
  },
  {
   "cell_type": "markdown",
   "id": "18c5d655-e03c-4307-ac54-840c2cf3a110",
   "metadata": {},
   "source": [
    "## Canonical Words (step 2)\n",
    "\n",
    "As a first feature engineering step we will take the text in the `description` column and convert it to a list of canonical words.\n",
    "\n",
    "Naively, we could simply split the text into single words.\n",
    "However, since words change with declination we need to convert them to a canonical form.\n",
    "The python package [nltk](https://www.nltk.org/) can help us here and we use what is called [Lemmatisation](https://en.wikipedia.org/wiki/Lemmatisation).\n",
    "\n",
    "Also we get rid of common [stopwords](https://en.wikipedia.org/wiki/Stop_words), i.e. words that are common but without relevant information content and we define a custom _blacklist_ of words we are sure will not help us for the prediction.\n",
    "\n",
    "To start, we get common English stopwords from the nltk package:"
   ]
  },
  {
   "cell_type": "code",
   "execution_count": 5,
   "id": "c5d6d7f6-3d1d-4f7e-bf88-3039db774351",
   "metadata": {},
   "outputs": [
    {
     "name": "stderr",
     "output_type": "stream",
     "text": [
      "[nltk_data] Downloading package stopwords to /home/jonas/nltk_data...\n",
      "[nltk_data]   Package stopwords is already up-to-date!\n"
     ]
    }
   ],
   "source": [
    "import nltk\n",
    "nltk.download('stopwords')\n",
    "from nltk.corpus import stopwords\n",
    "# get common english stopwords:\n",
    "en_stopwords = set(stopwords.words('english'))"
   ]
  },
  {
   "cell_type": "markdown",
   "id": "fa71e1a0-2688-4f19-979d-82b497bf60bb",
   "metadata": {},
   "source": [
    "Now we define our own blacklist of words, i.e. words we do not want to include in the tarcking set."
   ]
  },
  {
   "cell_type": "code",
   "execution_count": 6,
   "id": "46f49e33-efa3-488c-ac8c-d49cbce9de91",
   "metadata": {},
   "outputs": [],
   "source": [
    "# our custom blacklist:\n",
    "blacklist = set(['wine', 'drink', 'variety', 'show', 'offer', 'make', 'give', 'well',\n",
    "                 'open', 'come', 'years', 'bottle', 'mouth', 'like', 'also', 'along',\n",
    "                 'alongside', 'vineyard', 'ready', 'great', 'one', 'slightly', 'deliver',\n",
    "                 'yet', 'add', 'need', 'big', 'bring', 'easy', 'oral', 'best', 'end', 'alcohol'])\n",
    "# now we combine it with the stopwords\n",
    "stop_words = list(en_stopwords.union(blacklist))"
   ]
  },
  {
   "cell_type": "markdown",
   "id": "fd1566b1-a6e5-4330-95ff-c72f34f05377",
   "metadata": {},
   "source": [
    "Up next we need to write a routine that processes the text in the `description` column by lemmatizing the words and creating a set of words that occur.\n",
    "\n",
    "Also for this we define a custom transformer, we'll call _NLTKLemmatizer_, by sub-classing pyspark's [Transformer](https://spark.apache.org/docs/3.1.1/api/python/reference/api/pyspark.ml.Transformer.html).\n",
    "\n",
    "The class is defined in [./reviewed_grapes/transformers.py](./reviewed_grapes/transformers.py) and can simply be used like any other pyspark Transformer:"
   ]
  },
  {
   "cell_type": "code",
   "execution_count": 7,
   "id": "5d7d8d8f-f970-47a3-b72a-1b948deffa5f",
   "metadata": {},
   "outputs": [
    {
     "name": "stderr",
     "output_type": "stream",
     "text": [
      "[nltk_data] Downloading package punkt to /home/jonas/nltk_data...\n",
      "[nltk_data]   Package punkt is already up-to-date!\n",
      "[nltk_data] Downloading package wordnet to /home/jonas/nltk_data...\n",
      "[nltk_data]   Package wordnet is already up-to-date!\n"
     ]
    }
   ],
   "source": [
    "# import the custom Transformer class\n",
    "from reviewed_grapes.transformers import NLTKLemmatizer\n",
    "# instatiate our transformer:\n",
    "nltkl = NLTKLemmatizer(inputCol='description', outputCol='words', stopWords=stop_words)"
   ]
  },
  {
   "cell_type": "code",
   "execution_count": 8,
   "id": "786851b9-a6bb-4ea7-bd37-9225a92bb047",
   "metadata": {},
   "outputs": [
    {
     "name": "stdout",
     "output_type": "stream",
     "text": [
      "Text:\n",
      "\taromas include tropical fruit, broom, brimstone and dried herb. the palate isn't overly expressive, offering unripened apple, citrus and dried sage alongside brisk acidity.\n",
      "Lemmatized Words:\n",
      "\t['herb', 'overly', 'offer', 'tropical', 'expressive', 'include', 'broom', 'unripened', 'aromas', 'palate', 'brimstone', 'sage', 'dry', 'brisk', 'fruit', 'acidity', 'apple', 'citrus']\n",
      "\n",
      "\n",
      "Text:\n",
      "\tthis is ripe and fruity, a wine that is smooth while still structured. firm tannins are filled out with juicy red berry fruits and freshened with acidity. it's  already drinkable, although it will certainly be better from 2016.\n",
      "Lemmatized Words:\n",
      "\t['still', 'better', 'certainly', 'drinkable', 'fruit', 'fill', 'fruity', 'structure', 'berry', 'freshen', 'acidity', 'firm', 'ripe', 'juicy', 'tannins', 'although', 'smooth', 'already', 'red']\n",
      "\n",
      "\n",
      "Text:\n",
      "\ttart and snappy, the flavors of lime flesh and rind dominate. some green pineapple pokes through, with crisp acidity underscoring the flavors. the wine was all stainless-steel fermented.\n",
      "Lemmatized Words:\n",
      "\t['poke', 'flavor', 'ferment', 'flesh', 'lime', 'pineapple', 'underscore', 'acidity', 'tart', 'green', 'crisp', 'snappy', 'rind', 'dominate']\n",
      "\n",
      "\n",
      "Text:\n",
      "\tpineapple rind, lemon pith and orange blossom start off the aromas. the palate is a bit more opulent, with notes of honey-drizzled guava and mango giving way to a slightly astringent, semidry finish.\n",
      "Lemmatized Words:\n",
      "\t['opulent', 'aromas', 'palate', 'mango', 'astringent', 'start', 'pineapple', 'pith', 'note', 'way', 'guava', 'give', 'lemon', 'bite', 'finish', 'rind', 'orange', 'blossom', 'semidry']\n",
      "\n",
      "\n",
      "Text:\n",
      "\tmuch like the regular bottling from 2012, this comes across as rather rough and tannic, with rustic, earthy, herbal characteristics. nonetheless, if you think of it as a pleasantly unfussy country wine, it's a good companion to a hearty winter stew.\n",
      "Lemmatized Words:\n",
      "\t['bottle', 'winter', 'stew', 'unfussy', 'rough', 'earthy', 'rustic', 'companion', 'hearty', 'regular', 'herbal', 'come', 'across', 'characteristics', 'nonetheless', 'good', 'tannic', 'rather', 'much', 'think', 'pleasantly', 'country']\n",
      "\n",
      "\n"
     ]
    }
   ],
   "source": [
    "cannonical = nltkl.transform(reviews_sdf).select('description', 'words')\n",
    "for row in cannonical.take(5):\n",
    "    description, words = row\n",
    "    print(\"Text:\\n\\t%s\\nLemmatized Words:\\n\\t%s\\n\\n\" % (description, words))"
   ]
  },
  {
   "cell_type": "markdown",
   "id": "ca90b9a7-943a-4449-b370-9155d10ba046",
   "metadata": {},
   "source": [
    "**So we can simply include an instance of our `NLTKLemmatizer` when we define a pipeline in our model definition.**\n",
    "\n",
    "---\n",
    "\n",
    "## Target Word Set\n",
    "\n",
    "This concerns stage 3 in our approach.\n",
    "Basically, we need to create a set of words to track.\n",
    "\n",
    "In what follows we explore different ways to do so.\n",
    "\n",
    "### Most Common Words\n",
    "\n",
    "In this case our target word set simply consists of the _x_-most commonly used words in the review texts.\n",
    "There is no ready made function in pyspark that would allow to compute such list, so we write one and wrap it into a custom [Estimator](https://spark.apache.org/docs/3.1.1/api/python/reference/api/pyspark.ml.Estimator.html) just like we did for the `MarginalMaximizer` in our [Baseline Model](reviewed_grapes.baseline.model_def.pyspark.v1.ipynb).\n",
    "\n",
    "Our custom `WordSetTracker` is defined [utils/Estimators.py](./utils/Estimators.py)"
   ]
  },
  {
   "cell_type": "code",
   "execution_count": 9,
   "id": "ea673432-85dd-4111-9080-7bfd40002f58",
   "metadata": {},
   "outputs": [],
   "source": [
    "# import the custom estimator\n",
    "from utils.Estimators import WordSetTracker"
   ]
  },
  {
   "cell_type": "code",
   "execution_count": 10,
   "id": "8b17beaa-d816-4b28-97c1-f138a31646ae",
   "metadata": {
    "tags": []
   },
   "outputs": [],
   "source": [
    "# how long should the list of most common words be?\n",
    "nbrWords = 1000\n",
    "# initiate the estimator\n",
    "wst = WordSetTracker(inputCol='words', outputCol='features', limitTo=nbrWords)"
   ]
  },
  {
   "cell_type": "markdown",
   "id": "b50cbac5-6e85-47ef-bb78-4deb48c62f7c",
   "metadata": {},
   "source": [
    "Let's process our dataset and see what we get:"
   ]
  },
  {
   "cell_type": "code",
   "execution_count": 11,
   "id": "8ecb73d4-6765-45ec-a551-dd16533514c6",
   "metadata": {},
   "outputs": [
    {
     "name": "stdout",
     "output_type": "stream",
     "text": [
      "CPU times: user 81.7 ms, sys: 5.47 ms, total: 87.2 ms\n",
      "Wall time: 1min 11s\n"
     ]
    }
   ],
   "source": [
    "%%time\n",
    "preview_model = Pipeline(stages=[nltkl, wst]).fit(reviews_sdf)"
   ]
  },
  {
   "cell_type": "markdown",
   "id": "785819f1-6664-4d76-ac7d-b039772d1add",
   "metadata": {},
   "source": [
    "We can now access the attributes `wordSet` and `wordCount` from our custom estimator and do some exploration:"
   ]
  },
  {
   "cell_type": "code",
   "execution_count": 12,
   "id": "abdd791b-27ad-4b97-85fa-8a825fde752f",
   "metadata": {},
   "outputs": [],
   "source": [
    "wst_model = preview_model.stages[1]\n",
    "word_set = wst_model.getWordSet()\n",
    "word_count = wst_model.getWordCount()"
   ]
  },
  {
   "cell_type": "code",
   "execution_count": 13,
   "id": "c4b4df2c-00ef-4eb5-8341-6512f69d6c1e",
   "metadata": {},
   "outputs": [],
   "source": [
    "# Save the list for later use\n",
    "with open('data/targetWordSets/common_words.json', 'w') as fo:\n",
    "    json.dump(word_set, fo)"
   ]
  },
  {
   "cell_type": "code",
   "execution_count": 15,
   "id": "e4bcf0ec-bb04-413c-880d-eef3c34c1ee2",
   "metadata": {},
   "outputs": [
    {
     "data": {
      "text/markdown": [
       "\n",
       "#### 100 most used words and how often they occur in reviews"
      ],
      "text/plain": [
       "<IPython.core.display.Markdown object>"
      ]
     },
     "metadata": {},
     "output_type": "display_data"
    },
    {
     "data": {
      "image/png": "[encoded data removed]",
      "text/plain": [
       "<Figure size 2520x720 with 1 Axes>"
      ]
     },
     "metadata": {
      "needs_background": "light"
     },
     "output_type": "display_data"
    }
   ],
   "source": [
    "# let's have a look at the top most common words\n",
    "word_set = word_set[:100]\n",
    "word_count = word_count[:100]\n",
    "display(Markdown(f'\\n#### {len(word_set)} most used words and how often they occur in reviews'))\n",
    "fig, ax = plt.subplots(figsize=(35, 10))\n",
    "ax.bar(word_set, word_count)\n",
    "plt.xticks(rotation=45, fontsize='x-large', ha='right', va='top', rotation_mode='anchor')\n",
    "ax.set_ylabel('# reviews', fontweight='bold', fontsize='x-large')\n",
    "plt.show()"
   ]
  },
  {
   "cell_type": "markdown",
   "id": "e6a98f19-867b-4723-9256-cf118fa216f5",
   "metadata": {},
   "source": [
    "So far so good!\n",
    "\n",
    "**With our custom estimator, `WordSetTracker`, we can compute the list of most common words.**\n",
    "\n",
    "So also this step can now simply be included in a Pipeline.\n",
    "\n",
    "---\n",
    "\n",
    "### Word2Vec Based\n",
    "\n",
    "Now to the fun part!\n",
    "\n",
    "**Here we implement a deep learning model**, a variation of an auto-encoder to be clear, that will allow us to embed all canonical words in the review texts, as well as, all the wine varieties into a vector space.\n",
    "\n",
    "Based on this vector space we then assess the similarity between words and wine varieties and compile target words set based on similarity considerations.\n",
    "\n",
    "---\n",
    "**Note:** Spark implements its own [Word2Vec](https://spark.apache.org/docs/latest/api/python/reference/api/pyspark.ml.feature.Word2Vec.html) estimator, which makes things rather easy and allows  a seamless pipeline-syntax.\n",
    "We use this estimator here in our feature creation.\n",
    "However, **an implementation in [keras](https://keras.io/) and one in [elephas](https://github.com/maxpumperla/elephas) (allowing to run keras on spark) are also implemented.**\n",
    "\n",
    "The keras + elephas implementation can be found in [reviewed_grapes.feature_eng_SI.pyspark_keras_elephas.v1.ipynb](reviewed_grapes.feature_eng_SI.pyspark_keras_elephas.v1.ipynb).\n",
    "___\n"
   ]
  },
  {
   "cell_type": "markdown",
   "id": "d0c7d219-37cd-49d4-97fa-e188d1c4f1a7",
   "metadata": {},
   "source": [
    "\n",
    "To start, we first get the dataset ready.\n",
    "Here we will already run the `WordSetTracker` once with a high number of most common words, i.e. 5000.\n",
    "This is to limit the number of word-pairs we create for our word-2-vector encoding."
   ]
  },
  {
   "cell_type": "code",
   "execution_count": 5,
   "id": "762a058d-ce59-4108-9c8b-f49b26d5283d",
   "metadata": {},
   "outputs": [
    {
     "name": "stderr",
     "output_type": "stream",
     "text": [
      "[nltk_data] Downloading package punkt to /home/jonas/nltk_data...\n",
      "[nltk_data]   Package punkt is already up-to-date!\n",
      "[nltk_data] Downloading package wordnet to /home/jonas/nltk_data...\n",
      "[nltk_data]   Package wordnet is already up-to-date!\n"
     ]
    }
   ],
   "source": [
    "from reviewed_grapes.transformers import NLTKLemmatizer\n",
    "from utils.Estimators import WordSetTracker\n",
    "# Index the labels:\n",
    "si = StringIndexer(inputCol='variety', outputCol='label', handleInvalid='keep')\n",
    "# Create canonical word list\n",
    "from nltk.corpus import stopwords\n",
    "# get common english stopwords:\n",
    "en_stopwords = set(stopwords.words('english'))\n",
    "blacklist = set(['wine', 'drink', 'variety', 'show', 'offer', 'make', 'give', 'well',\n",
    "                 'open', 'come', 'years', 'bottle', 'mouth', 'like', 'also', 'along',\n",
    "                 'alongside', 'vineyard', 'ready', 'great', 'one', 'slightly', 'deliver',\n",
    "                 'yet', 'add', 'need', 'big', 'bring', 'easy', 'oral', 'best', 'end', 'alcohol'])\n",
    "stop_words = list(en_stopwords.union(blacklist))\n",
    "nltkl = NLTKLemmatizer(inputCol='description', outputCol='words', stopWords=stop_words)\n",
    "# Set up a pipeline\n",
    "prep_ppl = Pipeline(stages=[si, nltkl])"
   ]
  },
  {
   "cell_type": "code",
   "execution_count": 6,
   "id": "01cf0349-6af6-4300-8529-8499b61dd37e",
   "metadata": {},
   "outputs": [
    {
     "name": "stdout",
     "output_type": "stream",
     "text": [
      "CPU times: user 16.3 ms, sys: 4.07 ms, total: 20.4 ms\n",
      "Wall time: 1.76 s\n"
     ]
    }
   ],
   "source": [
    "%%time\n",
    "prep_nltk_fitted = prep_ppl.fit(reviews_sdf)\n",
    "nltk_ready = prep_nltk_fitted.transform(reviews_sdf)"
   ]
  },
  {
   "cell_type": "markdown",
   "id": "6bb67023-2f7b-4e22-ad9b-0cd663bf18c7",
   "metadata": {},
   "source": [
    "**Considerations:**\n",
    "\n",
    "Since our dataset is not balanced and we have many more reviews for certain wine varieties,\n",
    "we would also pick-up this bias towards certain wine varieties in our word-2-vector encoding.\n",
    "\n",
    "To avoid this we create a balanced dataset and use this dataset for the word encoding.\n",
    "Creating a balanced dataset can be achieved by stratified sampling, however, if we do so,\n",
    "we will ignore some samples for the more frequent wine varieties.\n",
    "To avoid this, we adapt another approach and 'upscale' our dataset.\n",
    "In particular we resample the entries for each wine variety until each wine variety has the same number of samples.\n",
    "Note that all wine varieties will simply keep all its samples and that, with the exception of the most common one, \n",
    "all varieties will have some of their samples duplicated."
   ]
  },
  {
   "cell_type": "code",
   "execution_count": 7,
   "id": "d2e30ad9-31b5-432e-8f86-a9dfe2d13518",
   "metadata": {},
   "outputs": [
    {
     "name": "stdout",
     "output_type": "stream",
     "text": [
      "target_count=12277\n"
     ]
    }
   ],
   "source": [
    "# StringIndexer is rather helpful as it associates the index 0.0 to the most common lable.\n",
    "# We can thus easily get to count of the most common label with: \n",
    "target_count = nltk_ready.filter(nltk_ready.label==0.0).count()\n",
    "print(f'{target_count=}')"
   ]
  },
  {
   "cell_type": "markdown",
   "id": "4746480d-9191-4ed0-b1ba-61f4150f1a7d",
   "metadata": {},
   "source": [
    "Now we will 'upscale' the number of samples for any other label, in order to get the same count for each label.\n",
    "We do this by sampling with replacement:"
   ]
  },
  {
   "cell_type": "code",
   "execution_count": 8,
   "id": "afb7fa98-3467-4727-a252-5e112e56a5ef",
   "metadata": {
    "tags": []
   },
   "outputs": [
    {
     "name": "stdout",
     "output_type": "stream",
     "text": [
      "total_count=108234\n",
      "upsacling label=1.0\t duplicated 1410 entries\n",
      "upsacling label=2.0\t duplicated 3439 entries\n",
      "upsacling label=3.0\t duplicated 4036 entries\n",
      "upsacling label=4.0\t duplicated 5808 entries\n",
      "upsacling label=5.0\t duplicated 7504 entries\n",
      "upsacling label=6.0\t duplicated 7702 entries\n",
      "upsacling label=7.0\t duplicated 8451 entries\n",
      "upsacling label=8.0\t duplicated 9057 entries\n",
      "upsacling label=9.0\t duplicated 9381 entries\n",
      "upsacling label=10.0\t duplicated 9675 entries\n",
      "upsacling label=11.0\t duplicated 9747 entries\n",
      "upsacling label=12.0\t duplicated 9817 entries\n",
      "upsacling label=13.0\t duplicated 9831 entries\n",
      "upsacling label=14.0\t duplicated 9995 entries\n",
      "upsacling label=15.0\t duplicated 10098 entries\n",
      "upsacling label=16.0\t duplicated 10306 entries\n",
      "upsacling label=17.0\t duplicated 10606 entries\n",
      "upsacling label=18.0\t duplicated 10934 entries\n",
      "upsacling label=19.0\t duplicated 10953 entries\n",
      "upsacling label=20.0\t duplicated 10969 entries\n",
      "upsacling label=21.0\t duplicated 11034 entries\n",
      "upsacling label=22.0\t duplicated 11077 entries\n",
      "upsacling label=23.0\t duplicated 11220 entries\n",
      "upsacling label=24.0\t duplicated 11284 entries\n",
      "upsacling label=25.0\t duplicated 11297 entries\n",
      "upsacling label=26.0\t duplicated 11337 entries\n",
      "upsacling label=27.0\t duplicated 11351 entries\n",
      "upsacling label=28.0\t duplicated 11355 entries\n",
      "upsacling label=29.0\t duplicated 11487 entries\n",
      "upsacling label=30.0\t duplicated 11575 entries\n",
      "upsacling label=31.0\t duplicated 11581 entries\n",
      "upsacling label=32.0\t duplicated 11631 entries\n",
      "upsacling label=33.0\t duplicated 11633 entries\n",
      "upsacling label=34.0\t duplicated 11649 entries\n",
      "upsacling label=35.0\t duplicated 11670 entries\n",
      "upsacling label=36.0\t duplicated 11703 entries\n",
      "upsacling label=37.0\t duplicated 11724 entries\n",
      "upsacling label=38.0\t duplicated 11731 entries\n",
      "upsacling label=39.0\t duplicated 11744 entries\n",
      "upsacling label=40.0\t duplicated 11843 entries\n",
      "upsacling label=41.0\t duplicated 11882 entries\n",
      "upsacling label=42.0\t duplicated 11882 entries\n",
      "upsacling label=43.0\t duplicated 11938 entries\n",
      "upsacling label=44.0\t duplicated 11947 entries\n",
      "upsacling label=45.0\t duplicated 11953 entries\n",
      "upsacling label=46.0\t duplicated 11969 entries\n",
      "upsacling label=47.0\t duplicated 11995 entries\n",
      "upsacling label=48.0\t duplicated 12011 entries\n",
      "upsacling label=49.0\t duplicated 12021 entries\n",
      "upsacling label=50.0\t duplicated 12023 entries\n",
      "upsacling label=51.0\t duplicated 12030 entries\n",
      "upsacling label=52.0\t duplicated 12037 entries\n",
      "upsacling label=53.0\t duplicated 12043 entries\n",
      "upsacling label=54.0\t duplicated 12048 entries\n",
      "upsacling label=55.0\t duplicated 12064 entries\n",
      "upsacling label=56.0\t duplicated 12067 entries\n",
      "CPU times: user 2.2 s, sys: 274 ms, total: 2.47 s\n",
      "Wall time: 3min 47s\n"
     ]
    }
   ],
   "source": [
    "%%time\n",
    "# get all different labels present (i.e. all wine varieties)\n",
    "all_labels = sorted(np.array(nltk_ready.select('label').distinct().collect()).reshape(-1))\n",
    "# number of different labels (i.e. varieties)\n",
    "nbr_labels = len(all_labels)\n",
    "total_count = nltk_ready.count()\n",
    "print(f'{total_count=}')\n",
    "# we construct a new dataset that will hold the balanced review data\n",
    "nltk_upscaled = nltk_ready.alias('w2v_upscaled')\n",
    "# now we process each label\n",
    "# (with the exception of the first as there is nothing to do)\n",
    "for label in all_labels[1:]:\n",
    "    label_entries = nltk_ready.filter(nltk_ready.label==label)\n",
    "    nbr_entries = label_entries.count()\n",
    "    needed = target_count - nbr_entries\n",
    "    upscale_factor = needed / nbr_entries\n",
    "    # now we sample\n",
    "    new_entries = nltk_ready.sample(True, upscale_factor).take(needed)\n",
    "    nltk_upscaled = nltk_upscaled.union(sc.parallelize(new_entries).toDF())\n",
    "    added = len(new_entries)\n",
    "    print(f'upsacling {label=}\\t duplicated {added} entries')"
   ]
  },
  {
   "cell_type": "markdown",
   "id": "f3279af0-420a-4b41-94ea-bb6466593ef5",
   "metadata": {},
   "source": [
    "Now we can get the word count from the balanced dataset"
   ]
  },
  {
   "cell_type": "code",
   "execution_count": 9,
   "id": "c97f40d5-399a-4db8-9071-151a7a48f419",
   "metadata": {},
   "outputs": [],
   "source": [
    "# Compute list of most common words\n",
    "# (we use indexWords=False to create a list of words instead of features)\n",
    "nbrWords = 1000\n",
    "wst = WordSetTracker(inputCol='words', outputCol='word_list',\n",
    "                     limitTo=nbrWords, indexWords=False)"
   ]
  },
  {
   "cell_type": "code",
   "execution_count": 10,
   "id": "0db0797a-7924-4f03-9e08-d1c57f4a0013",
   "metadata": {},
   "outputs": [
    {
     "name": "stdout",
     "output_type": "stream",
     "text": [
      "CPU times: user 181 ms, sys: 34.3 ms, total: 215 ms\n",
      "Wall time: 1min 23s\n"
     ]
    }
   ],
   "source": [
    "%%time\n",
    "nltk_upscaled = nltk_upscaled.union(sc.parallelize(new_entries).toDF())\n",
    "wst_fitted = wst.fit(nltk_upscaled)\n",
    "w2v_upscaled = wst_fitted.transform(nltk_upscaled)"
   ]
  },
  {
   "cell_type": "markdown",
   "id": "f9e735e4-3351-40af-a75c-65ad3d58dc9f",
   "metadata": {},
   "source": [
    "Now with `w2v_upscaled` we have created a balanced dataset in that each wine variety has the exact same number of reviews.\n",
    "\n",
    "Based on this dataset we now construct word pairs that we can use to train our word2vec encoding with.\n",
    "\n",
    "We would do this yet again in another custom Transformer method.\n",
    "However, since we do this step only once in your feature creation and it won't be a part in our model definition later on (only the resulting target words sets will be) we implement this transformation here, directly:"
   ]
  },
  {
   "cell_type": "code",
   "execution_count": 11,
   "id": "53e9806b-fc87-4484-b389-d2d83afcb246",
   "metadata": {},
   "outputs": [
    {
     "name": "stdout",
     "output_type": "stream",
     "text": [
      "+---------------------------------------------------------------------------------------------------------------------------------------------------------------------------------------------------------------------------------------------------------------------------------------------------------------------------------------------------------------------------------------------------------------------------------+\n",
      "|w2v_sentence                                                                                                                                                                                                                                                                                                                                                                                                                     |\n",
      "+---------------------------------------------------------------------------------------------------------------------------------------------------------------------------------------------------------------------------------------------------------------------------------------------------------------------------------------------------------------------------------------------------------------------------------+\n",
      "|[fruit, white blend, aromas, white blend, palate, white blend, acidity, white blend, dry, white blend, offer, white blend, apple, white blend, citrus, white blend, herb, white blend, tropical, white blend, sage, white blend, brisk, white blend, include, white blend, overly, white blend, expressive]                                                                                                                      |\n",
      "|[fruit, portuguese red, acidity, portuguese red, tannins, portuguese red, ripe, portuguese red, berry, portuguese red, red, portuguese red, structure, portuguese red, juicy, portuguese red, firm, portuguese red, fruity, portuguese red, smooth, portuguese red, still, portuguese red, although, portuguese red, better, portuguese red, fill, portuguese red, already, portuguese red, drinkable, portuguese red, certainly]|\n",
      "|[flavor, pinot gris, acidity, pinot gris, crisp, pinot gris, green, pinot gris, tart, pinot gris, lime, pinot gris, pineapple, pinot gris, dominate, pinot gris, ferment, pinot gris, rind, pinot gris, snappy, pinot gris, flesh]                                                                                                                                                                                               |\n",
      "|[aromas, riesling, finish, riesling, palate, riesling, note, riesling, lemon, riesling, bite, riesling, give, riesling, orange, riesling, pineapple, riesling, way, riesling, start, riesling, blossom, riesling, opulent, riesling, mango, riesling, astringent, riesling, rind, riesling, pith, riesling, guava]                                                                                                               |\n",
      "+---------------------------------------------------------------------------------------------------------------------------------------------------------------------------------------------------------------------------------------------------------------------------------------------------------------------------------------------------------------------------------------------------------------------------------+\n",
      "only showing top 4 rows\n",
      "\n"
     ]
    }
   ],
   "source": [
    "# Create a user defined function to zip the variety into the list of canonical words\n",
    "@udf(returnType=ArrayType(StringType()))\n",
    "def w2v_sentence(words_list, variety):\n",
    "    _sep = '  '  # we use 2 spaces here as some varieties also contain ' '\n",
    "    return f'{_sep}{variety}{_sep}'.join(words_list).split(_sep)\n",
    "# Cerate the new column\n",
    "w2v_upscaled = w2v_upscaled.withColumn('w2v_sentence',\n",
    "                                       w2v_sentence(w2v_upscaled['word_list'],\n",
    "                                                    w2v_upscaled['variety']))\n",
    "w2v_upscaled.select('w2v_sentence').show(4, truncate=False)"
   ]
  },
  {
   "cell_type": "markdown",
   "id": "837266ec-9df6-4218-a556-7d0b6a2f664c",
   "metadata": {},
   "source": [
    "So the column `'w2v_sentence'` consists of a list where every other word belongs to the review text with always the wine variety in-between.\n",
    "\n",
    "If we pass this column to pyspark's [Word2Vec](https://spark.apache.org/docs/latest/api/python/reference/api/pyspark.ml.feature.Word2Vec.html) with a `windowSize` of 1 then we train the model exclusively with word-variety pairs, which is exactly what we want:"
   ]
  },
  {
   "cell_type": "code",
   "execution_count": 12,
   "id": "12ab91d0-ccc7-4a98-bda4-f2e5ab1139e5",
   "metadata": {},
   "outputs": [],
   "source": [
    "# Import the Word2Vec model\n",
    "from pyspark.ml.feature import Word2Vec\n",
    "# Initiate it with windowSize=1\n",
    "w2v = Word2Vec(inputCol='w2v_sentence', outputCol='result',\n",
    "               windowSize=1, vectorSize=50, minCount=10,\n",
    "               maxIter=5)"
   ]
  },
  {
   "cell_type": "code",
   "execution_count": null,
   "id": "e2b124b6-4017-443d-88e3-05ae548cc5fe",
   "metadata": {},
   "outputs": [],
   "source": [
    "%%time\n",
    "# Now we train the model\n",
    "w2v_model_fitted = w2v.fit(w2v_upscaled)"
   ]
  },
  {
   "cell_type": "code",
   "execution_count": 14,
   "id": "1fb51659-41b8-4110-9213-af46481c218c",
   "metadata": {},
   "outputs": [],
   "source": [
    "w2v_model_fitted.write().overwrite().save(f'data/interim/w2v_fitted_model_{nbrWords}words')"
   ]
  },
  {
   "cell_type": "markdown",
   "id": "1833cf42-8456-4aa3-a16a-762a8dbcd0f6",
   "metadata": {},
   "source": [
    "**We can now use the fitted model `w2v_model_fitted` to generate different target words sets.**\n",
    "\n",
    "We could extract the vector representation of each word and variety, however, what we really care about it the similarity between them.\n",
    "Luckily, spark's Word2Vec allows to directly assess the  [cosin simiarlity](https://en.wikipedia.org/wiki/Cosine_similarity), which is a common way to measure similarities between vectors and is basically the cosine of the angle between two vectors (so independent on their length).\n",
    "\n",
    "Spark's Word2Vec model uses the cosine similarity in its [findSynonyms](https://spark.apache.org/docs/latest/api/python/reference/api/pyspark.ml.feature.Word2VecModel.html#pyspark.ml.feature.Word2VecModel.findSynonyms), so we directly work with this method.\n",
    "\n",
    "Since we will loop repeatedly over all varieties and all distinct canonical words, we create sets for them:"
   ]
  },
  {
   "cell_type": "code",
   "execution_count": 20,
   "id": "0937ee78-61ac-4fb8-9d89-2de7ef1fb485",
   "metadata": {},
   "outputs": [],
   "source": [
    "# we loop over the original ds since upscaling does not add any new words/varieties\n",
    "varieties = list(np.array(\n",
    "    nltk_ready.select('variety').distinct().collect()\n",
    ").reshape(-1))\n",
    "words = [np.array(wds).reshape(-1)\n",
    "         for wds in nltk_ready.select('words').distinct().collect()]\n",
    "word_set = set()\n",
    "for wds in words:\n",
    "    word_set = word_set.union(wds)"
   ]
  },
  {
   "cell_type": "markdown",
   "id": "06818bff-d8a2-4010-bbc5-a1e2db69c0ff",
   "metadata": {},
   "source": [
    "---\n",
    "#### Similar Words\n",
    "\n",
    "For each of the varieties we want to get the most similar words and use them as our target words set:"
   ]
  },
  {
   "cell_type": "code",
   "execution_count": 21,
   "id": "c0085821-b0d8-4658-bfd2-ab310591a06e",
   "metadata": {},
   "outputs": [
    {
     "name": "stdout",
     "output_type": "stream",
     "text": [
      "CPU times: user 1.84 s, sys: 274 ms, total: 2.11 s\n",
      "Wall time: 8.18 s\n"
     ]
    }
   ],
   "source": [
    "%%time\n",
    "# how many sinonyms should be fetched\n",
    "fetch = 1000\n",
    "variety_syno = {}\n",
    "for variety in varieties:\n",
    "    synonyms = w2v_model_fitted.findSynonyms(variety, fetch)\n",
    "    # we want to exclude other varieties:\n",
    "    # we take both the word and the similarity to avoid resorting\n",
    "    variety_syno[variety] = list(np.array(synonyms.filter(\n",
    "        ~col('word').isin(varieties)\n",
    "    ).select('word', 'similarity').collect()).reshape(-1))\n",
    "# Now we drop the similarity values and invert the list\n",
    "variety_syno = {var: sins[-2::-2] for var, sins in variety_syno.items()}"
   ]
  },
  {
   "cell_type": "markdown",
   "id": "7a84d04f-1780-42b0-a538-56bfcdd74e30",
   "metadata": {},
   "source": [
    "**We're ready to create our target list of most _similar_ words!**"
   ]
  },
  {
   "cell_type": "code",
   "execution_count": 22,
   "id": "6aa752f5-e28f-477f-9915-c09f4d8046e7",
   "metadata": {},
   "outputs": [],
   "source": [
    "# this will hold the most similar words, alwasy 1 per variety\n",
    "similar_words = list()\n",
    "# loop over the varieties as long as \n",
    "# we have words to add (IndexError if a synonym list is empyt)\n",
    "while any(len(valsims) for valsims in variety_syno.values()):\n",
    "    for variety in varieties:\n",
    "        variety_sims = variety_syno[variety]\n",
    "        if variety_sims:\n",
    "            word = variety_sims.pop()\n",
    "            while word in similar_words and variety_sims:\n",
    "                word = variety_sims.pop()\n",
    "    if word not in similar_words:\n",
    "        similar_words.append(word)"
   ]
  },
  {
   "cell_type": "code",
   "execution_count": 23,
   "id": "3ea56650-6709-4cb9-bdb5-6825f854e345",
   "metadata": {},
   "outputs": [
    {
     "data": {
      "text/markdown": [
       "In the end we get a list of **945 most similar words**."
      ],
      "text/plain": [
       "<IPython.core.display.Markdown object>"
      ]
     },
     "metadata": {},
     "output_type": "display_data"
    }
   ],
   "source": [
    "display(Markdown(f'In the end we get a list of **{len(similar_words)} most similar words**.'))"
   ]
  },
  {
   "cell_type": "code",
   "execution_count": 24,
   "id": "04e840d6-83b3-45e5-84fb-73f09225d85e",
   "metadata": {},
   "outputs": [],
   "source": [
    "# Save the list for later use\n",
    "with open('data/targetWordSets/similar_words.json', 'w') as fo:\n",
    "    json.dump(similar_words, fo)"
   ]
  },
  {
   "cell_type": "markdown",
   "id": "4edcde80-3196-46e8-a1a0-828ceb2e20a3",
   "metadata": {},
   "source": [
    "---\n",
    "#### Dissimilar Words\n",
    "\n",
    "For this case we are interested in word(-vectors) as dissimilar as possible to our wine variety(-vectors).\n",
    "In terms of vectors this translates to: \n",
    "We are looking for vectors that point into a direction opposite to the one of the variety(-vectors). So, we are looking for word(-vectors) with a high similarity to the inverse of variety(-vectors).\n",
    "\n",
    "Basically simply invert each variety(-vector) and find the most similar word(-vectors) for the inverted vector:"
   ]
  },
  {
   "cell_type": "code",
   "execution_count": 25,
   "id": "d8ec2ee2-4d61-48ad-a0f4-e6a57fadf86d",
   "metadata": {},
   "outputs": [
    {
     "name": "stdout",
     "output_type": "stream",
     "text": [
      "CPU times: user 1.9 s, sys: 310 ms, total: 2.21 s\n",
      "Wall time: 8.64 s\n"
     ]
    }
   ],
   "source": [
    "%%time\n",
    "# how many sinonyms should be fetched\n",
    "fetch = 1000\n",
    "variety_anto = {}\n",
    "for variety in varieties:\n",
    "    # get the vecotr representation of the variety\n",
    "    var_vector = np.array(\n",
    "        w2v_model_fitted.getVectors().filter(col('word')==variety).first()[1]\n",
    "    )\n",
    "    # invert it\n",
    "    inverted = (-1) * var_vector\n",
    "    # and now it's same same as for the similar words...\n",
    "    synonyms = w2v_model_fitted.findSynonyms(inverted, fetch)\n",
    "    # we want to exclude other varieties:\n",
    "    # we take both the word and the similarity to avoid resorting\n",
    "    variety_anto[variety] = list(np.array(synonyms.filter(\n",
    "        ~col('word').isin(varieties)\n",
    "    ).select('word', 'similarity').collect()).reshape(-1))\n",
    "# Now we drop the similarity values and invert the list\n",
    "variety_anto = {var: sins[-2::-2] for var, sins in variety_anto.items()}"
   ]
  },
  {
   "cell_type": "markdown",
   "id": "73430bd5-5130-4aeb-9481-fef4fd29f923",
   "metadata": {},
   "source": [
    "**We're ready to create our target list of most _dissimilar_ words!**"
   ]
  },
  {
   "cell_type": "code",
   "execution_count": 26,
   "id": "cafe4c23-4115-484e-926b-cc486677f327",
   "metadata": {},
   "outputs": [],
   "source": [
    "# this will hold the most similar words, alwasy 1 per variety\n",
    "dissimilar_words = list()\n",
    "# loop over the varieties as long as \n",
    "# we have words to add (IndexError if a synonym list is empyt)\n",
    "while any(len(vals) for vals in variety_anto.values()):\n",
    "    for variety in varieties:\n",
    "        var_vals = variety_anto[variety]\n",
    "        if var_vals:\n",
    "            word = var_vals.pop()\n",
    "            while word in dissimilar_words and var_vals:\n",
    "                word = var_vals.pop()\n",
    "    if word not in dissimilar_words:\n",
    "        dissimilar_words.append(word)"
   ]
  },
  {
   "cell_type": "code",
   "execution_count": 27,
   "id": "cc9ff0ed-4ae7-4035-bd3e-a5b8067a229e",
   "metadata": {},
   "outputs": [
    {
     "data": {
      "text/markdown": [
       "In the end we get a list of **957 most dissimilar words**."
      ],
      "text/plain": [
       "<IPython.core.display.Markdown object>"
      ]
     },
     "metadata": {},
     "output_type": "display_data"
    }
   ],
   "source": [
    "display(Markdown(f'In the end we get a list of **{len(dissimilar_words)} most dissimilar words**.'))"
   ]
  },
  {
   "cell_type": "code",
   "execution_count": 28,
   "id": "cd2727eb-f47b-48a4-84f6-6247eb32c634",
   "metadata": {},
   "outputs": [],
   "source": [
    "# Save the list for later use\n",
    "with open('data/targetWordSets/dissimilar_words.json', 'w') as fo:\n",
    "    json.dump(dissimilar_words, fo)"
   ]
  },
  {
   "cell_type": "markdown",
   "id": "7f661ce4-3727-4b6d-abdf-1a4cbdbf4f62",
   "metadata": {},
   "source": [
    "---\n",
    "#### Extremes Word Set\n",
    "\n",
    "This is simply a combination of the list of most similar and most dissimilar words.\n",
    "We combine the two lists like a zipper so that every other word is a similar and in-between are dissimilar words."
   ]
  },
  {
   "cell_type": "code",
   "execution_count": 37,
   "id": "20737e7a-daa3-4fdd-acf3-81e2d6f09b48",
   "metadata": {},
   "outputs": [],
   "source": [
    "from itertools import chain\n",
    "extreme_words = list(chain.from_iterable(zip(similar_words, dissimilar_words)))"
   ]
  },
  {
   "cell_type": "code",
   "execution_count": 38,
   "id": "a1313770-0bda-44c6-af5d-9534e0f904f9",
   "metadata": {},
   "outputs": [
    {
     "name": "stdout",
     "output_type": "stream",
     "text": [
      "['nacional', 'young', 'lavender', 'barrel', 'blueberry', 'complex', 'wood', 'touriga', 'malvasia', 'citrus'] \n",
      " ['otherwise', 'funky', 'grape', 'potent', 'grass', 'sleek', 'source', 'brisk', 'consumption', 'grill'] \n",
      " ['nacional', 'otherwise', 'young', 'funky', 'lavender', 'grape', 'barrel', 'potent', 'blueberry', 'grass']\n"
     ]
    }
   ],
   "source": [
    "# just to check that we got it right:\n",
    "print(similar_words[:10], '\\n', dissimilar_words[:10], '\\n', extreme_words[:10])"
   ]
  },
  {
   "cell_type": "code",
   "execution_count": 39,
   "id": "4e1ba8f7-68f9-418b-99c8-e84dace42500",
   "metadata": {},
   "outputs": [],
   "source": [
    "# Save the list for later use\n",
    "with open('data/targetWordSets/extreme_words.json', 'w') as fo:\n",
    "    json.dump(extreme_words, fo)"
   ]
  },
  {
   "cell_type": "markdown",
   "id": "c4202810-edc1-4ec3-bc63-a28eaf7dc2e3",
   "metadata": {},
   "source": [
    "---\n",
    "#### Low Entropy Word Set\n",
    "\n",
    "Our last target words set is slightly more sophisticated as it is based on a measure for how (un-)even a quantity (the similarity in this case) is distributed.\n",
    "\n",
    "The idea is that a word from the review text will have approximately the same similarity to all wine variety(-vectors) if it occurs in all reviews, no matter the variety.\n",
    "\n",
    "Here we should also recall that we trained our word2vec on an unbiased dataset, `w2v_upscaled`, and thus, if a word is used in every review no matter the wine variety, this word will have the same amount of word-variety pairs for all varieties.\n",
    "Hence we expect it to be equally close to all wine varieties.\n",
    "Said differently, such a word will have a rather uniform distribution of similarity over the variety(-vectors).\n",
    "Also, such a word is not a good candidate for our target words set, as it does not convey any particular information on the wine variety at hand.\n",
    "\n",
    "So ideally we find a ways to measure for each word how (non-)uniform the distribution of similarity with the variety(-vectors) is.\n",
    "\n",
    "The [information entropy](https://en.wikipedia.org/wiki/Entropy_(information_theory)) measures basically this.\n",
    "If a word is equally similar (in terms of cosine similarity) to all wine varieties, its similarity distribution will have a maximal entropy.\n",
    "Consequentially, we identify the words with the lowest entropy in their similarity distribution and use these words in our target word set.\n",
    "\n",
    "We use the [scipy](https://www.scipy.org/) package for an implementation of the information entropy:"
   ]
  },
  {
   "cell_type": "code",
   "execution_count": 40,
   "id": "e0fd199d-b89f-4726-aa6f-d44b18bc93cc",
   "metadata": {},
   "outputs": [],
   "source": [
    "from scipy.stats import entropy as sci_entropy"
   ]
  },
  {
   "cell_type": "markdown",
   "id": "721e12ab-e2a2-4439-aed3-cef7868395ae",
   "metadata": {},
   "source": [
    "Let's get for each word the similarity distribution for variety vectors:"
   ]
  },
  {
   "cell_type": "code",
   "execution_count": 41,
   "id": "812f96b4-8b49-4d90-b78a-07d09d36b97e",
   "metadata": {
    "tags": []
   },
   "outputs": [
    {
     "name": "stdout",
     "output_type": "stream",
     "text": [
      "1046 more to go\n",
      "946 more to go\n",
      "846 more to go\n",
      "746 more to go\n",
      "646 more to go\n",
      "546 more to go\n",
      "446 more to go\n",
      "346 more to go\n",
      "246 more to go\n",
      "146 more to go\n",
      "46 more to go\n",
      "CPU times: user 2min 9s, sys: 55 s, total: 3min 4s\n",
      "Wall time: 3min 49s\n"
     ]
    }
   ],
   "source": [
    "%%time\n",
    "pot_words = []\n",
    "entropies = []\n",
    "encoded_words = list(np.array(\n",
    "    w2v_model_fitted.getVectors().select('word').collect()\n",
    ").reshape(-1))\n",
    "nbr_words = len(encoded_words)\n",
    "for i, word in enumerate(encoded_words):\n",
    "    if not i % 100:\n",
    "        print(f'{nbr_words - i} more to go')\n",
    "    vals = []\n",
    "    if word not in varieties:\n",
    "        synonyms = w2v_model_fitted.findSynonymsArray(word, 10000)\n",
    "        vals = [sim for w, sim in synonyms if w in varieties]\n",
    "        # cosine similarity is [-1,1] so we shift it to [0,2]\n",
    "        # we use `nbr_labels` as log basis to get avalue in [0,1]\n",
    "        entropy = sci_entropy(list(map(lambda x: (x+1), vals)), base=nbr_labels)\n",
    "        pot_words.append(word)\n",
    "        entropies.append(entropy)"
   ]
  },
  {
   "cell_type": "markdown",
   "id": "4d6ca0b3-20f8-4f54-891e-d2cf6d3b0430",
   "metadata": {},
   "source": [
    "Now we have all we need to compile a ranking of relevant words.\n",
    "\n",
    "Our most relevant words are the ones with the lowest entropy:"
   ]
  },
  {
   "cell_type": "code",
   "execution_count": 42,
   "id": "b9c95b9b-4933-49d1-9d66-113c261d26a9",
   "metadata": {
    "tags": []
   },
   "outputs": [],
   "source": [
    "lowentropy_words, relevant_entropies = zip(*sorted(zip(pot_words, entropies),\n",
    "                                                 key=lambda x: x[1]))"
   ]
  },
  {
   "cell_type": "code",
   "execution_count": 43,
   "id": "09dbd4d7-c966-4f8c-ab59-8fb195a98c07",
   "metadata": {
    "tags": []
   },
   "outputs": [
    {
     "data": {
      "text/markdown": [
       "In the end we get a list of **989 low entropy words**."
      ],
      "text/plain": [
       "<IPython.core.display.Markdown object>"
      ]
     },
     "metadata": {},
     "output_type": "display_data"
    }
   ],
   "source": [
    "display(Markdown(f'In the end we get a list of **{len(lowentropy_words)} low entropy words**.'))"
   ]
  },
  {
   "cell_type": "code",
   "execution_count": 44,
   "id": "a999cf76-fe2e-4d18-8395-97f711c8543b",
   "metadata": {},
   "outputs": [],
   "source": [
    "# Save the list for later use\n",
    "with open('data/targetWordSets/lowentropy_words.json', 'w') as fo:\n",
    "    json.dump(lowentropy_words, fo)"
   ]
  },
  {
   "cell_type": "markdown",
   "id": "38971526-6bb3-4322-ac51-69cfa987f546",
   "metadata": {},
   "source": [
    "---"
   ]
  }
 ],
 "metadata": {
  "kernelspec": {
   "display_name": "Python 3",
   "language": "python",
   "name": "python3"
  },
  "language_info": {
   "codemirror_mode": {
    "name": "ipython",
    "version": 3
   },
   "file_extension": ".py",
   "mimetype": "text/x-python",
   "name": "python",
   "nbconvert_exporter": "python",
   "pygments_lexer": "ipython3",
   "version": "3.8.5"
  }
 },
 "nbformat": 4,
 "nbformat_minor": 5
}
